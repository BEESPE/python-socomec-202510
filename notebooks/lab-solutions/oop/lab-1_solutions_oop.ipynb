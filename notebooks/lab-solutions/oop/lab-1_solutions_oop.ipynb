{
 "cells": [
  {
   "cell_type": "markdown",
   "id": "6ad010a9",
   "metadata": {},
   "source": [
    "## Gérer ses livres avec l'OOP"
   ]
  },
  {
   "cell_type": "markdown",
   "id": "8d6c19f4",
   "metadata": {},
   "source": [
    "Créer une classe Book avec les attributs title, author, pages. <br>\n",
    "Ajouter un attribut de classe library_name ayant pour valeur \"BNF\". <br>\n",
    "Ajouter une méthode display_info() qui affiche les informations du livre.\n",
    "Ajouter une méthode is_long_book() qui indique si le livre contient strictement plus de 300 pages."
   ]
  },
  {
   "cell_type": "code",
   "execution_count": null,
   "id": "de3de350",
   "metadata": {},
   "outputs": [],
   "source": [
    "class Book:\n",
    "    library_name = \"BNF\"  # attribut de classe partagé\n",
    "\n",
    "    def __init__(self, title, author, pages):\n",
    "        self.title = title   # attribut d'instance\n",
    "        self.author = author\n",
    "        self.pages = pages\n",
    "\n",
    "    def display_info(self):\n",
    "        # affiche les informations du livre\n",
    "        print(f\"'{self.title}' by {self.author} ({self.library_name})\")\n",
    "\n",
    "    def is_long_book(self):\n",
    "        return self.pages > 300\n"
   ]
  },
  {
   "cell_type": "markdown",
   "id": "f0121139",
   "metadata": {},
   "source": [
    "Instancier deux livres différents Python Basics et Advanced Python (le reste des attributs étant à votre discrétion) et afficher leurs informations. Tester la méthode is_long_book()."
   ]
  },
  {
   "cell_type": "code",
   "execution_count": 2,
   "id": "fba2d5bc",
   "metadata": {},
   "outputs": [
    {
     "name": "stdout",
     "output_type": "stream",
     "text": [
      "'Python Basics' by Alice (Central Library)\n",
      "'Advanced Python' by Bob (Central Library)\n",
      "False\n",
      "True\n"
     ]
    }
   ],
   "source": [
    "book1 = Book(\"Python Basics\", \"Alice\", 250)\n",
    "book2 = Book(\"Advanced Python\", \"Bob\", 400)\n",
    "\n",
    "book1.display_info()   # 'Python Basics' by Alice (Central Library)\n",
    "book2.display_info()   # 'Advanced Python' by Bob (Central Library)\n",
    "\n",
    "print(book1.is_long_book())  # False\n",
    "print(book2.is_long_book())  # True"
   ]
  },
  {
   "cell_type": "markdown",
   "id": "0f913c9f",
   "metadata": {},
   "source": [
    "Ajouter un attribut dynamique 'genre' au premier livre et l'afficher."
   ]
  },
  {
   "cell_type": "code",
   "execution_count": 3,
   "id": "5fcebad3",
   "metadata": {},
   "outputs": [
    {
     "name": "stdout",
     "output_type": "stream",
     "text": [
      "Programming\n"
     ]
    }
   ],
   "source": [
    "book1.genre = \"Programming\"\n",
    "print(book1.genre)  # Programming"
   ]
  },
  {
   "cell_type": "markdown",
   "id": "8eb627b9",
   "metadata": {},
   "source": [
    "Fin de la première partie.\n",
    "\n",
    "-------------------------------------------------------------------------"
   ]
  },
  {
   "cell_type": "markdown",
   "id": "523e3d1d",
   "metadata": {},
   "source": [
    "Créer une sous-classe EBook qui hérite de Book. <br>\n",
    "Ajouter un attribut supplémentaire file_size (en MB). <br>\n",
    "Redéfinir display_info() pour afficher aussi la taille du fichier."
   ]
  },
  {
   "cell_type": "code",
   "execution_count": 4,
   "id": "d6e07dec",
   "metadata": {},
   "outputs": [],
   "source": [
    "class EBook(Book):\n",
    "    def __init__(self, title, author, pages, file_size):\n",
    "        super().__init__(title, author, pages)\n",
    "        self.file_size = file_size\n",
    "\n",
    "    def display_info(self):\n",
    "        print(f\"'{self.title}' by {self.author} ({self.library_name}), File size: {self.file_size} MB\")"
   ]
  },
  {
   "cell_type": "markdown",
   "id": "01779385",
   "metadata": {},
   "source": [
    "Instancier un EBook et tester display_info() et is_long_book()."
   ]
  },
  {
   "cell_type": "code",
   "execution_count": 5,
   "id": "aaffc18e",
   "metadata": {},
   "outputs": [
    {
     "name": "stdout",
     "output_type": "stream",
     "text": [
      "'Python E-Book' by Carol (Central Library), File size: 5 MB\n",
      "True\n"
     ]
    }
   ],
   "source": [
    "ebook1 = EBook(\"Python E-Book\", \"Carol\", 320, 5)\n",
    "ebook1.display_info()  # 'Python E-Book' by Carol (Central Library), File size: 5 MB\n",
    "print(ebook1.is_long_book())  # True"
   ]
  },
  {
   "cell_type": "markdown",
   "id": "ea8a9eae",
   "metadata": {},
   "source": [
    "Modifier library_name pour toutes les instances et tester. <br>\n",
    "Ajouter une méthode add_pages(self, extra_pages) pour ajouter des pages."
   ]
  },
  {
   "cell_type": "code",
   "execution_count": null,
   "id": "3d328896",
   "metadata": {},
   "outputs": [],
   "source": [
    "Book.library_name = \"Downtown Library\"\n",
    "\n",
    "# ajout de la méthode add_pages à Book\n",
    "def add_pages(self, extra_pages):\n",
    "    self.pages += extra_pages\n",
    "\n",
    "Book.add_pages = add_pages\n",
    "\n",
    "book1.display_info()  # vérifier la nouvelle bibliothèque\n",
    "book1.add_pages(50)\n",
    "print(book1.pages)    # pages mises à jour"
   ]
  }
 ],
 "metadata": {
  "kernelspec": {
   "display_name": "Python 3",
   "language": "python",
   "name": "python3"
  },
  "language_info": {
   "codemirror_mode": {
    "name": "ipython",
    "version": 3
   },
   "file_extension": ".py",
   "mimetype": "text/x-python",
   "name": "python",
   "nbconvert_exporter": "python",
   "pygments_lexer": "ipython3",
   "version": "3.13.5"
  }
 },
 "nbformat": 4,
 "nbformat_minor": 5
}
