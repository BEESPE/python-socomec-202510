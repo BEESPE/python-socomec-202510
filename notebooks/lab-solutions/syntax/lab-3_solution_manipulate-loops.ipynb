{
  "cells": [
    {
      "cell_type": "markdown",
      "metadata": {
        "id": "KfrKKtw0CAsL"
      },
      "source": [
        "\n",
        "# <font color=\"purple\"> Manipuler des boucles </font>\n"
      ]
    },
    {
      "cell_type": "markdown",
      "metadata": {
        "id": "T6ESilHlCLiF"
      },
      "source": [
        "## <font color=\"green\">1- Les bases des boucles </font>\n",
        "\n",
        "Afficher tous les éléments de la liste `libraries` (un élément par ligne). Il existe plusieurs manières de faire (avec `for` ou `while`)."
      ]
    },
    {
      "cell_type": "code",
      "execution_count": 1,
      "metadata": {
        "id": "Ve277XBV6Xwc"
      },
      "outputs": [],
      "source": [
        "libraries = [\"numpy\", \"pandas\", \"tensorflow\", \"flask\"]"
      ]
    },
    {
      "cell_type": "code",
      "execution_count": null,
      "metadata": {
        "id": "JjYbriMKCM3n"
      },
      "outputs": [],
      "source": [
        "# Votre code"
      ]
    },
    {
      "cell_type": "markdown",
      "metadata": {
        "id": "I0uHJaVcLEX9"
      },
      "source": [
        "### <font color=\"red\"> Solution </font>"
      ]
    },
    {
      "cell_type": "code",
      "execution_count": null,
      "metadata": {
        "id": "rhwAx5HmLEX-"
      },
      "outputs": [],
      "source": [
        "for library in libraries:\n",
        "    print(library)\n",
        "\n",
        "for i in range(len(libraries)):\n",
        "    print(libraries[i])\n",
        "\n",
        "i = 0\n",
        "while i < len(libraries):\n",
        "    print(libraries[i])\n",
        "    i += 1"
      ]
    },
    {
      "cell_type": "markdown",
      "metadata": {
        "id": "kJoG0SuRCN5U"
      },
      "source": [
        "## <font color=\"green\">2- Les jours de la semaine (le retour) </font>\n",
        "\n",
        "\n",
        "A partir de la variable `week`, écrire une série d'instructions pour afficher les jours de la semaine hors week-end, en utilisant une boucle `for`, puis une série d'instructions pour afficher les jours du week-end, en utilisant une boucle `while`."
      ]
    },
    {
      "cell_type": "code",
      "execution_count": 3,
      "metadata": {
        "id": "oEj_mrBB6Di2"
      },
      "outputs": [],
      "source": [
        "week = [\n",
        "    \"monday\",\n",
        "    \"tuesday\",\n",
        "    \"wednesday\",\n",
        "    \"thursday\",\n",
        "    \"friday\",\n",
        "    \"saturday\",\n",
        "    \"sunday\",\n",
        "]"
      ]
    },
    {
      "cell_type": "code",
      "execution_count": null,
      "metadata": {
        "id": "QV0sYYxdCTHZ"
      },
      "outputs": [],
      "source": [
        "# Votre code"
      ]
    },
    {
      "cell_type": "markdown",
      "metadata": {
        "id": "u8_BWoPxLAJ1"
      },
      "source": [
        "### <font color=\"red\"> Solution </font>"
      ]
    },
    {
      "cell_type": "code",
      "execution_count": 4,
      "metadata": {
        "id": "jupvOQ3dLBzr"
      },
      "outputs": [
        {
          "name": "stdout",
          "output_type": "stream",
          "text": [
            "monday\n",
            "tuesday\n",
            "wednesday\n",
            "thursday\n",
            "friday\n",
            "saturday\n",
            "sunday\n"
          ]
        }
      ],
      "source": [
        "for day in week[:5]:\n",
        "  print(day)\n",
        "\n",
        "i = 5\n",
        "while i < 7:\n",
        "  print(week[i])\n",
        "  i += 1"
      ]
    },
    {
      "cell_type": "markdown",
      "metadata": {
        "id": "eZeRj_HGCh6g"
      },
      "source": [
        "## <font color=\"green\">3- Nombres pairs et impairs </font>\n",
        "\n",
        "A partir de la liste `odd_numbers`, construire la liste `even_numbers` en ajoutant 1 à chacun de ses éléments."
      ]
    },
    {
      "cell_type": "code",
      "execution_count": 5,
      "metadata": {
        "id": "CRNiFtmy57nk"
      },
      "outputs": [],
      "source": [
        "odd_numbers = [1, 3, 5, 7, 9, 11, 13, 15, 17, 19, 21]"
      ]
    },
    {
      "cell_type": "code",
      "execution_count": null,
      "metadata": {
        "id": "bA36AeMICism"
      },
      "outputs": [],
      "source": [
        "# Votre code"
      ]
    },
    {
      "cell_type": "markdown",
      "metadata": {
        "id": "1ibTFsmdM-Zn"
      },
      "source": [
        "### <font color=\"red\"> Solution </font>"
      ]
    },
    {
      "cell_type": "code",
      "execution_count": 7,
      "metadata": {
        "id": "LX4AdPL4M_XH"
      },
      "outputs": [
        {
          "name": "stdout",
          "output_type": "stream",
          "text": [
            "[2, 4, 6, 8, 10, 12, 14, 16, 18, 20, 22]\n"
          ]
        }
      ],
      "source": [
        "even_numbers = []\n",
        "for nb in odd_numbers:\n",
        "    even_numbers.append(nb + 1)\n",
        "\n",
        "print(even_numbers)"
      ]
    },
    {
      "cell_type": "markdown",
      "metadata": {},
      "source": [
        "OR"
      ]
    },
    {
      "cell_type": "code",
      "execution_count": null,
      "metadata": {},
      "outputs": [
        {
          "name": "stdout",
          "output_type": "stream",
          "text": [
            "[2, 4, 6, 8, 10, 12, 14, 16, 18, 20, 22]\n"
          ]
        }
      ],
      "source": [
        "# The most \"pythonic\" solution:\n",
        "even_numbers = [nb + 1 for nb in odd_numbers]\n",
        "\n",
        "print(even_numbers)"
      ]
    },
    {
      "cell_type": "markdown",
      "metadata": {},
      "source": [
        "OR"
      ]
    },
    {
      "cell_type": "code",
      "execution_count": 12,
      "metadata": {},
      "outputs": [
        {
          "data": {
            "text/plain": [
              "[2, 4, 6, 8, 10, 12, 14, 16, 18, 20, 22]"
            ]
          },
          "execution_count": 12,
          "metadata": {},
          "output_type": "execute_result"
        }
      ],
      "source": [
        "even_numbers = list(map(lambda x: x + 1, odd_numbers))\n",
        "\n",
        "print(even_numbers)"
      ]
    },
    {
      "cell_type": "markdown",
      "metadata": {
        "id": "-L_ReF8KCnPH"
      },
      "source": [
        "## <font color=\"green\">4- Calcul de la moyenne </font>\n",
        "\n",
        "Les notes d'un élève sont regroupées dans la liste `grades`. Calculer sa moyenne et l'afficher avec deux décimales."
      ]
    },
    {
      "cell_type": "code",
      "execution_count": 19,
      "metadata": {
        "id": "OuZ1ZpNi5q0R"
      },
      "outputs": [],
      "source": [
        "grades = [70, 45, 30, 40, 60]"
      ]
    },
    {
      "cell_type": "code",
      "execution_count": null,
      "metadata": {
        "id": "wCicBNyFCnxd"
      },
      "outputs": [],
      "source": [
        "# Votre code"
      ]
    },
    {
      "cell_type": "markdown",
      "metadata": {
        "id": "FxjzIiziNOL5"
      },
      "source": [
        "### <font color=\"red\"> Solution </font>"
      ]
    },
    {
      "cell_type": "code",
      "execution_count": 25,
      "metadata": {
        "id": "rR7S5K6CNPT_"
      },
      "outputs": [
        {
          "name": "stdout",
          "output_type": "stream",
          "text": [
            "49.00\n"
          ]
        }
      ],
      "source": [
        "# if we forbid the use of sum:\n",
        "total = 0\n",
        "for grade in grades:\n",
        "    total += grade  # or: total = total + grade\n",
        "print(\"{:.2f}\".format(total / len(grades)))"
      ]
    },
    {
      "cell_type": "code",
      "execution_count": 24,
      "metadata": {},
      "outputs": [
        {
          "name": "stdout",
          "output_type": "stream",
          "text": [
            "49.00\n"
          ]
        }
      ],
      "source": [
        "# if we don't:\n",
        "print(f\"{sum(grades) / len(grades):.2f}\")"
      ]
    },
    {
      "cell_type": "markdown",
      "metadata": {
        "id": "WNaMDchHCuoL"
      },
      "source": [
        "## <font color=\"green\">5- Produit d'entiers pairs consécutifs</font>\n",
        "\n",
        "En utilisant [`list`](https://docs.python.org/fr/3/library/functions.html#list) et [`range`](https://docs.python.org/fr/3/library/functions.html#range), créer une liste `a` contenant tous les nombres entiers pairs de 2 à 20 inclus.\n",
        "\n",
        "Puis, calculer les produits des nombres consécutifs de `a` 2 à 2 en utilisant une boucle, et les afficher ligne à ligne.\n",
        "\n",
        "Exemple pour les premières itérations :\n",
        "```\n",
        "8\n",
        "24\n",
        "48\n",
        "[...]\n",
        "```"
      ]
    },
    {
      "cell_type": "code",
      "execution_count": null,
      "metadata": {
        "id": "SVD8NuDoCvZm"
      },
      "outputs": [],
      "source": [
        "# Votre code"
      ]
    },
    {
      "cell_type": "markdown",
      "metadata": {
        "id": "FQIm7KlIOCwF"
      },
      "source": [
        "### <font color=\"red\"> Solution </font>"
      ]
    },
    {
      "cell_type": "code",
      "execution_count": 26,
      "metadata": {},
      "outputs": [],
      "source": [
        "a = list(range(2, 21, 2))"
      ]
    },
    {
      "cell_type": "code",
      "execution_count": 27,
      "metadata": {},
      "outputs": [
        {
          "name": "stdout",
          "output_type": "stream",
          "text": [
            "8\n",
            "24\n",
            "48\n",
            "80\n",
            "120\n",
            "168\n",
            "224\n",
            "288\n",
            "360\n"
          ]
        }
      ],
      "source": [
        "for i in range(len(a) - 1):\n",
        "    print(a[i] * a[i + 1])"
      ]
    },
    {
      "cell_type": "markdown",
      "metadata": {},
      "source": [
        "OR"
      ]
    },
    {
      "cell_type": "code",
      "execution_count": 28,
      "metadata": {
        "id": "oxN_3knkOEFZ"
      },
      "outputs": [
        {
          "name": "stdout",
          "output_type": "stream",
          "text": [
            "8\n",
            "24\n",
            "48\n",
            "80\n",
            "120\n",
            "168\n",
            "224\n",
            "288\n",
            "360\n"
          ]
        }
      ],
      "source": [
        "for i in range(1, len(a)):\n",
        "    print(a[i - 1] * a[i])"
      ]
    },
    {
      "cell_type": "markdown",
      "metadata": {},
      "source": [
        "OR"
      ]
    },
    {
      "cell_type": "code",
      "execution_count": 29,
      "metadata": {},
      "outputs": [
        {
          "name": "stdout",
          "output_type": "stream",
          "text": [
            "8\n",
            "24\n",
            "48\n",
            "80\n",
            "120\n",
            "168\n",
            "224\n",
            "288\n",
            "360\n"
          ]
        }
      ],
      "source": [
        "for current, next in zip(a, a[1:]):\n",
        "    print(current * next)"
      ]
    },
    {
      "cell_type": "markdown",
      "metadata": {
        "id": "3IUmpHDTC3_G"
      },
      "source": [
        "## <font color=\"green\">6- Triangle </font>\n",
        "\n",
        "Ecrire un code pour dessiner efficacement un \"triangle\" comme celui-ci:\n",
        "```\n",
        "*\n",
        "**\n",
        "***\n",
        "****\n",
        "*****\n",
        "******\n",
        "*******\n",
        "********\n",
        "*********\n",
        "**********\n",
        "```"
      ]
    },
    {
      "cell_type": "code",
      "execution_count": null,
      "metadata": {
        "id": "nE5lw41zC5Ge"
      },
      "outputs": [],
      "source": [
        "# Votre code"
      ]
    },
    {
      "cell_type": "markdown",
      "metadata": {
        "id": "UfhTGcLhFgLw"
      },
      "source": [
        "### <font color=\"red\"> Solution </font>"
      ]
    },
    {
      "cell_type": "code",
      "execution_count": 30,
      "metadata": {
        "id": "KcU_ftK1FhQm"
      },
      "outputs": [
        {
          "name": "stdout",
          "output_type": "stream",
          "text": [
            "*\n",
            "**\n",
            "***\n",
            "****\n",
            "*****\n",
            "******\n",
            "*******\n",
            "********\n",
            "*********\n",
            "**********\n"
          ]
        }
      ],
      "source": [
        "for i in range(1, 11):\n",
        "    print(\"*\" * i)"
      ]
    },
    {
      "cell_type": "markdown",
      "metadata": {
        "id": "f7rBdCRIDBJq"
      },
      "source": [
        "Même question avec ce \"triangle\" :\n",
        "```\n",
        "**********\n",
        "*********\n",
        "********\n",
        "*******\n",
        "******\n",
        "*****\n",
        "****\n",
        "***\n",
        "**\n",
        "*\n",
        "```"
      ]
    },
    {
      "cell_type": "code",
      "execution_count": null,
      "metadata": {
        "id": "TLHd5U_SDCna"
      },
      "outputs": [],
      "source": [
        "# Votre code"
      ]
    },
    {
      "cell_type": "markdown",
      "metadata": {
        "id": "g6Fety22OtCv"
      },
      "source": [
        "### <font color=\"red\"> Solution </font>"
      ]
    },
    {
      "cell_type": "code",
      "execution_count": 32,
      "metadata": {
        "id": "-M7sbTCEOuBK"
      },
      "outputs": [
        {
          "name": "stdout",
          "output_type": "stream",
          "text": [
            "**********\n",
            "*********\n",
            "********\n",
            "*******\n",
            "******\n",
            "*****\n",
            "****\n",
            "***\n",
            "**\n",
            "*\n"
          ]
        }
      ],
      "source": [
        "for i in range(10, 0, -1):\n",
        "    print(\"*\" * i)"
      ]
    },
    {
      "cell_type": "markdown",
      "metadata": {
        "id": "1nwk63yZE33g"
      },
      "source": [
        "## <font color=\"green\">7- Sauts de puces</font>\n",
        "\n",
        "Considérons une puce qui se déplace aléatoirement sur une ligne graduée, vers l’avant ou vers l’arrière, par pas de +1 ou -1.\n",
        "Par exemple, si elle se trouve en position 0, elle peut sauter en position 1 ou -1 ; si elle est en position 2, elle peut sauter en position 3 ou 1, et ainsi de suite.\n",
        "\n",
        "En utilisant une boucle while, simuler le déplacement d’une puce partant de la position initiale 0 et s’arrêtant dès qu’elle atteint la position 5. Compter le nombre de sauts effectués pendant le parcours.\n",
        "\n",
        "Astuce : vous pouvez utiliser l’instruction random.choice([-1, 1]), qui renvoie aléatoirement les valeurs -1 ou 1 avec la même probabilité. Avant d’utiliser cette instruction, vous devez importer la bibliothèque random comme suit :\n",
        "```python\n",
        "import random\n",
        "```"
      ]
    },
    {
      "cell_type": "code",
      "execution_count": null,
      "metadata": {
        "id": "zETPpRo9E79_"
      },
      "outputs": [],
      "source": [
        "# Votre code"
      ]
    },
    {
      "cell_type": "markdown",
      "metadata": {
        "id": "htKqRYjyeq_u"
      },
      "source": [
        "### <font color=\"red\"> Solution </font>"
      ]
    },
    {
      "cell_type": "code",
      "execution_count": 43,
      "metadata": {
        "id": "u-62u2qCesD-"
      },
      "outputs": [
        {
          "name": "stdout",
          "output_type": "stream",
          "text": [
            "149\n"
          ]
        }
      ],
      "source": [
        "import random\n",
        "\n",
        "n_jumps = 0\n",
        "position = 0\n",
        "while position < 5:\n",
        "    position += random.choice([-1, 1])\n",
        "    n_jumps += 1\n",
        "print(n_jumps)"
      ]
    },
    {
      "cell_type": "markdown",
      "metadata": {
        "id": "Ka5R8JlWFFO0"
      },
      "source": [
        "## <font color=\"green\">8- Suite de Fibonacci</font>\n",
        "\n",
        "La [suite de Fibonacci](https://en.wikipedia.org/wiki/Fibonacci_sequence) est une suite mathématique nommée d’après Léonard de Fibonacci, un mathématicien italien du XIIIᵉ siècle. Initialement, cette suite a été conçue pour décrire la croissance d’une population de lapins, mais elle peut également servir à décrire certains motifs géométriques présents dans la nature (coquillages, graines de tournesol, etc.).\n",
        "\n",
        "La suite de Fibonacci $(F_n)$ est définie par $x_0 = 0$, $x_1 = 1$, et pour tout $n > 1$, $F_n = F_{n − 1} + F_{n − 2}$ (c’est-à-dire que chaque terme est la somme des deux termes précédents).\n",
        "\n",
        "Par exemple, les 10 premiers termes de la suite de Fibonacci sont :\n",
        "0, 1, 1, 2, 3, 5, 8, 13, 21 et 34.\n",
        "\n",
        "Ecrire un script qui calcule une liste `fibo` contenant les 20 premiers termes de la suite de Fibonacci et l’affiche.\n",
        "\n",
        "Améliorez ce script en affichant, pour chaque élément de la liste `fibo` avec $n > 1$, le rapport entre l’élément de rang $n$ et l’élément de rang $n − 1$."
      ]
    },
    {
      "cell_type": "code",
      "execution_count": null,
      "metadata": {
        "id": "WdoAuq5RFIdI"
      },
      "outputs": [],
      "source": [
        "# Votre code"
      ]
    },
    {
      "cell_type": "markdown",
      "metadata": {
        "id": "zyCiCKSzfu4P"
      },
      "source": [
        "### <font color=\"red\"> Solution </font>"
      ]
    },
    {
      "cell_type": "code",
      "execution_count": 46,
      "metadata": {
        "id": "FNYvo48lfwcV"
      },
      "outputs": [
        {
          "name": "stdout",
          "output_type": "stream",
          "text": [
            "[0, 1, 1, 2, 3, 5, 8, 13, 21, 34, 55, 89, 144, 233, 377, 610, 987, 1597, 2584, 4181]\n",
            "1.0\n",
            "2.0\n",
            "1.5\n",
            "1.6666666666666667\n",
            "1.6\n",
            "1.625\n",
            "1.6153846153846154\n",
            "1.619047619047619\n",
            "1.6176470588235294\n",
            "1.6181818181818182\n",
            "1.6179775280898876\n",
            "1.6180555555555556\n",
            "1.6180257510729614\n",
            "1.6180371352785146\n",
            "1.618032786885246\n",
            "1.618034447821682\n",
            "1.6180338134001253\n",
            "1.618034055727554\n"
          ]
        }
      ],
      "source": [
        "n = 20\n",
        "fibo = [0, 1]\n",
        "\n",
        "while len(fibo) < n:\n",
        "    fibo.append(fibo[-1] + fibo[-2])\n",
        "print(fibo)\n",
        "\n",
        "for i in range(2, n):\n",
        "    print(fibo[i] / fibo[i - 1])"
      ]
    },
    {
      "cell_type": "markdown",
      "metadata": {
        "id": "Ujfb-tjxdJZ_"
      },
      "source": [
        "Pour information, le rapport $\\frac{\\text{F}_n}{\\text{F}_{n - 1}}$ converge vers le [nombre d'or](https://en.wikipedia.org/wiki/Golden_ratio)."
      ]
    },
    {
      "cell_type": "markdown",
      "metadata": {},
      "source": []
    }
  ],
  "metadata": {
    "colab": {
      "collapsed_sections": [
        "I0uHJaVcLEX9",
        "u8_BWoPxLAJ1",
        "LlN9o1_gMqX_",
        "1ibTFsmdM-Zn",
        "FxjzIiziNOL5",
        "FQIm7KlIOCwF",
        "UfhTGcLhFgLw",
        "g6Fety22OtCv",
        "oaAqCpnZO-VY",
        "UmmC4BKPXgfq",
        "csoKNZSpYQko",
        "zb9W_RY5cmbw",
        "htKqRYjyeq_u",
        "zyCiCKSzfu4P"
      ],
      "private_outputs": true,
      "provenance": [],
      "toc_visible": true
    },
    "kernelspec": {
      "display_name": "Python 3",
      "name": "python3"
    },
    "language_info": {
      "codemirror_mode": {
        "name": "ipython",
        "version": 3
      },
      "file_extension": ".py",
      "mimetype": "text/x-python",
      "name": "python",
      "nbconvert_exporter": "python",
      "pygments_lexer": "ipython3",
      "version": "3.11.4"
    }
  },
  "nbformat": 4,
  "nbformat_minor": 0
}
