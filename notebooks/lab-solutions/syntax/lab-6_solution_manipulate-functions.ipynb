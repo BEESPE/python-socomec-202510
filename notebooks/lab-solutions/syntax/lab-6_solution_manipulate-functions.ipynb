{
  "cells": [
    {
      "cell_type": "markdown",
      "metadata": {
        "id": "U0sVoVEswAL6"
      },
      "source": [
        "# <font color=\"purple\">Manipuler des fonctions</font>"
      ]
    },
    {
      "cell_type": "markdown",
      "metadata": {
        "id": "JvYQ5EJZwEdK"
      },
      "source": [
        "## Carré et factorielle\n",
        "\n",
        "Analyser le code suivant et essayer de prédire sa sortie :\n",
        "\n",
        "```python\n",
        "def mystery(n):\n",
        "    out = 1\n",
        "    for i in range(2, n + 1):\n",
        "        out = out * i\n",
        "    return out\n",
        "\n",
        "nb = 4\n",
        "calc = mystery(nb)\n",
        "print(\"{}! = {}\".format(nb, calc))\n",
        "nb = 10\n",
        "print(\"{}! = {}\".format(nb, mystery(nb)))\n",
        "```\n",
        "\n",
        "Tester ce code."
      ]
    },
    {
      "cell_type": "code",
      "execution_count": 4,
      "metadata": {},
      "outputs": [
        {
          "name": "stdout",
          "output_type": "stream",
          "text": [
            "4! = 24\n",
            "10! = 3628800\n"
          ]
        }
      ],
      "source": [
        "def mystery(n):\n",
        "    out = 1\n",
        "    for i in range(2, n + 1):\n",
        "        out = out * i\n",
        "    return out\n",
        "\n",
        "nb = 4\n",
        "calc = mystery(nb)\n",
        "print(\"{}! = {}\".format(nb, calc))\n",
        "nb = 10\n",
        "print(\"{}! = {}\".format(nb, mystery(nb)))"
      ]
    },
    {
      "cell_type": "markdown",
      "metadata": {
        "id": "JzKkUKBswI0C"
      },
      "source": [
        "## Puissance\n",
        "\n",
        "Créer une fonction `calc_puissance` qui renvoie $x^y$ en utilisant l'opérateur `**`. Pour rappel :\n",
        "\n",
        "```python\n",
        ">>> 2 ** 2\n",
        "4\n",
        ">>> 2 ** 3\n",
        "8\n",
        ">>> 2 ** 4\n",
        "16\n",
        "```\n",
        "\n",
        "Dans une fonction `main`, calculez et affichez à l'écran $2^i$ avec $i$ variant de $0$ à $20$ inclus. On souhaite que le résultat soit présenté avec le formatage suivant :\n",
        "\n",
        "```default\n",
        "2^ 0 =       1\n",
        "2^ 1 =       2\n",
        "2^ 2 =       4\n",
        "[...]\n",
        "2^20 = 1048576\n",
        "```"
      ]
    },
    {
      "cell_type": "code",
      "execution_count": 5,
      "metadata": {
        "id": "sYW2PCbkwJY7"
      },
      "outputs": [],
      "source": [
        "# Votre code"
      ]
    },
    {
      "cell_type": "markdown",
      "metadata": {
        "id": "BpVe-mCLx8O2"
      },
      "source": [
        "### <font color=\"red\">Solution</font>"
      ]
    },
    {
      "cell_type": "code",
      "execution_count": 6,
      "metadata": {
        "id": "WZ1NOMJWx9gc"
      },
      "outputs": [
        {
          "name": "stdout",
          "output_type": "stream",
          "text": [
            "2^ 0 =       1\n",
            "2^ 1 =       2\n",
            "2^ 2 =       4\n",
            "2^ 3 =       8\n",
            "2^ 4 =      16\n",
            "2^ 5 =      32\n",
            "2^ 6 =      64\n",
            "2^ 7 =     128\n",
            "2^ 8 =     256\n",
            "2^ 9 =     512\n",
            "2^10 =    1024\n",
            "2^11 =    2048\n",
            "2^12 =    4096\n",
            "2^13 =    8192\n",
            "2^14 =   16384\n",
            "2^15 =   32768\n",
            "2^16 =   65536\n",
            "2^17 =  131072\n",
            "2^18 =  262144\n",
            "2^19 =  524288\n",
            "2^20 = 1048576\n"
          ]
        }
      ],
      "source": [
        "def calc_puissance(x, y):\n",
        "    return x ** y\n",
        "\n",
        "\n",
        "for i in range(21):\n",
        "    print(f\"2^{i:>2d} = {calc_puissance(2, i):7d}\")"
      ]
    },
    {
      "cell_type": "markdown",
      "metadata": {
        "id": "2u9V50VtwOJe"
      },
      "source": [
        "## Pyramide\n",
        "\n",
        "Reprenons l'exercice de dessin d'un triangle/d'une pyramide.\n",
        "\n",
        "Créer une fonction `gen_triangle` qui prend comme argument un nombre entier `n` et qui renvoie un triangle de $n$ lignes sous forme de chaîne de caractères.\n",
        "\n",
        "Créer ensuite une fonction `main` qui demandera à l'utilisateur le nombre de lignes souhaitées (utilisez pour cela la fonction [`input`](https://docs.python.org/fr/3/library/functions.html#input)) et affichera le triangle à l'écran.\n",
        "\n",
        "Bonus : créer non pas un triangle mais une pyramide. Dans ce cas, appeler la fonction `gen_pyramide`. Indication : f\"{'*' * 3:^{20}}\"."
      ]
    },
    {
      "cell_type": "code",
      "execution_count": 7,
      "metadata": {
        "id": "LHIt9kyWwPkk"
      },
      "outputs": [],
      "source": [
        "# Votre code"
      ]
    },
    {
      "cell_type": "markdown",
      "metadata": {
        "id": "x9Eeon1PzTsA"
      },
      "source": [
        "### <font color=\"red\">Solution</font>"
      ]
    },
    {
      "cell_type": "code",
      "execution_count": 8,
      "metadata": {
        "id": "kLEVkl1wzUiI"
      },
      "outputs": [
        {
          "name": "stdout",
          "output_type": "stream",
          "text": [
            "      *      \n",
            "     ***     \n",
            "    *****    \n",
            "   *******   \n",
            "  *********  \n",
            " *********** \n",
            "*************\n"
          ]
        }
      ],
      "source": [
        "# Voici une solution *très* concise pour référence.\n",
        "# Reportez-vous aux travaux pratiques sur les boucles pour une solution plus\n",
        "# explicite.\n",
        "def gen_pyramide(n):\n",
        "    return \"\\n\".join(f\"{'*' * i:^{2 * n - 1}}\" for i in range(1, n * 2 + 1, 2))\n",
        "\n",
        "\n",
        "def main():\n",
        "    ok = False\n",
        "    while not ok:\n",
        "        reponse = input(\"Combien de lignes voulez-vous à votre pyramide ? \")\n",
        "        try:\n",
        "            n_lignes = int(reponse)\n",
        "            ok = True\n",
        "        except ValueError:\n",
        "            pass\n",
        "    print(gen_pyramide(n_lignes))\n",
        "\n",
        "\n",
        "main()"
      ]
    },
    {
      "cell_type": "markdown",
      "metadata": {
        "id": "fzoG53kPwTPg"
      },
      "source": [
        "## Nombres premiers\n",
        "\n",
        "Reprenons l'exercice sur les nombres premiers.\n",
        "\n",
        "Créer une fonction `est_premier` qui prend comme argument un nombre entier positif $n \\geq 2$ et qui renvoie le booléen `True` si $n$ est premier et `False` si $n$ n'est pas premier. Ensuite, déterminer tous les nombres premiers de 2 à 100 dans une fonction `main`. On souhaite avoir une sortie similaire à celle-ci&nbsp;:\n",
        "\n",
        "```default\n",
        "  2 est premier\n",
        "  3 est premier\n",
        "  4 n'est pas premier\n",
        "[...]\n",
        "100 n'est pas premier\n",
        "```"
      ]
    },
    {
      "cell_type": "code",
      "execution_count": 9,
      "metadata": {
        "id": "FOTuIve2wUfU"
      },
      "outputs": [],
      "source": [
        "# Votre code"
      ]
    },
    {
      "cell_type": "markdown",
      "metadata": {
        "id": "GNYlmuRF5wSd"
      },
      "source": [
        "### <font color=\"red\">Solution</font>"
      ]
    },
    {
      "cell_type": "code",
      "execution_count": 10,
      "metadata": {
        "id": "PpZsoZvU5vLt"
      },
      "outputs": [
        {
          "name": "stdout",
          "output_type": "stream",
          "text": [
            "  2 est premier\n",
            "  3 est premier\n",
            "  4 n'est pas premier\n",
            "  5 est premier\n",
            "  6 n'est pas premier\n",
            "  7 est premier\n",
            "  8 n'est pas premier\n",
            "  9 n'est pas premier\n",
            " 10 n'est pas premier\n",
            " 11 est premier\n",
            " 12 n'est pas premier\n",
            " 13 est premier\n",
            " 14 n'est pas premier\n",
            " 15 n'est pas premier\n",
            " 16 n'est pas premier\n",
            " 17 est premier\n",
            " 18 n'est pas premier\n",
            " 19 est premier\n",
            " 20 n'est pas premier\n",
            " 21 n'est pas premier\n",
            " 22 n'est pas premier\n",
            " 23 est premier\n",
            " 24 n'est pas premier\n",
            " 25 n'est pas premier\n",
            " 26 n'est pas premier\n",
            " 27 n'est pas premier\n",
            " 28 n'est pas premier\n",
            " 29 est premier\n",
            " 30 n'est pas premier\n",
            " 31 est premier\n",
            " 32 n'est pas premier\n",
            " 33 n'est pas premier\n",
            " 34 n'est pas premier\n",
            " 35 n'est pas premier\n",
            " 36 n'est pas premier\n",
            " 37 est premier\n",
            " 38 n'est pas premier\n",
            " 39 n'est pas premier\n",
            " 40 n'est pas premier\n",
            " 41 est premier\n",
            " 42 n'est pas premier\n",
            " 43 est premier\n",
            " 44 n'est pas premier\n",
            " 45 n'est pas premier\n",
            " 46 n'est pas premier\n",
            " 47 est premier\n",
            " 48 n'est pas premier\n",
            " 49 n'est pas premier\n",
            " 50 n'est pas premier\n",
            " 51 n'est pas premier\n",
            " 52 n'est pas premier\n",
            " 53 est premier\n",
            " 54 n'est pas premier\n",
            " 55 n'est pas premier\n",
            " 56 n'est pas premier\n",
            " 57 n'est pas premier\n",
            " 58 n'est pas premier\n",
            " 59 est premier\n",
            " 60 n'est pas premier\n",
            " 61 est premier\n",
            " 62 n'est pas premier\n",
            " 63 n'est pas premier\n",
            " 64 n'est pas premier\n",
            " 65 n'est pas premier\n",
            " 66 n'est pas premier\n",
            " 67 est premier\n",
            " 68 n'est pas premier\n",
            " 69 n'est pas premier\n",
            " 70 n'est pas premier\n",
            " 71 est premier\n",
            " 72 n'est pas premier\n",
            " 73 est premier\n",
            " 74 n'est pas premier\n",
            " 75 n'est pas premier\n",
            " 76 n'est pas premier\n",
            " 77 n'est pas premier\n",
            " 78 n'est pas premier\n",
            " 79 est premier\n",
            " 80 n'est pas premier\n",
            " 81 n'est pas premier\n",
            " 82 n'est pas premier\n",
            " 83 est premier\n",
            " 84 n'est pas premier\n",
            " 85 n'est pas premier\n",
            " 86 n'est pas premier\n",
            " 87 n'est pas premier\n",
            " 88 n'est pas premier\n",
            " 89 est premier\n",
            " 90 n'est pas premier\n",
            " 91 n'est pas premier\n",
            " 92 n'est pas premier\n",
            " 93 n'est pas premier\n",
            " 94 n'est pas premier\n",
            " 95 n'est pas premier\n",
            " 96 n'est pas premier\n",
            " 97 est premier\n",
            " 98 n'est pas premier\n",
            " 99 n'est pas premier\n",
            "100 n'est pas premier\n"
          ]
        }
      ],
      "source": [
        "def est_premier(n):\n",
        "    for i in range(2, n):\n",
        "        if n % i == 0:\n",
        "            return False\n",
        "    return True\n",
        "\n",
        "\n",
        "def main():\n",
        "    for n in range(2, 101):\n",
        "        print(f\"{n:3d}\",\n",
        "              \"est premier\" if est_premier(n) else \"n'est pas premier\")\n",
        "\n",
        "\n",
        "main()"
      ]
    },
    {
      "cell_type": "markdown",
      "metadata": {
        "id": "6my1HZlCwXTt"
      },
      "source": [
        "## Séquence complémentaire\n",
        "\n",
        "Reprenons l'exercice de calcul du complémentaire d'un brin d'ADN.\n",
        "\n",
        "Créer une fonction `seq_comp` qui prend comme argument une liste de bases et qui renvoie la séquence complémentaire d'une séquence d'ADN sous forme de liste.\n",
        "\n",
        "Dans le programme principal, à partir de la séquence d'ADN `seq = [\"A\", \"T\", \"C\", \"G\", \"A\", \"T\", \"C\", \"G\", \"A\", \"T\", \"C\"]` afficher `seq` et sa séquence complémentaire (en utilisant la fonction `seq_comp`).\n",
        "\n",
        "Pour rappel, la séquence complémentaire s'obtient en remplaçant `A` par `T`, `T` par `A`, `C` par `G` et `G` par `C`."
      ]
    },
    {
      "cell_type": "code",
      "execution_count": 11,
      "metadata": {
        "id": "YxAUtZCnwX4h"
      },
      "outputs": [],
      "source": [
        "# Votre code"
      ]
    },
    {
      "cell_type": "markdown",
      "metadata": {
        "id": "dWicOGiu75FN"
      },
      "source": [
        "### <font color=\"red\">Solution</font>"
      ]
    },
    {
      "cell_type": "code",
      "execution_count": 12,
      "metadata": {
        "id": "OVzlvU3Q756z"
      },
      "outputs": [
        {
          "name": "stdout",
          "output_type": "stream",
          "text": [
            "Brin d'ADN :             ['A', 'T', 'C', 'G', 'A', 'T', 'C', 'G', 'A', 'T', 'C']\n",
            "Brin complémentaire :    ['T', 'A', 'G', 'C', 'T', 'A', 'G', 'C', 'T', 'A', 'G']\n",
            "Modification sur place : ['T', 'A', 'G', 'C', 'T', 'A', 'G', 'C', 'T', 'A', 'G']\n"
          ]
        }
      ],
      "source": [
        "import typing\n",
        "\n",
        "\n",
        "def seq_comp(brin_adn: typing.Iterable[str]) -> typing.List[str]:\n",
        "    brin_comp = []\n",
        "    for base in brin_adn:\n",
        "        if base == \"A\":\n",
        "            brin_comp.append(\"T\")\n",
        "        elif base == \"T\":\n",
        "            brin_comp.append(\"A\")\n",
        "        elif base == \"C\":\n",
        "            brin_comp.append(\"G\")\n",
        "        else:\n",
        "            brin_comp.append(\"C\")\n",
        "    return brin_comp\n",
        "\n",
        "\n",
        "def seq_comp_inplace(brin_adn: typing.MutableSequence[str]) -> None:\n",
        "    for i, base in enumerate(brin_adn):\n",
        "        if base == \"A\":\n",
        "            brin_adn[i] = \"T\"\n",
        "        elif base == \"T\":\n",
        "            brin_adn[i] = \"A\"\n",
        "        elif base == \"C\":\n",
        "            brin_adn[i] = \"G\"\n",
        "        else:\n",
        "            brin_adn[i] = \"C\"\n",
        "\n",
        "\n",
        "def main():\n",
        "    brin_adn = [\"A\", \"T\", \"C\", \"G\", \"A\", \"T\", \"C\", \"G\", \"A\", \"T\", \"C\"]\n",
        "    brin_comp = seq_comp(brin_adn)\n",
        "    print(f\"Brin d'ADN :             {brin_adn}\")\n",
        "    print(f\"Brin complémentaire :    {brin_comp}\")\n",
        "    seq_comp_inplace(brin_adn)\n",
        "    print(f\"Modification sur place : {brin_adn}\")\n",
        "\n",
        "\n",
        "main()"
      ]
    },
    {
      "cell_type": "code",
      "execution_count": 13,
      "metadata": {
        "id": "83KDUoy8LZI2"
      },
      "outputs": [],
      "source": [
        "import typing\n",
        "\n",
        "\n",
        "# Solution légèrement plus efficace\n",
        "replace_dict = {\"A\": \"T\", \"T\": \"A\", \"C\": \"G\", \"G\": \"C\"}\n",
        "\n",
        "\n",
        "def seq_comp(brin_adn: typing.Iterable[str]) -> typing.List[str]:\n",
        "  return [replace_dict[x] for x in brin_adn]\n",
        "\n",
        "\n",
        "def seq_comp_inplace(brin_adn: typing.MutableSequence[str]) -> None:\n",
        "  for i, base in brin_adn:\n",
        "    brin_adn[i] = replace_dict[base]"
      ]
    },
    {
      "cell_type": "markdown",
      "metadata": {
        "id": "aq_LQPaqwbZg"
      },
      "source": [
        "## Distance 3D\n",
        "\n",
        "Créer une fonction `calc_distance_3D` qui calcule la distance euclidienne en trois dimensions entre deux points. Tester votre fonction sur les 2 points $A(0, 0, 0)$ et $B(1, 1, 1)$. Trouvez-vous bien $\\sqrt{3}$&nbsp;?\n",
        "\n",
        "On rappelle que la distance euclidienne d entre deux points $A$ et $B$ de coordonnées cartésiennes respectives $(x_A,y_A,z_A)$ et $(x_B,y_B,z_B)$ se calcule comme suit&nbsp;:\n",
        "\n",
        "$$d = \\sqrt{(x_B − x_A)^2 + (y_B − y_A)^2 + (z_B − z_A)^2}$$"
      ]
    },
    {
      "cell_type": "code",
      "execution_count": 14,
      "metadata": {
        "id": "5p1b6Wrewavf"
      },
      "outputs": [],
      "source": [
        "# Votre code"
      ]
    },
    {
      "cell_type": "markdown",
      "metadata": {
        "id": "WtTdhfv01j_a"
      },
      "source": [
        "### <font color=\"red\">Solution</font>"
      ]
    },
    {
      "cell_type": "code",
      "execution_count": 15,
      "metadata": {
        "id": "CMnsDFzB1lAL"
      },
      "outputs": [
        {
          "name": "stdout",
          "output_type": "stream",
          "text": [
            "1.7320508075688772\n",
            "1.7320508075688772\n"
          ]
        }
      ],
      "source": [
        "import math\n",
        "\n",
        "\n",
        "def calc_distance_3D(xa, ya, za, xb, yb, zb):\n",
        "    return math.sqrt((xb - xa) ** 2 + (yb - ya) ** 2 + (zb - za) ** 2)\n",
        "\n",
        "\n",
        "print(calc_distance_3D(0, 0, 0, 1, 1, 1))\n",
        "print(math.sqrt(3))"
      ]
    },
    {
      "cell_type": "markdown",
      "metadata": {
        "id": "OKQr_-dGwg9f"
      },
      "source": [
        "## Distribution et statistiques\n",
        "\n",
        "Créer une fonction `gen_distrib` qui prend comme argument trois entiers&nbsp;: `debut`, `fin` et `n`, et qui renvoie une liste de `n` *floats* aléatoires entre `debut` et `fin`. Pour générer un nombre aléatoire dans un intervalle donné, utiliser la fonction [`uniform`](https://docs.python.org/fr/3/library/random.html#random.uniform) du module `random` dont voici quelques exemples d'utilisation&nbsp;:\n",
        "\n",
        "```python\n",
        ">>> import random\n",
        ">>> random.uniform(1, 10)\n",
        "8.199672607202174\n",
        ">>> random.uniform(1, 10)\n",
        "2.607528561528022\n",
        ">>> random.uniform(1, 10)\n",
        "9.000404025130946\n",
        "```\n",
        "\n",
        "Avec la fonction `random.uniform`, les bornes passées en argument sont incluses, c'est-à-dire qu'ici, le nombre aléatoire renvoyé est dans l'intervalle $[1, 10]$.\n",
        "\n",
        "Créer une autre fonction `calc_stat` qui prend en argument une liste de *floats* et qui renvoie un n-uplet de trois éléments contenant respectivement le minimum, le maximum et la moyenne de la liste.\n",
        "\n",
        "Dans une dernière fonction `main` qui prend en argument $n$ le nombre d'éléments à générer pour chaque liste, générer 20 listes aléatoires de $n$ *floats* compris entre 0 et 100 et affichez le minimum ([`min`](https://docs.python.org/fr/3/library/functions.html#min)), le maximum ([`max`](https://docs.python.org/fr/3/library/functions.html#max)) et la moyenne pour chacune d'entre elles. La moyenne pourra être calculée avec les fonctions [`sum`](https://docs.python.org/fr/3/library/functions.html#sum) et [`len`](https://docs.python.org/fr/3/library/functions.html#len).\n",
        "\n",
        "Pour chacune des 20 listes, afficher les statistiques (min, max, et moyenne) avec deux chiffres après la virgule&nbsp;:\n",
        "\n",
        "```default\n",
        "Liste  1 : min = 0.17 ; max = 99.72 ; moyenne = 57.38\n",
        "Liste  2 : min = 1.25 ; max = 99.99 ; moyenne = 47.41\n",
        "[...]\n",
        "Liste 19 : min = 1.05 ; max = 99.36 ; moyenne = 49.43\n",
        "Liste 20 : min = 1.33 ; max = 97.63 ; moyenne = 46.53\n",
        "```\n",
        "\n",
        "Les écarts sur les statistiques entre les différentes listes sont-ils importants&nbsp;? Testez `main` avec $n$ à 20, 1000 et 10&nbsp;000. Les écarts changent-ils quand le nombre d'éléments par liste augmente&nbsp;?"
      ]
    },
    {
      "cell_type": "code",
      "execution_count": 16,
      "metadata": {
        "id": "UdbpdRu9whiR"
      },
      "outputs": [],
      "source": [
        "# Votre code"
      ]
    },
    {
      "cell_type": "markdown",
      "metadata": {
        "id": "Z78Hs3609cSU"
      },
      "source": [
        "### <font color=\"red\">Solution</font>"
      ]
    },
    {
      "cell_type": "code",
      "execution_count": 17,
      "metadata": {
        "id": "3st2nhiu9dNx"
      },
      "outputs": [
        {
          "name": "stdout",
          "output_type": "stream",
          "text": [
            "Liste  1 : min =  4.84 ; max =  99.15 ; moyenne = 51.46\n",
            "Liste  2 : min = 10.02 ; max =  97.48 ; moyenne = 55.72\n",
            "Liste  3 : min =  2.95 ; max =  90.19 ; moyenne = 34.71\n",
            "Liste  4 : min =  0.44 ; max =  90.21 ; moyenne = 42.89\n",
            "Liste  5 : min =  1.81 ; max =  93.63 ; moyenne = 45.47\n",
            "Liste  6 : min =  1.78 ; max =  84.23 ; moyenne = 48.24\n",
            "Liste  7 : min =  3.60 ; max =  98.33 ; moyenne = 45.57\n",
            "Liste  8 : min =  0.75 ; max =  81.05 ; moyenne = 44.72\n",
            "Liste  9 : min = 17.30 ; max =  99.36 ; moyenne = 57.66\n",
            "Liste 10 : min =  1.05 ; max =  99.30 ; moyenne = 51.14\n",
            "Liste 11 : min =  6.98 ; max =  97.04 ; moyenne = 47.15\n",
            "Liste 12 : min =  5.61 ; max =  93.97 ; moyenne = 54.64\n",
            "Liste 13 : min =  0.09 ; max =  94.58 ; moyenne = 48.70\n",
            "Liste 14 : min =  4.74 ; max =  95.96 ; moyenne = 49.85\n",
            "Liste 15 : min =  4.13 ; max =  97.37 ; moyenne = 56.98\n",
            "Liste 16 : min =  1.13 ; max =  94.47 ; moyenne = 50.90\n",
            "Liste 17 : min =  0.04 ; max =  94.74 ; moyenne = 48.15\n",
            "Liste 18 : min =  2.71 ; max =  90.92 ; moyenne = 40.40\n",
            "Liste 19 : min = 13.71 ; max =  97.54 ; moyenne = 62.46\n",
            "Liste 20 : min =  4.01 ; max =  82.63 ; moyenne = 49.79\n"
          ]
        }
      ],
      "source": [
        "import random\n",
        "\n",
        "\n",
        "def gen_distrib(debut, fin, n):\n",
        "    resultat = []\n",
        "    for _ in range(n):\n",
        "        resultat.append(random.uniform(debut, fin))\n",
        "    return resultat\n",
        "\n",
        "# Ou avec une compréhension de liste\n",
        "def gen_distrib(debut, fin, n):\n",
        "    return [random.uniform(debut, fin) for _ in range(n)]\n",
        "\n",
        "def calc_stat(serie):\n",
        "    return min(serie), max(serie), sum(serie) / len(serie)\n",
        "\n",
        "\n",
        "def main(n):\n",
        "    for i in range(1, 21):\n",
        "        liste = gen_distrib(0, 100, n)\n",
        "        min, max, moyenne = calc_stat(liste)\n",
        "        print(f\"Liste {i:2d} : min = {min:5.2f} ; max = {max:6.2f} ;\",\n",
        "              f\"moyenne = {moyenne:.2f}\")\n",
        "\n",
        "\n",
        "main(20)"
      ]
    },
    {
      "cell_type": "markdown",
      "metadata": {
        "id": "TFSF2TQDv0lH"
      },
      "source": [
        "## Distance à l'origine\n",
        "\n",
        "En reprenant la fonction de calcul de distance euclidienne en 3D `calc_distance_3D`, en faire une version pour deux dimensions qu'on appellera `calc_distance_2D`.\n",
        "\n",
        "Créer une autre fonction `calc_distance_listes` à laquelle passer en argument deux listes de *floats* `list_x` et `list_y` représentant les coordonnées d'une fonction mathématique (par exemple $x$ et $\\sin x$). Cette fonction renverra une liste de *floats* représentant la distance entre chaque point de la fonction et l'origine (de coordonnées $(0, 0)$).\n",
        "\n",
        "Le schéma suivant montre un exemple sur quelques points de la fonction $\\sin x$ (courbe en trait épais). Chaque trait pointillé représente la distance que l'on cherche à calculer entre les points de la courbe et l'origine du repère de coordonnées $(0, 0)$.\n",
        "\n",
        "![Illustration de la distance à l'origine.](https://raw.githubusercontent.com/mlambda/langage-python/main/img/sin2ori.png \"Illustration de la distance à l'origine.\")\n",
        "\n",
        "Générer un fichier `sin2ori.dat` qui contiendra deux colonnes&nbsp;: la première représente les $x$, la seconde la distance entre chaque point de la fonction $\\sin x$ à l'origine.\n",
        "\n",
        "Une fois le fichier généré, vous pourrez exécuter la cellule de visualisation."
      ]
    },
    {
      "cell_type": "code",
      "execution_count": 18,
      "metadata": {
        "id": "Nsd4X54_wkjy"
      },
      "outputs": [],
      "source": [
        "# Votre code ici"
      ]
    },
    {
      "cell_type": "code",
      "execution_count": null,
      "metadata": {
        "id": "0HNpuoZFAt2W"
      },
      "outputs": [],
      "source": [
        "import matplotlib.pyplot as plt\n",
        "\n",
        "\n",
        "xs = []\n",
        "ys = []\n",
        "with open(\"sin2ori.dat\", \"r\") as f_in:\n",
        "    for line in f_in:\n",
        "        x, y = map(float, line.split())\n",
        "        xs.append(x)\n",
        "        ys.append(y)\n",
        "plt.figure(figsize=(8, 8))\n",
        "plt.plot(xs, ys)\n",
        "plt.xlabel(\"x\")\n",
        "plt.ylabel(\"Distance de sin(x) à l'origine\")\n",
        "plt.show()"
      ]
    },
    {
      "cell_type": "markdown",
      "metadata": {
        "id": "kWFFZRxaA82W"
      },
      "source": [
        "### <font color=\"red\">Solution</font>"
      ]
    },
    {
      "cell_type": "code",
      "execution_count": 20,
      "metadata": {
        "id": "QR1P87u_A9sI"
      },
      "outputs": [],
      "source": [
        "import math\n",
        "\n",
        "import matplotlib.pyplot as plt\n",
        "\n",
        "\n",
        "def calc_distance_2D(xa, ya, xb, yb):\n",
        "    return math.sqrt((xb - xa) ** 2 + (yb - ya) ** 2)\n",
        "\n",
        "\n",
        "def fichier_distances_sin(x_inf, x_sup, x_pas):\n",
        "    x = x_inf\n",
        "    with open(\"sin2ori.dat\", mode=\"w\", encoding=\"utf8\") as fichier:\n",
        "        while x <= x_sup:\n",
        "            y = math.sin(x)\n",
        "            distance = calc_distance_2D(x, y, 0, 0)\n",
        "            fichier.write(f\"{x} {distance}\\n\")\n",
        "            x += x_pas\n",
        "\n",
        "\n",
        "fichier_distances_sin(-3, 3, 0.01)"
      ]
    },
    {
      "cell_type": "code",
      "execution_count": 21,
      "metadata": {
        "id": "4KWF0umZCTDW"
      },
      "outputs": [
        {
          "data": {
            "image/png": "[encoded data removed]",
            "text/plain": [
              "<Figure size 800x800 with 1 Axes>"
            ]
          },
          "metadata": {},
          "output_type": "display_data"
        }
      ],
      "source": [
        "xs = []\n",
        "ys = []\n",
        "with open(\"sin2ori.dat\", \"r\") as f_in:\n",
        "    for line in f_in:\n",
        "        x, y = map(float, line.split())\n",
        "        xs.append(x)\n",
        "        ys.append(y)\n",
        "plt.figure(figsize=(8, 8))\n",
        "plt.plot(xs, ys)\n",
        "plt.xlabel(\"x\")\n",
        "plt.ylabel(\"Distance de sin(x) à l'origine\")\n",
        "plt.show()"
      ]
    }
  ],
  "metadata": {
    "colab": {
      "collapsed_sections": [
        "BpVe-mCLx8O2",
        "x9Eeon1PzTsA",
        "GNYlmuRF5wSd",
        "dWicOGiu75FN",
        "WtTdhfv01j_a",
        "Z78Hs3609cSU",
        "kWFFZRxaA82W"
      ],
      "private_outputs": true,
      "provenance": [],
      "toc_visible": true
    },
    "kernelspec": {
      "display_name": "test-py3.11",
      "language": "python",
      "name": "python3"
    },
    "language_info": {
      "codemirror_mode": {
        "name": "ipython",
        "version": 3
      },
      "file_extension": ".py",
      "mimetype": "text/x-python",
      "name": "python",
      "nbconvert_exporter": "python",
      "pygments_lexer": "ipython3",
      "version": "3.11.4"
    }
  },
  "nbformat": 4,
  "nbformat_minor": 0
}
