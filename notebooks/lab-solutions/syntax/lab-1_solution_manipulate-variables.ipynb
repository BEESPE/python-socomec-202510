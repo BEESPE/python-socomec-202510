{
  "cells": [
    {
      "cell_type": "markdown",
      "metadata": {
        "id": "Ul64I7HrcC7g"
      },
      "source": [
        "# <font color=\"purple\"> Manipuler des variables </font>"
      ]
    },
    {
      "cell_type": "markdown",
      "metadata": {
        "id": "mV5WnfS6anIO"
      },
      "source": [
        "### <font color=\"green\"> 1- Opérations sur les chaînes de caractères </font>\n",
        "\n",
        "*En utilisant la fonction [`print`](https://docs.python.org/3/library/functions.html#print), afficher sur une même lignes 80 \"pipes\", comme ceci :*\n",
        "\n",
        "```\n",
        "||||||||||||||||||||||||||||||||||||||||||||||||||||||||||||||||||||||||||||||||\n",
        "```"
      ]
    },
    {
      "cell_type": "code",
      "execution_count": null,
      "metadata": {
        "id": "VuotPTJYb3V0"
      },
      "outputs": [],
      "source": [
        "# Votre code"
      ]
    },
    {
      "cell_type": "markdown",
      "metadata": {
        "id": "ATLOcnM0sXtY"
      },
      "source": [
        "### <font color=\"red\"> Solution </font>"
      ]
    },
    {
      "cell_type": "code",
      "execution_count": 2,
      "metadata": {
        "id": "x8mEOq7RsYk3"
      },
      "outputs": [
        {
          "name": "stdout",
          "output_type": "stream",
          "text": [
            "||||||||||||||||||||||||||||||||||||||||||||||||||||||||||||||||||||||||||||||||\n"
          ]
        }
      ],
      "source": [
        "print(\"|\" * 80)"
      ]
    },
    {
      "cell_type": "markdown",
      "metadata": {},
      "source": [
        "### <font color=\"green\">2- Opérations sur les chaînes de caractères et les types numériques </font>"
      ]
    },
    {
      "cell_type": "markdown",
      "metadata": {
        "id": "U_GTI_zQcrUQ"
      },
      "source": [
        "Essayer de deviner le résultat des opérations suivantes :\n",
        "\n",
        "1. `(1 + 2) ** 4`\n",
        "2. `\"Na\" * 4`\n",
        "3. `\"Na\" + 4`\n",
        "4. `(\"Na\" + \"Ni\") * 4`\n",
        "5. `(\"Na\" * 4) / 4`\n",
        "6. `\"Na\" + \"4\"`\n",
        "7. `7 / 4`\n",
        "8. `7 // 4`\n",
        "9. `7 % 4`\n",
        "\n",
        "Puis, vérifier les résultats en exécutant le code correspondant."
      ]
    },
    {
      "cell_type": "code",
      "execution_count": null,
      "metadata": {},
      "outputs": [],
      "source": [
        "# Votre code"
      ]
    },
    {
      "cell_type": "markdown",
      "metadata": {
        "id": "CvTjYf2CrHDK"
      },
      "source": [
        "### <font color=\"red\"> Solution </font>"
      ]
    },
    {
      "cell_type": "code",
      "execution_count": 4,
      "metadata": {
        "id": "WlnaXHfYrGHa"
      },
      "outputs": [
        {
          "name": "stdout",
          "output_type": "stream",
          "text": [
            "81\n",
            "NaNaNaNa\n",
            "NaNiNaNiNaNiNaNi\n",
            "Na4\n",
            "1.75\n",
            "1\n",
            "3\n"
          ]
        }
      ],
      "source": [
        "print((1 + 2) ** 4)\n",
        "print(\"Na\" * 4)\n",
        "# print(\"Na\" + 4) #TypeError: must be str, not int\n",
        "print((\"Na\" + \"Ni\") * 4)\n",
        "# print((\"Na\" * 4) / 4) #TypeError: unsupported operand type(s) for /: 'str' and 'int'\n",
        "print(\"Na\" + \"4\")\n",
        "print(7 / 4)\n",
        "print(7 // 4)\n",
        "print(7 % 4)"
      ]
    },
    {
      "cell_type": "markdown",
      "metadata": {},
      "source": [
        "### <font color=\"green\">3- Conversion de types entre chaînes de caractères et types numériques  </font>"
      ]
    },
    {
      "cell_type": "markdown",
      "metadata": {
        "id": "vYA-HAm-dYAK"
      },
      "source": [
        "Essayer de deviner le résultat des opérations suivantes :\n",
        "\n",
        "1. `int(\"2\") * int(\"3\")`\n",
        "2. `str(2) * int(\"3\")`\n",
        "3. `str(\"2\") * int(3)`\n",
        "4. `int(\"2\") + float(\"3.4\")`\n",
        "5. `str(2) * float(3)`\n",
        "6. `str(3/4) * 2`\n",
        "\n",
        "Puis, vérifier les résultats en exécutant le code correspondant."
      ]
    },
    {
      "cell_type": "code",
      "execution_count": null,
      "metadata": {},
      "outputs": [],
      "source": [
        "# Votre code"
      ]
    },
    {
      "cell_type": "markdown",
      "metadata": {
        "id": "Gp6QVEzXr9vb"
      },
      "source": [
        "### <font color=\"red\"> Solution </font>"
      ]
    },
    {
      "cell_type": "code",
      "execution_count": 6,
      "metadata": {
        "id": "udPyNC9DsAS5"
      },
      "outputs": [
        {
          "name": "stdout",
          "output_type": "stream",
          "text": [
            "6\n",
            "222\n",
            "222\n",
            "5.4\n",
            "0.750.75\n"
          ]
        }
      ],
      "source": [
        "print(int(\"2\") * int(\"3\"))\n",
        "print(str(2) * int(\"3\"))\n",
        "print(str(\"2\") * int(3))\n",
        "print(int(\"2\") + float(\"3.4\"))\n",
        "# print(str(2) * float(3)) #TypeError: can't multiply sequence by non-int of type 'float'\n",
        "print(str(3/4) * 2)"
      ]
    },
    {
      "cell_type": "markdown",
      "metadata": {},
      "source": [
        "### <font color=\"green\">4- Conversion de types avec des variables booléennes </font>"
      ]
    },
    {
      "cell_type": "markdown",
      "metadata": {},
      "source": [
        "Essayer de deviner le résultat des opérations suivantes :\n",
        "\n",
        "1. `int(2) * bool(3)`\n",
        "2. `str(2) * bool(3)`\n",
        "3. `bool(0) * str(2)`\n",
        "\n",
        "Puis, vérifier les résultats en exécutant le code correspondant."
      ]
    },
    {
      "cell_type": "code",
      "execution_count": null,
      "metadata": {},
      "outputs": [],
      "source": [
        "# Votre code"
      ]
    },
    {
      "cell_type": "markdown",
      "metadata": {},
      "source": [
        "### <font color=\"red\"> Solution </font>"
      ]
    },
    {
      "cell_type": "code",
      "execution_count": 8,
      "metadata": {},
      "outputs": [
        {
          "name": "stdout",
          "output_type": "stream",
          "text": [
            "2\n",
            "2\n",
            "\n"
          ]
        }
      ],
      "source": [
        "print(int(\"2\") * bool(3))\n",
        "print(str(2) * bool(3))\n",
        "print(bool(0) * str(2))"
      ]
    }
  ],
  "metadata": {
    "colab": {
      "collapsed_sections": [
        "ATLOcnM0sXtY",
        "CvTjYf2CrHDK",
        "Gp6QVEzXr9vb"
      ],
      "private_outputs": true,
      "provenance": []
    },
    "kernelspec": {
      "display_name": "test-py3.11",
      "language": "python",
      "name": "python3"
    },
    "language_info": {
      "codemirror_mode": {
        "name": "ipython",
        "version": 3
      },
      "file_extension": ".py",
      "mimetype": "text/x-python",
      "name": "python",
      "nbconvert_exporter": "python",
      "pygments_lexer": "ipython3",
      "version": "3.11.4"
    }
  },
  "nbformat": 4,
  "nbformat_minor": 0
}
