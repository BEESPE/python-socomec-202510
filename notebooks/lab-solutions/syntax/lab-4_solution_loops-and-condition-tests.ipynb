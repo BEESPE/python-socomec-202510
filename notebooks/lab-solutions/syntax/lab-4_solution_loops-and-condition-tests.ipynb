{
  "cells": [
    {
      "cell_type": "markdown",
      "metadata": {
        "id": "gfMzjdfv8w7r"
      },
      "source": [
        "# <font color=\"purple\">Boucles et tests de condition</font>"
      ]
    },
    {
      "cell_type": "markdown",
      "metadata": {
        "id": "0pvpd7RH85Ta"
      },
      "source": [
        "## <font color=\"green\">1- Les jours de la semaine (le retour du retour)</font>\n",
        "\n",
        "Reprenons notre liste `week` contenant les noms des sept jours de la semaine.\n",
        "\n",
        "À l’aide d’une boucle, écrire chaque jour de la semaine accompagné des messages suivants :\n",
        "\n",
        "- `Au travail` si c’est du lundi au jeudi ;\n",
        "- `Hourra !` si c’est vendredi ;\n",
        "- `Repos ce week-end` si c’est samedi ou dimanche."
      ]
    },
    {
      "cell_type": "code",
      "execution_count": 1,
      "metadata": {},
      "outputs": [],
      "source": [
        "week = [\n",
        "    \"monday\",\n",
        "    \"tuesday\",\n",
        "    \"wednesday\",\n",
        "    \"thursday\",\n",
        "    \"friday\",\n",
        "    \"saturday\",\n",
        "    \"sunday\",\n",
        "]"
      ]
    },
    {
      "cell_type": "code",
      "execution_count": 2,
      "metadata": {
        "id": "9KMEeK8T9yQ4"
      },
      "outputs": [],
      "source": [
        "# Votre code"
      ]
    },
    {
      "cell_type": "markdown",
      "metadata": {
        "id": "jXHz487l9_4O"
      },
      "source": [
        "### <font color=\"red\"> Solution </font>"
      ]
    },
    {
      "cell_type": "code",
      "execution_count": 3,
      "metadata": {
        "id": "alL5SpzO-BO8"
      },
      "outputs": [
        {
          "name": "stdout",
          "output_type": "stream",
          "text": [
            "monday Au travail\n",
            "tuesday Au travail\n",
            "wednesday Au travail\n",
            "thursday Au travail\n",
            "friday Hourra !\n",
            "saturday Repos ce WE\n",
            "sunday Repos ce WE\n"
          ]
        }
      ],
      "source": [
        "for day in week:\n",
        "    print(day, end=\" \")\n",
        "    if day == \"friday\":\n",
        "        print(\"Hourra !\")\n",
        "    elif day in (\"saturday\", \"sunday\"):\n",
        "        print(\"Repos ce WE\")\n",
        "    else:\n",
        "        print(\"Au travail\")"
      ]
    },
    {
      "cell_type": "markdown",
      "metadata": {
        "id": "CG7sUbE_9BDg"
      },
      "source": [
        "## <font color=\"green\">2- Séquence complémentaire d'un brin d'ADN</font>\n",
        "\n",
        "Cette liste représente une séquence d'ADN :\n",
        "\n",
        "```python\n",
        "[\"A\", \"C\", \"G\", \"T\", \"T\", \"A\", \"G\", \"C\", \"T\", \"A\", \"A\", \"C\", \"G\"]\n",
        "```\n",
        "\n",
        "Créer un script qui transforme cette séquence en sa séquence complémentaire.\n",
        "\n",
        "La séquence complémentaire est obtenue en remplaçant `A` par `T`, `T` par `A`, `C` par `G` et `G` par `C`."
      ]
    },
    {
      "cell_type": "code",
      "execution_count": 4,
      "metadata": {
        "id": "9G1HXPgB90E6"
      },
      "outputs": [],
      "source": [
        "# Votre code"
      ]
    },
    {
      "cell_type": "markdown",
      "metadata": {
        "id": "Lwa61s9D-hl7"
      },
      "source": [
        "### <font color=\"red\"> Solution </font>"
      ]
    },
    {
      "cell_type": "code",
      "execution_count": 5,
      "metadata": {
        "id": "vkC95SJ2-jTS"
      },
      "outputs": [
        {
          "name": "stdout",
          "output_type": "stream",
          "text": [
            "['T', 'G', 'C', 'A', 'A', 'T', 'C', 'G', 'A', 'T', 'T', 'G', 'C']\n"
          ]
        }
      ],
      "source": [
        "dna_strand = [\"A\", \"C\", \"G\", \"T\", \"T\", \"A\", \"G\", \"C\", \"T\", \"A\", \"A\", \"C\", \"G\"]\n",
        "\n",
        "comp_dna_strand = []\n",
        "for nitrogenous_base in dna_strand:\n",
        "    if nitrogenous_base == \"A\":\n",
        "        comp_dna_strand.append(\"T\")\n",
        "    elif nitrogenous_base == \"T\":\n",
        "        comp_dna_strand.append(\"A\")\n",
        "    elif nitrogenous_base == \"C\":\n",
        "        comp_dna_strand.append(\"G\")\n",
        "    else:\n",
        "        comp_dna_strand.append(\"C\")\n",
        "\n",
        "print(comp_dna_strand)"
      ]
    },
    {
      "cell_type": "markdown",
      "metadata": {
        "id": "JWqNHOak9EyG"
      },
      "source": [
        "## <font color=\"green\">3- Minimum d'une liste</font>\n",
        "\n",
        "La fonction Python [`min`](https://docs.python.org/fr/3/library/functions.html#min) renvoie le plus petit élément d'une liste composée de valeurs numériques ou de chaînes de caractères. SANS utiliser cette fonction, créer un script qui détermine le plus petit élément de la liste `[8, 4, 6, 1, 5]`."
      ]
    },
    {
      "cell_type": "code",
      "execution_count": 6,
      "metadata": {
        "id": "BhrH8xuh91Ol"
      },
      "outputs": [],
      "source": [
        "a = [8, 4, 6, 1, 5]\n",
        "\n",
        "# Votre code"
      ]
    },
    {
      "cell_type": "markdown",
      "metadata": {
        "id": "VLPZFRQm_WLI"
      },
      "source": [
        "### <font color=\"red\"> Solution </font>"
      ]
    },
    {
      "cell_type": "code",
      "execution_count": 7,
      "metadata": {
        "id": "0SDzZyIv_X9P"
      },
      "outputs": [
        {
          "name": "stdout",
          "output_type": "stream",
          "text": [
            "1\n"
          ]
        }
      ],
      "source": [
        "a = [8, 4, 6, 1, 5]\n",
        "\n",
        "minimum = a[0]\n",
        "for element in a[1:]:\n",
        "    if element < minimum:\n",
        "        minimum = element\n",
        "\n",
        "print(minimum)"
      ]
    },
    {
      "cell_type": "markdown",
      "metadata": {
        "id": "KblkLjdP9Iaa"
      },
      "source": [
        "## <font color=\"green\">4- Fréquence d'acides aminés</font>\n",
        "\n",
        "La liste ci-dessous représente une séquence d'acides aminés :\n",
        "\n",
        "```python\n",
        "[\"A\", \"R\", \"A\", \"W\", \"W\", \"A\", \"W\", \"A\", \"R\", \"W\", \"W\", \"R\", \"A\", \"G\"]\n",
        "```\n",
        "\n",
        "Calculer la fréquence d'alanine (`A`), d'arginine (`R`), de tryptophane (`W`) et de glycine (`G`) dans cette séquence."
      ]
    },
    {
      "cell_type": "code",
      "execution_count": 8,
      "metadata": {
        "id": "3pAAfAlp915l"
      },
      "outputs": [],
      "source": [
        "amino_acids = [\"A\", \"R\", \"A\", \"W\", \"W\", \"A\", \"W\", \"A\", \"R\", \"W\", \"W\", \"R\", \"A\", \"G\"]\n",
        "\n",
        "# Votre code"
      ]
    },
    {
      "cell_type": "markdown",
      "metadata": {
        "id": "WRilJQpWfHBw"
      },
      "source": [
        "### <font color=\"red\"> Solution </font>"
      ]
    },
    {
      "cell_type": "code",
      "execution_count": 9,
      "metadata": {
        "id": "vNsjVRw9fH2d"
      },
      "outputs": [
        {
          "name": "stdout",
          "output_type": "stream",
          "text": [
            "Frequency of alanine: 0.35714285714285715\n",
            "Frequency of arginine: 0.21428571428571427\n",
            "Frequency of tryptophan: 0.35714285714285715\n",
            "Frequency of glycine: 0.07142857142857142\n"
          ]
        }
      ],
      "source": [
        "# if we forbid the use of the .count() method:\n",
        "amino_acids = [\"A\", \"R\", \"A\", \"W\", \"W\", \"A\", \"W\", \"A\", \"R\", \"W\", \"W\", \"R\", \"A\", \"G\"]\n",
        "\n",
        "count_a = 0\n",
        "count_r = 0\n",
        "count_w = 0\n",
        "count_g = 0\n",
        "\n",
        "for acid in amino_acids:\n",
        "    if acid == \"A\":\n",
        "        count_a += 1\n",
        "    elif acid == \"R\":\n",
        "        count_r += 1\n",
        "    elif acid == \"W\":\n",
        "        count_w += 1\n",
        "    elif acid == \"G\":\n",
        "        count_g += 1\n",
        "\n",
        "print(\"Frequency of alanine:\", count_a / len(amino_acids))\n",
        "print(\"Frequency of arginine:\", count_r / len(amino_acids))\n",
        "print(\"Frequency of tryptophan:\", count_w / len(amino_acids))\n",
        "print(\"Frequency of glycine:\", count_g / len(amino_acids))"
      ]
    },
    {
      "cell_type": "code",
      "execution_count": 10,
      "metadata": {},
      "outputs": [
        {
          "name": "stdout",
          "output_type": "stream",
          "text": [
            "Frequency of alanine: 0.35714285714285715\n",
            "Frequency of arginine: 0.21428571428571427\n",
            "Frequency of tryptophan: 0.35714285714285715\n",
            "Frequency of glycine: 0.07142857142857142\n"
          ]
        }
      ],
      "source": [
        "# if we allow the use of the .count() method:\n",
        "print(\n",
        "    \"Frequency of alanine:\",\n",
        "    amino_acids.count(\"A\") / len(amino_acids),\n",
        ")\n",
        "print(\n",
        "    \"Frequency of arginine:\",\n",
        "    amino_acids.count(\"R\") / len(amino_acids),\n",
        ")\n",
        "print(\n",
        "    \"Frequency of tryptophan:\",\n",
        "    amino_acids.count(\"W\") / len(amino_acids),\n",
        ")\n",
        "print(\n",
        "    \"Frequency of glycine:\",\n",
        "    amino_acids.count(\"G\") / len(amino_acids),\n",
        ")"
      ]
    },
    {
      "cell_type": "code",
      "execution_count": 11,
      "metadata": {},
      "outputs": [
        {
          "name": "stdout",
          "output_type": "stream",
          "text": [
            "Frequency of alanine: 0.35714285714285715\n",
            "Frequency of alanine: 0.21428571428571427\n",
            "Frequency of alanine: 0.35714285714285715\n",
            "Frequency of alanine: 0.07142857142857142\n"
          ]
        }
      ],
      "source": [
        "# a version with list comprehensions:\n",
        "print(\n",
        "    \"Frequency of alanine:\",\n",
        "    len([acid for acid in amino_acids if acid==\"A\"]) / len(amino_acids),\n",
        ")\n",
        "print(\n",
        "    \"Frequency of alanine:\",\n",
        "    len([acid for acid in amino_acids if acid==\"R\"]) / len(amino_acids),\n",
        ")\n",
        "print(\n",
        "    \"Frequency of alanine:\",\n",
        "    len([acid for acid in amino_acids if acid==\"W\"]) / len(amino_acids),\n",
        ")\n",
        "print(\n",
        "    \"Frequency of alanine:\",\n",
        "    len([acid for acid in amino_acids if acid==\"G\"]) / len(amino_acids),\n",
        ")"
      ]
    },
    {
      "cell_type": "markdown",
      "metadata": {
        "id": "UG03i8Rj9M6B"
      },
      "source": [
        "## <font color=\"green\">5- Notes et mention d'un étudiant</font>\n",
        "\n",
        "Voici les notes d'un étudiant&nbsp;: 14, 9, 13, 15 et 12. Créer un script qui affiche la note maximum (utiliser la fonction [`max`](https://docs.python.org/fr/3/library/functions.html#max)), la note minimum (utiliser la fonction [`min`](https://docs.python.org/fr/3/library/functions.html#min)) et qui calcule la moyenne.\n",
        "\n",
        "Afficher la valeur de la moyenne avec deux décimales. Afficher aussi la mention obtenue sachant que la mention est «&nbsp;passable&nbsp;» si la moyenne est entre 10 inclus et 12 exclus, «&nbsp;assez bien&nbsp;» entre 12 inclus et 14 exclus et «&nbsp;bien&nbsp;» au-delà de 14."
      ]
    },
    {
      "cell_type": "code",
      "execution_count": 12,
      "metadata": {
        "id": "hbOw3Z5x93AM"
      },
      "outputs": [],
      "source": [
        "# Votre code"
      ]
    },
    {
      "cell_type": "markdown",
      "metadata": {
        "id": "0lNSfwNSANAn"
      },
      "source": [
        "### <font color=\"red\"> Solution </font>"
      ]
    },
    {
      "cell_type": "code",
      "execution_count": 13,
      "metadata": {
        "id": "xAyhNkVfAN3B"
      },
      "outputs": [
        {
          "name": "stdout",
          "output_type": "stream",
          "text": [
            "Minimum : 9\n",
            "Maximum : 15\n",
            "Moyenne : 12.60\n",
            "Mention : assez bien\n"
          ]
        }
      ],
      "source": [
        "notes = [14, 9, 13, 15, 12]\n",
        "\n",
        "moyenne = sum(notes) / len(notes)\n",
        "\n",
        "if 10 <= moyenne < 12:\n",
        "    mention = \"passable\"\n",
        "elif 12 <= moyenne < 14:\n",
        "    mention = \"assez bien\"\n",
        "elif 14 <= moyenne:\n",
        "    mention = \"bien\"\n",
        "else:\n",
        "    mention = \"aucune\"\n",
        "\n",
        "print(\"Minimum :\", min(notes))\n",
        "print(\"Maximum :\", max(notes))\n",
        "print(\"Moyenne : {:.2f}\".format(moyenne))\n",
        "print(\"Mention :\", mention)"
      ]
    },
    {
      "cell_type": "markdown",
      "metadata": {
        "id": "Exhyo_0B9Q9t"
      },
      "source": [
        "## <font color=\"green\">6- Nombres pairs</font>\n",
        "\n",
        "Construire une boucle qui parcourt les nombres de 0 à 20 et qui affiche les nombres pairs inférieurs ou égaux à 10 d'une part, et les nombres impairs strictement supérieurs à 10 d'autre part.\n",
        "\n",
        "Pour cet exercice, vous pourrez utiliser l'opérateur modulo `%` qui renvoie le reste de la division entière entre deux nombres et dont voici quelques exemples d'utilisation&nbsp;:\n",
        "\n",
        "```python\n",
        ">>> 4 % 3\n",
        "1\n",
        ">>> 5 % 3\n",
        "2\n",
        ">>> 4 % 2\n",
        "0\n",
        ">>> 5 % 2\n",
        "1\n",
        ">>> 6 % 2\n",
        "0\n",
        ">>> 7 % 2\n",
        "1\n",
        "```\n",
        "\n",
        "Un nombre est pair lorsque le reste de sa division entière par 2 est nul."
      ]
    },
    {
      "cell_type": "code",
      "execution_count": 14,
      "metadata": {
        "id": "nFSXGYK193_j"
      },
      "outputs": [],
      "source": [
        "# Votre code"
      ]
    },
    {
      "cell_type": "markdown",
      "metadata": {
        "id": "ytDMPjK6BHRQ"
      },
      "source": [
        "### <font color=\"red\"> Solution </font>"
      ]
    },
    {
      "cell_type": "code",
      "execution_count": 15,
      "metadata": {
        "id": "HQ6LYEjXBIOa"
      },
      "outputs": [
        {
          "name": "stdout",
          "output_type": "stream",
          "text": [
            "0\n",
            "2\n",
            "4\n",
            "6\n",
            "8\n",
            "10\n",
            "11\n",
            "13\n",
            "15\n",
            "17\n",
            "19\n"
          ]
        }
      ],
      "source": [
        "for i in range(21):\n",
        "    if i <= 10 and i % 2 == 0 or i > 10 and i % 2 == 1:\n",
        "        print(i)"
      ]
    },
    {
      "cell_type": "markdown",
      "metadata": {
        "id": "zzXjUQBZ9XLI"
      },
      "source": [
        "## <font color=\"green\">7- Conjecture de Syracuse</font>\n",
        "\n",
        "La [conjecture de Syracuse](http://fr.wikipedia.org/wiki/Conjecture_de_Syracuse) est une conjecture mathématique qui reste improuvée à ce jour et qui est définie de la manière suivante.\n",
        "\n",
        "Soit un entier positif $n$. Si $n$ est pair, alors le diviser par 2. Si il est impair, alors le multiplier par 3 et lui ajouter 1. En répétant cette procédure, la suite de nombres atteint la valeur 1 puis se prolonge indéfiniment par une suite de trois valeurs triviales appelée cycle trivial.\n",
        "\n",
        "Jusqu'à présent, la conjecture de Syracuse, selon laquelle depuis n'importe quel entier positif la suite de Syracuse atteint 1, n'a pas été mise en défaut.\n",
        "\n",
        "Par exemple, les premiers éléments de la suite de Syracuse si on prend comme point de départ 10 sont&nbsp;: 10, 5, 16, 8, 4, 2, 1...\n",
        "\n",
        "Créer un script qui, partant d'un entier positif $n$ (par exemple 10 ou 20), crée une liste des nombres de la suite de Syracuse. Avec différents points de départ (c'est-à-dire avec différentes valeurs de $n$), la conjecture de Syracuse est-elle toujours vérifiée&nbsp;? Quels sont les nombres qui constituent le cycle trivial&nbsp;?\n",
        "\n",
        "Remarques :\n",
        "\n",
        "1. Pour cet exercice, vous avez besoin de faire un nombre d'itérations inconnu pour que la suite de Syracuse atteigne le chiffre 1 puis entame son cycle trivial. Vous pourrez tester votre algorithme avec un nombre arbitraire d'itérations, typiquement 20 ou 100, suivant votre nombre n de départ.\n",
        "1. Un nombre est pair lorsque le reste de sa division entière (opérateur modulo `%`) par 2 est nul."
      ]
    },
    {
      "cell_type": "code",
      "execution_count": 16,
      "metadata": {
        "id": "yAI57JiX95Ry"
      },
      "outputs": [],
      "source": [
        "# Votre code"
      ]
    },
    {
      "cell_type": "markdown",
      "metadata": {
        "id": "J1SFWUjJguhK"
      },
      "source": [
        "### <font color=\"red\"> Solution </font>"
      ]
    },
    {
      "cell_type": "code",
      "execution_count": 17,
      "metadata": {
        "id": "eMWpwfxygvbC"
      },
      "outputs": [
        {
          "name": "stdout",
          "output_type": "stream",
          "text": [
            "n = 1 : convergence en 7 itérations\n",
            "[20, 10, 5, 16, 8, 4, 2, 1]\n"
          ]
        }
      ],
      "source": [
        "n = 20\n",
        "max_iterations = 1000\n",
        "\n",
        "ns = [n]\n",
        "iterations = 0\n",
        "while n != 1:\n",
        "    if iterations == max_iterations:\n",
        "        print(f\"n = {n} : pas de convergence en {max_iterations} itérations\")\n",
        "        break\n",
        "    if n % 2 == 0:\n",
        "        n //= 2\n",
        "    else:\n",
        "        n = n * 3 + 1\n",
        "    ns.append(n)\n",
        "    iterations += 1\n",
        "else:\n",
        "    print(f\"n = {n} : convergence en {iterations} itérations\")\n",
        "    print(ns)"
      ]
    },
    {
      "cell_type": "markdown",
      "metadata": {
        "id": "5WHgIgPs9gwd"
      },
      "source": [
        "## <font color=\"green\">8- Détermination des nombres premiers inférieurs à 100</font>\n",
        "\n",
        "Voici un extrait de [l'article sur les nombres premiers](http://fr.wikipedia.org/wiki/Nombre_premier) tiré de l'encyclopédie en ligne wikipédia.\n",
        "\n",
        "Un nombre premier est un entier naturel qui admet exactement deux diviseurs distincts entiers et positifs (qui sont alors $1$ et lui-même). Cette définition exclut $1$, qui n'a qu'un seul diviseur entier positif. Par opposition, un nombre non nul produit de deux nombres entiers différents de $1$ est dit composé. Par exemple $6 = 2 \\times 3$ est composé, tout comme $21 = 3 \\times 7$, mais $11$ est premier car $1$ et $11$ sont les seuls diviseurs de $11$. Les nombres $0$ et $1$ ne sont ni premiers ni composés.\n",
        "\n",
        "Déterminez les nombres premiers inférieurs à $100$. Combien y a-t-il de nombres premiers entre $0$ et $100$&nbsp;? Pour vous aider, nous vous proposons plusieurs méthodes.\n",
        "\n",
        "#### Méthode 1 (peu optimale mais assez intuitive)\n",
        "\n",
        "Pour chaque nombre de $2$ à $100$, calculez le reste de la division entière (avec l'opérateur modulo `%`) depuis $2$ jusqu'à lui-même moins $1$. Si c'est un nombre premier, il n'y aura aucun nombre ayant un reste de la division entière égal à $0$.\n",
        "\n",
        "#### Méthode 2 (plus optimale et plus rapide, mais un peu plus compliquée)\n",
        "\n",
        "Parcourez tous les nombres de $2$ à $100$ et vérifiez si ceux-ci sont composés, c'est-à-dire qu'ils sont le produit de deux nombres premiers. Pratiquement, cela consiste à vérifier que le reste de la division entière (opérateur modulo `%`) entre le nombre considéré et chaque nombre premier déterminé jusqu'à maintenant est nul. Le cas échéant, ce nombre n'est pas premier. Attention, pour cette méthode, il faudra initialiser la liste de nombres premiers avec le premier nombre premier (donc $2$&nbsp;!)."
      ]
    },
    {
      "cell_type": "code",
      "execution_count": 18,
      "metadata": {
        "id": "kF6V2per96Ve"
      },
      "outputs": [],
      "source": [
        "# Votre code"
      ]
    },
    {
      "cell_type": "markdown",
      "metadata": {
        "id": "9Ync6XnXkzoA"
      },
      "source": [
        "### <font color=\"red\">Solution</font>"
      ]
    },
    {
      "cell_type": "code",
      "execution_count": 19,
      "metadata": {
        "id": "tEFj14Q2k1L-"
      },
      "outputs": [
        {
          "name": "stdout",
          "output_type": "stream",
          "text": [
            "[2, 3, 5, 7, 11, 13, 17, 19, 23, 29, 31, 37, 41, 43, 47, 53, 59, 61, 67, 71, 73, 79, 83, 89, 97]\n",
            "[2, 3, 5, 7, 11, 13, 17, 19, 23, 29, 31, 37, 41, 43, 47, 53, 59, 61, 67, 71, 73, 79, 83, 89, 97]\n",
            "[2, 3, 5, 7, 11, 13, 17, 19, 23, 29, 31, 37, 41, 43, 47, 53, 59, 61, 67, 71, 73, 79, 83, 89, 97]\n"
          ]
        }
      ],
      "source": [
        "# Méthode 1\n",
        "premiers = []\n",
        "for n in range(2, 101):\n",
        "    premier = True\n",
        "    for m in range(2, n):\n",
        "        if n % m == 0:\n",
        "            premier = False\n",
        "            break\n",
        "    if premier:\n",
        "        premiers.append(n)\n",
        "print(premiers)\n",
        "\n",
        "# Méthode 1 avec la forme for ... else ...\n",
        "premiers = []\n",
        "for n in range(2, 101):\n",
        "    for m in range(2, n):\n",
        "        if n % m == 0:\n",
        "            break\n",
        "    else:\n",
        "        premiers.append(n)\n",
        "print(premiers)\n",
        "\n",
        "# Méthode 2\n",
        "premiers = []\n",
        "for n in range(2, 101):\n",
        "    for premier in premiers:\n",
        "        if n % premier == 0:\n",
        "            break\n",
        "    else:\n",
        "        premiers.append(n)\n",
        "print(premiers)"
      ]
    },
    {
      "cell_type": "markdown",
      "metadata": {
        "id": "zsbCksLM9rf2"
      },
      "source": [
        "## <font color=\"green\">9- Recherche d'un nombre par dichotomie</font>\n",
        "\n",
        "La recherche par [dichotomie](https://fr.wikipedia.org/wiki/Dichotomie) est une méthode qui consiste à diviser (en général en parties égales) un problème pour en trouver la solution. À titre d'exemple, voici une discussion entre Pierre et Patrick dans laquelle Pierre essaie de deviner le nombre (compris entre 1 et 100 inclus) auquel Patrick a pensé.\n",
        "\n",
        "- [Patrick] «&nbsp;C'est bon, j'ai pensé à un nombre entre 1 et 100.&nbsp;»\n",
        "- [Pierre] «&nbsp;OK, je vais essayer de le deviner. Est-ce que ton nombre est plus petit ou plus grand que 50&nbsp;?&nbsp;»\n",
        "- [Patrick] «&nbsp;Plus grand.&nbsp;»\n",
        "- [Pierre] «&nbsp;Est-ce que ton nombre est plus petit, plus grand ou égal à 75&nbsp;?&nbsp;»\n",
        "- [Patrick] «&nbsp;Plus grand.&nbsp;»\n",
        "- [Pierre] «&nbsp;Est-ce que ton nombre est plus petit, plus grand ou égal à 87&nbsp;?&nbsp;»\n",
        "- [Patrick] «&nbsp;Plus petit.&nbsp;»\n",
        "- [Pierre] «&nbsp;Est-ce que ton nombre est plus petit, plus grand ou égal à 81&nbsp;?&nbsp;»\n",
        "- [Patrick] «&nbsp;Plus petit.&nbsp;»\n",
        "- [Pierre] «&nbsp;Est-ce que ton nombre est plus petit, plus grand ou égal à 78&nbsp;?&nbsp;»\n",
        "- [Patrick] «&nbsp;Plus grand.&nbsp;»\n",
        "- [Pierre] «&nbsp;Est-ce que ton nombre est plus petit, plus grand ou égal à 79&nbsp;?&nbsp;»\n",
        "- [Patrick] «&nbsp;Égal. C'est le nombre auquel j'avais pensé. Bravo&nbsp;!&nbsp;»\n",
        "\n",
        "Pour arriver rapidement à deviner le nombre, l'astuce consiste à prendre à chaque fois la moitié de l'intervalle dans lequel se trouve le nombre. Voici le détail des différentes étapes&nbsp;:\n",
        "\n",
        "- le nombre se trouve entre 1 et 100, on propose 50 (100 / 2).\n",
        "- le nombre se trouve entre 50 et 100, on propose 75 (50 + (100 - 50) / 2).\n",
        "- le nombre se trouve entre 75 et 100, on propose 87 (75 + (100 - 75) / 2).\n",
        "- le nombre se trouve entre 75 et 87, on propose 81 (75 + (87 - 75) / 2).\n",
        "- le nombre se trouve entre 75 et 81, on propose 78 (75 + (81 - 75) / 2).\n",
        "- le nombre se trouve entre 78 et 81, on propose 79 (78 + (81 - 78) / 2).\n",
        "\n",
        "Créer un script qui reproduit ce jeu de devinettes. Vous pensez à un nombre entre 1 et 100 et l'ordinateur essaie de le deviner par dichotomie en vous posant des questions.\n",
        "\n",
        "Votre programme utilisera la fonction [`input`](https://docs.python.org/fr/3/library/functions.html#input) pour interagir avec l'utilisateur. Voici un exemple de son fonctionnement&nbsp;:\n",
        "\n",
        "```python\n",
        ">>> lettre = input(\"Entrez une lettre : \")\n",
        "Entrez une lettre : P\n",
        ">>> print(lettre)\n",
        "P\n",
        "```\n",
        "\n",
        "Pour vous guider, voici ce que donnerait le programme avec la conversation précédente&nbsp;:\n",
        "\n",
        "```default\n",
        "Pensez à un nombre entre 1 et 100.\n",
        "Est-ce que votre nombre est plus grand, plus petit ou égal à 50 ? [+/-/=] +\n",
        "Est-ce que votre nombre est plus grand, plus petit ou égal à 75 ? [+/-/=] +\n",
        "Est-ce que votre nombre est plus grand, plus petit ou égal à 87 ? [+/-/=] -\n",
        "Est-ce que votre nombre est plus grand, plus petit ou égal à 81 ? [+/-/=] -\n",
        "Est-ce que votre nombre est plus grand, plus petit ou égal à 78 ? [+/-/=] +\n",
        "Est-ce que votre nombre est plus grand, plus petit ou égal à 79 ? [+/-/=] =\n",
        "J'ai trouvé en 6 questions !\n",
        "```\n",
        "\n",
        "Les caractères `[+/-/=]` indiquent à l'utilisateur comment il doit interagir avec l'ordinateur, c'est-à-dire entrer soit le caractère `+` si le nombre choisi est plus grand que le nombre proposé par l'ordinateur, soit le caractère `-` si le nombre choisi est plus petit que le nombre proposé par l'ordinateur, soit le caractère `=` si le nombre choisi est celui proposé par l'ordinateur (en appuyant ensuite sur la touche *Entrée*)."
      ]
    },
    {
      "cell_type": "code",
      "execution_count": 20,
      "metadata": {
        "id": "8QTEJSeJ97T_"
      },
      "outputs": [],
      "source": [
        "# Votre code ici"
      ]
    },
    {
      "cell_type": "markdown",
      "metadata": {
        "id": "ZG5TXwwRTFzO"
      },
      "source": [
        "### <font color=\"red\">Solution</font>"
      ]
    },
    {
      "cell_type": "code",
      "execution_count": 21,
      "metadata": {
        "id": "EFNyzoq3THQi"
      },
      "outputs": [
        {
          "name": "stdout",
          "output_type": "stream",
          "text": [
            "Pensez à un nombre entre 1 et 100.\n",
            "J'ai trouvé en 6 questions !\n"
          ]
        }
      ],
      "source": [
        "print(\"Pensez à un nombre entre 1 et 100.\")\n",
        "\n",
        "bas = 1\n",
        "haut = 100\n",
        "iterations = 1\n",
        "while True:\n",
        "    moitie = bas + (haut - bas) // 2\n",
        "    indice = input(\"Est-ce que votre nombre est plus grand, plus petit ou égal \"\n",
        "                   f\"à {moitie} ? [+/-/=] \")\n",
        "    if indice == \"+\":\n",
        "        bas = moitie\n",
        "    elif indice == \"-\":\n",
        "        haut = moitie\n",
        "    elif indice == \"=\":\n",
        "        break\n",
        "    iterations += 1\n",
        "\n",
        "print(f\"J'ai trouvé en {iterations} questions !\")"
      ]
    }
  ],
  "metadata": {
    "colab": {
      "collapsed_sections": [
        "jXHz487l9_4O",
        "Lwa61s9D-hl7",
        "VLPZFRQm_WLI",
        "WRilJQpWfHBw",
        "0lNSfwNSANAn",
        "ytDMPjK6BHRQ",
        "J1SFWUjJguhK",
        "9Ync6XnXkzoA",
        "ZG5TXwwRTFzO"
      ],
      "private_outputs": true,
      "provenance": [],
      "toc_visible": true
    },
    "kernelspec": {
      "display_name": "test-py3.11",
      "language": "python",
      "name": "python3"
    },
    "language_info": {
      "codemirror_mode": {
        "name": "ipython",
        "version": 3
      },
      "file_extension": ".py",
      "mimetype": "text/x-python",
      "name": "python",
      "nbconvert_exporter": "python",
      "pygments_lexer": "ipython3",
      "version": "3.11.4"
    }
  },
  "nbformat": 4,
  "nbformat_minor": 0
}
