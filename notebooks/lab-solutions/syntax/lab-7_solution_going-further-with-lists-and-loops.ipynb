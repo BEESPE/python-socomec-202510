{
  "cells": [
    {
      "cell_type": "markdown",
      "metadata": {},
      "source": [
        "## Going further with lists, loops and other stuff"
      ]
    },
    {
      "cell_type": "markdown",
      "metadata": {},
      "source": [
        "## <font color=\"green\"> Duplicates </font>\n",
        "\n",
        "Consider the list of integers `a = [5, 1, 1, 2, 5, 6, 3, 4, 4, 4, 2]`.\n",
        "\n",
        "From this list, create a new list without duplicates, sort it, and display it."
      ]
    },
    {
      "cell_type": "code",
      "execution_count": null,
      "metadata": {},
      "outputs": [],
      "source": [
        "# Your code"
      ]
    },
    {
      "cell_type": "markdown",
      "metadata": {},
      "source": [
        "### <font color=\"red\"> Solution </font>"
      ]
    },
    {
      "cell_type": "code",
      "execution_count": null,
      "metadata": {},
      "outputs": [],
      "source": [
        "a = [5, 1, 1, 2, 5, 6, 3, 4, 4, 4, 2]"
      ]
    },
    {
      "cell_type": "code",
      "execution_count": null,
      "metadata": {},
      "outputs": [
        {
          "name": "stdout",
          "output_type": "stream",
          "text": [
            "[1, 2, 3, 4, 5, 6]\n"
          ]
        }
      ],
      "source": [
        "print(list(set(a)))"
      ]
    },
    {
      "cell_type": "markdown",
      "metadata": {},
      "source": [
        "OR"
      ]
    },
    {
      "cell_type": "code",
      "execution_count": null,
      "metadata": {},
      "outputs": [
        {
          "name": "stdout",
          "output_type": "stream",
          "text": [
            "[1, 2, 3, 4, 5, 6]\n"
          ]
        }
      ],
      "source": [
        "def deduplicate_and_sort(some_list):\n",
        "    without_duplicates = []\n",
        "    for element in some_list:\n",
        "        if element not in without_duplicates:\n",
        "            without_duplicates.append(element)\n",
        "    return sorted(without_duplicates)\n",
        "\n",
        "print(deduplicate_and_sort(a))"
      ]
    },
    {
      "cell_type": "markdown",
      "metadata": {},
      "source": [
        "## <font color=\"green\"> Brute force the mystery number </font>\n",
        "\n",
        "Find the mystery number that meets the following conditions:\n",
        "\n",
        "- *It consists of 3 digits.*\n",
        "- *It is strictly less than 300.*\n",
        "- *It is even.*\n",
        "- *Two of its digits are identical.*\n",
        "- *The sum of its digits is equal to 7.*\n",
        "\n",
        "You are suggested to employ a method using a loop and testing the different conditions one way or another at each iteration."
      ]
    },
    {
      "cell_type": "code",
      "execution_count": null,
      "metadata": {},
      "outputs": [],
      "source": [
        "# Your code"
      ]
    },
    {
      "cell_type": "markdown",
      "metadata": {},
      "source": [
        "### <font color=\"red\"> Solution </font>"
      ]
    },
    {
      "cell_type": "code",
      "execution_count": null,
      "metadata": {},
      "outputs": [
        {
          "name": "stdout",
          "output_type": "stream",
          "text": [
            "232\n"
          ]
        }
      ],
      "source": [
        "for n in range(100, 300, 2): # start: 3 digits, stop: strictly less than 300, step: even\n",
        "    digits = [int(c) for c in str(n)]\n",
        "    if len(set(digits)) == 3: # 2 digits are identical\n",
        "        continue\n",
        "    if sum(digits) != 7: # sum of digits = 7\n",
        "        continue\n",
        "    print(n)"
      ]
    },
    {
      "cell_type": "markdown",
      "metadata": {},
      "source": [
        "## <font color=\"green\"> Pascal's triangle </font>\n",
        "\n",
        "To create Pascal's Triangle, one follows this simple pattern:\n",
        "\n",
        "- Start with a 1 at the top.\n",
        "- Each row thereafter starts and ends with a 1.\n",
        "- To find the values inside each row, add the two numbers directly above the current number in the row above.\n",
        "\n",
        "Here is the beginning of Pascal's Triangle:\n",
        "```default\n",
        "1\n",
        "1  1\n",
        "1  2  1\n",
        "1  3  3  1\n",
        "1  4  6  4  1\n",
        "1  5  10 10 5  1\n",
        "[...]\n",
        "```\n",
        "\n",
        "Implement this construction in Python through a function taking the desired size n of the triangle as a parameter and using a loop. Display the first 15 lines of Pascal's Triangle."
      ]
    },
    {
      "cell_type": "code",
      "execution_count": null,
      "metadata": {},
      "outputs": [],
      "source": [
        "# Your code"
      ]
    },
    {
      "cell_type": "markdown",
      "metadata": {},
      "source": [
        "### <font color=\"red\"> Solution </font>"
      ]
    },
    {
      "cell_type": "code",
      "execution_count": null,
      "metadata": {},
      "outputs": [],
      "source": [
        "def generate_pascals_triangle(n):\n",
        "    triangle = [[1]]\n",
        "\n",
        "    for row_num in range(2, n + 1):\n",
        "        # construct [1, ..., 1] where len ([...]) = num_row - 2\n",
        "        new_row = [1]\n",
        "        for i in range(1, row_num - 1):\n",
        "            new_row.append(triangle[-1][i - 1] + triangle[-1][i])\n",
        "        new_row.append(1)\n",
        "        \n",
        "        triangle.append(new_row)\n",
        "    \n",
        "    return triangle"
      ]
    },
    {
      "cell_type": "code",
      "execution_count": null,
      "metadata": {},
      "outputs": [
        {
          "name": "stdout",
          "output_type": "stream",
          "text": [
            "[1]\n",
            "[1, 1]\n",
            "[1, 2, 1]\n",
            "[1, 3, 3, 1]\n",
            "[1, 4, 6, 4, 1]\n",
            "[1, 5, 10, 10, 5, 1]\n",
            "[1, 6, 15, 20, 15, 6, 1]\n",
            "[1, 7, 21, 35, 35, 21, 7, 1]\n",
            "[1, 8, 28, 56, 70, 56, 28, 8, 1]\n",
            "[1, 9, 36, 84, 126, 126, 84, 36, 9, 1]\n",
            "[1, 10, 45, 120, 210, 252, 210, 120, 45, 10, 1]\n",
            "[1, 11, 55, 165, 330, 462, 462, 330, 165, 55, 11, 1]\n",
            "[1, 12, 66, 220, 495, 792, 924, 792, 495, 220, 66, 12, 1]\n",
            "[1, 13, 78, 286, 715, 1287, 1716, 1716, 1287, 715, 286, 78, 13, 1]\n",
            "[1, 14, 91, 364, 1001, 2002, 3003, 3432, 3003, 2002, 1001, 364, 91, 14, 1]\n"
          ]
        }
      ],
      "source": [
        "for row in generate_pascals_triangle(15):\n",
        "    print(row)"
      ]
    },
    {
      "cell_type": "markdown",
      "metadata": {},
      "source": [
        "## <font color=\"green\"> Double iteration over lists </font>"
      ]
    },
    {
      "cell_type": "markdown",
      "metadata": {},
      "source": [
        "Let a subsequence of a string be a new string formed from the original string, possibly by deleting certain characters without disturbing the relative positions of the remaining characters (for example, \"ace\" is a subsequence of \"abcde\" whereas \"aec\" is not).\n",
        "\n",
        "Write a function taking as input two strings s and t, and returning True if s is a \"subsequence\" of t, False otherwise.\n"
      ]
    },
    {
      "cell_type": "code",
      "execution_count": null,
      "metadata": {},
      "outputs": [],
      "source": [
        "# Your code"
      ]
    },
    {
      "cell_type": "markdown",
      "metadata": {},
      "source": [
        "### <font color=\"red\"> Solution </font>"
      ]
    },
    {
      "cell_type": "code",
      "execution_count": null,
      "metadata": {},
      "outputs": [],
      "source": [
        "def is_subsequence(s, t):\n",
        "\n",
        "    s_ind = 0\n",
        "    t_ind = 0\n",
        "\n",
        "    while s_ind < len(s) and t_ind < len(t):\n",
        "        if s[s_ind] == t[t_ind]:\n",
        "            s_ind += 1\n",
        "        t_ind += 1\n",
        "\n",
        "    return s_ind == len(s)"
      ]
    },
    {
      "cell_type": "code",
      "execution_count": null,
      "metadata": {},
      "outputs": [],
      "source": [
        "def is_subsequence(s, t):\n",
        "\n",
        "    for letter in s:\n",
        "        try:\n",
        "            t = t[t.index(letter) + 1:] \n",
        "        except ValueError:\n",
        "            return False\n",
        "    return True\n"
      ]
    },
    {
      "cell_type": "code",
      "execution_count": null,
      "metadata": {},
      "outputs": [
        {
          "data": {
            "text/plain": [
              "False"
            ]
          },
          "metadata": {},
          "output_type": "display_data"
        }
      ],
      "source": [
        "is_subsequence(\"aec\", \"abcde\")"
      ]
    }
  ],
  "metadata": {
    "colab": {
      "collapsed_sections": [
        "NAHFEWYf5dZ_",
        "ZB15J-Zb6hIv",
        "T6YXMy1u7dI1",
        "3mRq22Eq8AEM"
      ],
      "private_outputs": true,
      "provenance": []
    },
    "kernelspec": {
      "display_name": "Python 3",
      "name": "python3"
    },
    "language_info": {
      "codemirror_mode": {
        "name": "ipython",
        "version": 3
      },
      "file_extension": ".py",
      "mimetype": "text/x-python",
      "name": "python",
      "nbconvert_exporter": "python",
      "pygments_lexer": "ipython3",
      "version": "3.11.4"
    }
  },
  "nbformat": 4,
  "nbformat_minor": 0
}
