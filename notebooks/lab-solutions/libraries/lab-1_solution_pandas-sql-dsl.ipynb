{
 "cells": [
  {
   "cell_type": "markdown",
   "metadata": {},
   "source": [
    "Dans ce TP, nous considérons des trajets en vélo partagé (similaire au Vélib) en Californie. Deux jeux de données sont fournis : l'un qui contient les stations de vélo, l'autre, les trajets à vélo. Les déplacements à vélo se font d'une station à l'autre."
   ]
  },
  {
   "cell_type": "code",
   "execution_count": 2,
   "id": "adb4c325",
   "metadata": {},
   "outputs": [],
   "source": [
    "import pandas as pd\n",
    "import sqlite3"
   ]
  },
  {
   "cell_type": "markdown",
   "metadata": {},
   "source": [
    "Charger le fichier stationData.csv dans un DataFrame `station_df` et le fichier tripData.csv dans un DataFrame `trip_df`. Pour chaque DataFrame, il vous faudra demander une inférence des schémas et indiquer que la première ligne est un en-tête."
   ]
  },
  {
   "cell_type": "code",
   "execution_count": 3,
   "metadata": {},
   "outputs": [],
   "source": [
    "trip_df = pd.read_csv(\"../../data/tripData.csv\")\n",
    "station_df = pd.read_csv(\"../../data/stationData.csv\")"
   ]
  },
  {
   "cell_type": "markdown",
   "metadata": {},
   "source": [
    "Afficher les schémas/informations des deux DataFrames."
   ]
  },
  {
   "cell_type": "code",
   "execution_count": 4,
   "metadata": {},
   "outputs": [
    {
     "data": {
      "text/html": [
       "<div>\n",
       "<style scoped>\n",
       "    .dataframe tbody tr th:only-of-type {\n",
       "        vertical-align: middle;\n",
       "    }\n",
       "\n",
       "    .dataframe tbody tr th {\n",
       "        vertical-align: top;\n",
       "    }\n",
       "\n",
       "    .dataframe thead th {\n",
       "        text-align: right;\n",
       "    }\n",
       "</style>\n",
       "<table border=\"1\" class=\"dataframe\">\n",
       "  <thead>\n",
       "    <tr style=\"text-align: right;\">\n",
       "      <th></th>\n",
       "      <th>station_id</th>\n",
       "      <th>name</th>\n",
       "      <th>lat</th>\n",
       "      <th>long</th>\n",
       "      <th>dockcount</th>\n",
       "      <th>landmark</th>\n",
       "      <th>installation</th>\n",
       "    </tr>\n",
       "  </thead>\n",
       "  <tbody>\n",
       "    <tr>\n",
       "      <th>0</th>\n",
       "      <td>2</td>\n",
       "      <td>San Jose Diridon Caltrain Station</td>\n",
       "      <td>37.329732</td>\n",
       "      <td>-121.901782</td>\n",
       "      <td>27</td>\n",
       "      <td>San Jose</td>\n",
       "      <td>8/6/2013</td>\n",
       "    </tr>\n",
       "    <tr>\n",
       "      <th>1</th>\n",
       "      <td>3</td>\n",
       "      <td>San Jose Civic Center</td>\n",
       "      <td>37.330698</td>\n",
       "      <td>-121.888979</td>\n",
       "      <td>15</td>\n",
       "      <td>San Jose</td>\n",
       "      <td>8/5/2013</td>\n",
       "    </tr>\n",
       "    <tr>\n",
       "      <th>2</th>\n",
       "      <td>4</td>\n",
       "      <td>Santa Clara at Almaden</td>\n",
       "      <td>37.333988</td>\n",
       "      <td>-121.894902</td>\n",
       "      <td>11</td>\n",
       "      <td>San Jose</td>\n",
       "      <td>8/6/2013</td>\n",
       "    </tr>\n",
       "    <tr>\n",
       "      <th>3</th>\n",
       "      <td>5</td>\n",
       "      <td>Adobe on Almaden</td>\n",
       "      <td>37.331415</td>\n",
       "      <td>-121.893200</td>\n",
       "      <td>19</td>\n",
       "      <td>San Jose</td>\n",
       "      <td>8/5/2013</td>\n",
       "    </tr>\n",
       "    <tr>\n",
       "      <th>4</th>\n",
       "      <td>6</td>\n",
       "      <td>San Pedro Square</td>\n",
       "      <td>37.336721</td>\n",
       "      <td>-121.894074</td>\n",
       "      <td>15</td>\n",
       "      <td>San Jose</td>\n",
       "      <td>8/7/2013</td>\n",
       "    </tr>\n",
       "    <tr>\n",
       "      <th>5</th>\n",
       "      <td>7</td>\n",
       "      <td>Paseo de San Antonio</td>\n",
       "      <td>37.333798</td>\n",
       "      <td>-121.886943</td>\n",
       "      <td>15</td>\n",
       "      <td>San Jose</td>\n",
       "      <td>8/7/2013</td>\n",
       "    </tr>\n",
       "    <tr>\n",
       "      <th>6</th>\n",
       "      <td>8</td>\n",
       "      <td>San Salvador at 1st</td>\n",
       "      <td>37.330165</td>\n",
       "      <td>-121.885831</td>\n",
       "      <td>15</td>\n",
       "      <td>San Jose</td>\n",
       "      <td>8/5/2013</td>\n",
       "    </tr>\n",
       "    <tr>\n",
       "      <th>7</th>\n",
       "      <td>9</td>\n",
       "      <td>Japantown</td>\n",
       "      <td>37.348742</td>\n",
       "      <td>-121.894715</td>\n",
       "      <td>15</td>\n",
       "      <td>San Jose</td>\n",
       "      <td>8/5/2013</td>\n",
       "    </tr>\n",
       "    <tr>\n",
       "      <th>8</th>\n",
       "      <td>10</td>\n",
       "      <td>San Jose City Hall</td>\n",
       "      <td>37.337391</td>\n",
       "      <td>-121.886995</td>\n",
       "      <td>15</td>\n",
       "      <td>San Jose</td>\n",
       "      <td>8/6/2013</td>\n",
       "    </tr>\n",
       "    <tr>\n",
       "      <th>9</th>\n",
       "      <td>11</td>\n",
       "      <td>MLK Library</td>\n",
       "      <td>37.335885</td>\n",
       "      <td>-121.885660</td>\n",
       "      <td>19</td>\n",
       "      <td>San Jose</td>\n",
       "      <td>8/6/2013</td>\n",
       "    </tr>\n",
       "  </tbody>\n",
       "</table>\n",
       "</div>"
      ],
      "text/plain": [
       "   station_id                               name        lat        long  \\\n",
       "0           2  San Jose Diridon Caltrain Station  37.329732 -121.901782   \n",
       "1           3              San Jose Civic Center  37.330698 -121.888979   \n",
       "2           4             Santa Clara at Almaden  37.333988 -121.894902   \n",
       "3           5                   Adobe on Almaden  37.331415 -121.893200   \n",
       "4           6                   San Pedro Square  37.336721 -121.894074   \n",
       "5           7               Paseo de San Antonio  37.333798 -121.886943   \n",
       "6           8                San Salvador at 1st  37.330165 -121.885831   \n",
       "7           9                          Japantown  37.348742 -121.894715   \n",
       "8          10                 San Jose City Hall  37.337391 -121.886995   \n",
       "9          11                        MLK Library  37.335885 -121.885660   \n",
       "\n",
       "   dockcount  landmark installation  \n",
       "0         27  San Jose     8/6/2013  \n",
       "1         15  San Jose     8/5/2013  \n",
       "2         11  San Jose     8/6/2013  \n",
       "3         19  San Jose     8/5/2013  \n",
       "4         15  San Jose     8/7/2013  \n",
       "5         15  San Jose     8/7/2013  \n",
       "6         15  San Jose     8/5/2013  \n",
       "7         15  San Jose     8/5/2013  \n",
       "8         15  San Jose     8/6/2013  \n",
       "9         19  San Jose     8/6/2013  "
      ]
     },
     "execution_count": 4,
     "metadata": {},
     "output_type": "execute_result"
    }
   ],
   "source": [
    "station_df.head(10)"
   ]
  },
  {
   "cell_type": "code",
   "execution_count": 5,
   "id": "53179ce6",
   "metadata": {},
   "outputs": [
    {
     "data": {
      "text/html": [
       "<div>\n",
       "<style scoped>\n",
       "    .dataframe tbody tr th:only-of-type {\n",
       "        vertical-align: middle;\n",
       "    }\n",
       "\n",
       "    .dataframe tbody tr th {\n",
       "        vertical-align: top;\n",
       "    }\n",
       "\n",
       "    .dataframe thead th {\n",
       "        text-align: right;\n",
       "    }\n",
       "</style>\n",
       "<table border=\"1\" class=\"dataframe\">\n",
       "  <thead>\n",
       "    <tr style=\"text-align: right;\">\n",
       "      <th></th>\n",
       "      <th>TripID</th>\n",
       "      <th>Duration</th>\n",
       "      <th>StartDate</th>\n",
       "      <th>StartStation</th>\n",
       "      <th>StartTerminal</th>\n",
       "      <th>EndDate</th>\n",
       "      <th>EndStation</th>\n",
       "      <th>EndTerminal</th>\n",
       "      <th>Bike#</th>\n",
       "      <th>SubscriberType</th>\n",
       "      <th>ZipCode</th>\n",
       "    </tr>\n",
       "  </thead>\n",
       "  <tbody>\n",
       "    <tr>\n",
       "      <th>0</th>\n",
       "      <td>913460</td>\n",
       "      <td>765</td>\n",
       "      <td>8/31/2015 23:26</td>\n",
       "      <td>Harry Bridges Plaza (Ferry Building)</td>\n",
       "      <td>50</td>\n",
       "      <td>8/31/2015 23:39</td>\n",
       "      <td>San Francisco Caltrain (Townsend at 4th)</td>\n",
       "      <td>70</td>\n",
       "      <td>288</td>\n",
       "      <td>Subscriber</td>\n",
       "      <td>2139</td>\n",
       "    </tr>\n",
       "    <tr>\n",
       "      <th>1</th>\n",
       "      <td>913459</td>\n",
       "      <td>1036</td>\n",
       "      <td>8/31/2015 23:11</td>\n",
       "      <td>San Antonio Shopping Center</td>\n",
       "      <td>31</td>\n",
       "      <td>8/31/2015 23:28</td>\n",
       "      <td>Mountain View City Hall</td>\n",
       "      <td>27</td>\n",
       "      <td>35</td>\n",
       "      <td>Subscriber</td>\n",
       "      <td>95032</td>\n",
       "    </tr>\n",
       "    <tr>\n",
       "      <th>2</th>\n",
       "      <td>913455</td>\n",
       "      <td>307</td>\n",
       "      <td>8/31/2015 23:13</td>\n",
       "      <td>Post at Kearny</td>\n",
       "      <td>47</td>\n",
       "      <td>8/31/2015 23:18</td>\n",
       "      <td>2nd at South Park</td>\n",
       "      <td>64</td>\n",
       "      <td>468</td>\n",
       "      <td>Subscriber</td>\n",
       "      <td>94107</td>\n",
       "    </tr>\n",
       "    <tr>\n",
       "      <th>3</th>\n",
       "      <td>913454</td>\n",
       "      <td>409</td>\n",
       "      <td>8/31/2015 23:10</td>\n",
       "      <td>San Jose City Hall</td>\n",
       "      <td>10</td>\n",
       "      <td>8/31/2015 23:17</td>\n",
       "      <td>San Salvador at 1st</td>\n",
       "      <td>8</td>\n",
       "      <td>68</td>\n",
       "      <td>Subscriber</td>\n",
       "      <td>95113</td>\n",
       "    </tr>\n",
       "    <tr>\n",
       "      <th>4</th>\n",
       "      <td>913453</td>\n",
       "      <td>789</td>\n",
       "      <td>8/31/2015 23:09</td>\n",
       "      <td>Embarcadero at Folsom</td>\n",
       "      <td>51</td>\n",
       "      <td>8/31/2015 23:22</td>\n",
       "      <td>Embarcadero at Sansome</td>\n",
       "      <td>60</td>\n",
       "      <td>487</td>\n",
       "      <td>Customer</td>\n",
       "      <td>9069</td>\n",
       "    </tr>\n",
       "  </tbody>\n",
       "</table>\n",
       "</div>"
      ],
      "text/plain": [
       "   TripID  Duration        StartDate                          StartStation  \\\n",
       "0  913460       765  8/31/2015 23:26  Harry Bridges Plaza (Ferry Building)   \n",
       "1  913459      1036  8/31/2015 23:11           San Antonio Shopping Center   \n",
       "2  913455       307  8/31/2015 23:13                        Post at Kearny   \n",
       "3  913454       409  8/31/2015 23:10                    San Jose City Hall   \n",
       "4  913453       789  8/31/2015 23:09                 Embarcadero at Folsom   \n",
       "\n",
       "   StartTerminal          EndDate                                EndStation  \\\n",
       "0             50  8/31/2015 23:39  San Francisco Caltrain (Townsend at 4th)   \n",
       "1             31  8/31/2015 23:28                   Mountain View City Hall   \n",
       "2             47  8/31/2015 23:18                         2nd at South Park   \n",
       "3             10  8/31/2015 23:17                       San Salvador at 1st   \n",
       "4             51  8/31/2015 23:22                    Embarcadero at Sansome   \n",
       "\n",
       "   EndTerminal  Bike# SubscriberType ZipCode  \n",
       "0           70    288     Subscriber    2139  \n",
       "1           27     35     Subscriber   95032  \n",
       "2           64    468     Subscriber   94107  \n",
       "3            8     68     Subscriber   95113  \n",
       "4           60    487       Customer    9069  "
      ]
     },
     "execution_count": 5,
     "metadata": {},
     "output_type": "execute_result"
    }
   ],
   "source": [
    "trip_df.head()"
   ]
  },
  {
   "cell_type": "code",
   "execution_count": 6,
   "id": "0339b834",
   "metadata": {},
   "outputs": [
    {
     "name": "stdout",
     "output_type": "stream",
     "text": [
      "<class 'pandas.core.frame.DataFrame'>\n",
      "RangeIndex: 354152 entries, 0 to 354151\n",
      "Data columns (total 11 columns):\n",
      " #   Column          Non-Null Count   Dtype \n",
      "---  ------          --------------   ----- \n",
      " 0   TripID          354152 non-null  int64 \n",
      " 1   Duration        354152 non-null  int64 \n",
      " 2   StartDate       354152 non-null  object\n",
      " 3   StartStation    354152 non-null  object\n",
      " 4   StartTerminal   354152 non-null  int64 \n",
      " 5   EndDate         354152 non-null  object\n",
      " 6   EndStation      354152 non-null  object\n",
      " 7   EndTerminal     354152 non-null  int64 \n",
      " 8   Bike#           354152 non-null  int64 \n",
      " 9   SubscriberType  354152 non-null  object\n",
      " 10  ZipCode         353874 non-null  object\n",
      "dtypes: int64(5), object(6)\n",
      "memory usage: 29.7+ MB\n"
     ]
    }
   ],
   "source": [
    "trip_df.info()"
   ]
  },
  {
   "cell_type": "code",
   "execution_count": 8,
   "id": "f9494087",
   "metadata": {},
   "outputs": [],
   "source": [
    "station_df = \"toto\""
   ]
  },
  {
   "cell_type": "code",
   "execution_count": 10,
   "id": "5f73ca5a",
   "metadata": {},
   "outputs": [
    {
     "name": "stdout",
     "output_type": "stream",
     "text": [
      "toto\n"
     ]
    }
   ],
   "source": [
    "print(station_df)"
   ]
  },
  {
   "cell_type": "code",
   "execution_count": 21,
   "id": "6d442d11",
   "metadata": {},
   "outputs": [
    {
     "data": {
      "text/html": [
       "<div>\n",
       "<style scoped>\n",
       "    .dataframe tbody tr th:only-of-type {\n",
       "        vertical-align: middle;\n",
       "    }\n",
       "\n",
       "    .dataframe tbody tr th {\n",
       "        vertical-align: top;\n",
       "    }\n",
       "\n",
       "    .dataframe thead th {\n",
       "        text-align: right;\n",
       "    }\n",
       "</style>\n",
       "<table border=\"1\" class=\"dataframe\">\n",
       "  <thead>\n",
       "    <tr style=\"text-align: right;\">\n",
       "      <th></th>\n",
       "      <th>station_id</th>\n",
       "      <th>lat</th>\n",
       "      <th>long</th>\n",
       "      <th>dockcount</th>\n",
       "    </tr>\n",
       "  </thead>\n",
       "  <tbody>\n",
       "    <tr>\n",
       "      <th>count</th>\n",
       "      <td>70.000000</td>\n",
       "      <td>70.000000</td>\n",
       "      <td>70.000000</td>\n",
       "      <td>70.000000</td>\n",
       "    </tr>\n",
       "    <tr>\n",
       "      <th>mean</th>\n",
       "      <td>43.000000</td>\n",
       "      <td>37.590243</td>\n",
       "      <td>-122.218416</td>\n",
       "      <td>17.657143</td>\n",
       "    </tr>\n",
       "    <tr>\n",
       "      <th>std</th>\n",
       "      <td>24.166092</td>\n",
       "      <td>0.203473</td>\n",
       "      <td>0.209446</td>\n",
       "      <td>4.010442</td>\n",
       "    </tr>\n",
       "    <tr>\n",
       "      <th>min</th>\n",
       "      <td>2.000000</td>\n",
       "      <td>37.329732</td>\n",
       "      <td>-122.418954</td>\n",
       "      <td>11.000000</td>\n",
       "    </tr>\n",
       "    <tr>\n",
       "      <th>25%</th>\n",
       "      <td>24.250000</td>\n",
       "      <td>37.389483</td>\n",
       "      <td>-122.400601</td>\n",
       "      <td>15.000000</td>\n",
       "    </tr>\n",
       "    <tr>\n",
       "      <th>50%</th>\n",
       "      <td>43.500000</td>\n",
       "      <td>37.631163</td>\n",
       "      <td>-122.312123</td>\n",
       "      <td>15.000000</td>\n",
       "    </tr>\n",
       "    <tr>\n",
       "      <th>75%</th>\n",
       "      <td>63.750000</td>\n",
       "      <td>37.788123</td>\n",
       "      <td>-122.078009</td>\n",
       "      <td>19.000000</td>\n",
       "    </tr>\n",
       "    <tr>\n",
       "      <th>max</th>\n",
       "      <td>84.000000</td>\n",
       "      <td>37.804770</td>\n",
       "      <td>-121.877349</td>\n",
       "      <td>27.000000</td>\n",
       "    </tr>\n",
       "  </tbody>\n",
       "</table>\n",
       "</div>"
      ],
      "text/plain": [
       "       station_id        lat        long  dockcount\n",
       "count   70.000000  70.000000   70.000000  70.000000\n",
       "mean    43.000000  37.590243 -122.218416  17.657143\n",
       "std     24.166092   0.203473    0.209446   4.010442\n",
       "min      2.000000  37.329732 -122.418954  11.000000\n",
       "25%     24.250000  37.389483 -122.400601  15.000000\n",
       "50%     43.500000  37.631163 -122.312123  15.000000\n",
       "75%     63.750000  37.788123 -122.078009  19.000000\n",
       "max     84.000000  37.804770 -121.877349  27.000000"
      ]
     },
     "execution_count": 21,
     "metadata": {},
     "output_type": "execute_result"
    }
   ],
   "source": [
    "station_df.describe()"
   ]
  },
  {
   "cell_type": "code",
   "execution_count": 25,
   "id": "32646a95",
   "metadata": {},
   "outputs": [
    {
     "data": {
      "text/html": [
       "<style type=\"text/css\">\n",
       "</style>\n",
       "<table id=\"T_937de\">\n",
       "  <thead>\n",
       "    <tr>\n",
       "      <th class=\"blank level0\" >&nbsp;</th>\n",
       "      <th id=\"T_937de_level0_col0\" class=\"col_heading level0 col0\" >TripID</th>\n",
       "      <th id=\"T_937de_level0_col1\" class=\"col_heading level0 col1\" >Duration</th>\n",
       "      <th id=\"T_937de_level0_col2\" class=\"col_heading level0 col2\" >StartTerminal</th>\n",
       "      <th id=\"T_937de_level0_col3\" class=\"col_heading level0 col3\" >EndTerminal</th>\n",
       "      <th id=\"T_937de_level0_col4\" class=\"col_heading level0 col4\" >Bike#</th>\n",
       "    </tr>\n",
       "  </thead>\n",
       "  <tbody>\n",
       "    <tr>\n",
       "      <th id=\"T_937de_level0_row0\" class=\"row_heading level0 row0\" >count</th>\n",
       "      <td id=\"T_937de_row0_col0\" class=\"data row0 col0\" >354 152.0</td>\n",
       "      <td id=\"T_937de_row0_col1\" class=\"data row0 col1\" >354 152.0</td>\n",
       "      <td id=\"T_937de_row0_col2\" class=\"data row0 col2\" >354 152.0</td>\n",
       "      <td id=\"T_937de_row0_col3\" class=\"data row0 col3\" >354 152.0</td>\n",
       "      <td id=\"T_937de_row0_col4\" class=\"data row0 col4\" >354 152.0</td>\n",
       "    </tr>\n",
       "    <tr>\n",
       "      <th id=\"T_937de_level0_row1\" class=\"row_heading level0 row1\" >mean</th>\n",
       "      <td id=\"T_937de_row1_col0\" class=\"data row1 col0\" >676 962.27</td>\n",
       "      <td id=\"T_937de_row1_col1\" class=\"data row1 col1\" >1 046.03</td>\n",
       "      <td id=\"T_937de_row1_col2\" class=\"data row1 col2\" >58.45</td>\n",
       "      <td id=\"T_937de_row1_col3\" class=\"data row1 col3\" >58.42</td>\n",
       "      <td id=\"T_937de_row1_col4\" class=\"data row1 col4\" >422.96</td>\n",
       "    </tr>\n",
       "    <tr>\n",
       "      <th id=\"T_937de_level0_row2\" class=\"row_heading level0 row2\" >std</th>\n",
       "      <td id=\"T_937de_row2_col0\" class=\"data row2 col0\" >138 874.15</td>\n",
       "      <td id=\"T_937de_row2_col1\" class=\"data row2 col1\" >30 016.94</td>\n",
       "      <td id=\"T_937de_row2_col2\" class=\"data row2 col2\" >16.74</td>\n",
       "      <td id=\"T_937de_row2_col3\" class=\"data row2 col3\" >16.88</td>\n",
       "      <td id=\"T_937de_row2_col4\" class=\"data row2 col4\" >159.84</td>\n",
       "    </tr>\n",
       "    <tr>\n",
       "      <th id=\"T_937de_level0_row3\" class=\"row_heading level0 row3\" >min</th>\n",
       "      <td id=\"T_937de_row3_col0\" class=\"data row3 col0\" >432 947.0</td>\n",
       "      <td id=\"T_937de_row3_col1\" class=\"data row3 col1\" >60.0</td>\n",
       "      <td id=\"T_937de_row3_col2\" class=\"data row3 col2\" >2.0</td>\n",
       "      <td id=\"T_937de_row3_col3\" class=\"data row3 col3\" >2.0</td>\n",
       "      <td id=\"T_937de_row3_col4\" class=\"data row3 col4\" >9.0</td>\n",
       "    </tr>\n",
       "    <tr>\n",
       "      <th id=\"T_937de_level0_row4\" class=\"row_heading level0 row4\" >25%</th>\n",
       "      <td id=\"T_937de_row4_col0\" class=\"data row4 col0\" >557 009.75</td>\n",
       "      <td id=\"T_937de_row4_col1\" class=\"data row4 col1\" >342.0</td>\n",
       "      <td id=\"T_937de_row4_col2\" class=\"data row4 col2\" >50.0</td>\n",
       "      <td id=\"T_937de_row4_col3\" class=\"data row4 col3\" >50.0</td>\n",
       "      <td id=\"T_937de_row4_col4\" class=\"data row4 col4\" >327.0</td>\n",
       "    </tr>\n",
       "    <tr>\n",
       "      <th id=\"T_937de_level0_row5\" class=\"row_heading level0 row5\" >50%</th>\n",
       "      <td id=\"T_937de_row5_col0\" class=\"data row5 col0\" >679 451.5</td>\n",
       "      <td id=\"T_937de_row5_col1\" class=\"data row5 col1\" >511.0</td>\n",
       "      <td id=\"T_937de_row5_col2\" class=\"data row5 col2\" >62.0</td>\n",
       "      <td id=\"T_937de_row5_col3\" class=\"data row5 col3\" >63.0</td>\n",
       "      <td id=\"T_937de_row5_col4\" class=\"data row5 col4\" >437.0</td>\n",
       "    </tr>\n",
       "    <tr>\n",
       "      <th id=\"T_937de_level0_row6\" class=\"row_heading level0 row6\" >75%</th>\n",
       "      <td id=\"T_937de_row6_col0\" class=\"data row6 col0\" >798 026.25</td>\n",
       "      <td id=\"T_937de_row6_col1\" class=\"data row6 col1\" >739.0</td>\n",
       "      <td id=\"T_937de_row6_col2\" class=\"data row6 col2\" >70.0</td>\n",
       "      <td id=\"T_937de_row6_col3\" class=\"data row6 col3\" >70.0</td>\n",
       "      <td id=\"T_937de_row6_col4\" class=\"data row6 col4\" >546.0</td>\n",
       "    </tr>\n",
       "    <tr>\n",
       "      <th id=\"T_937de_level0_row7\" class=\"row_heading level0 row7\" >max</th>\n",
       "      <td id=\"T_937de_row7_col0\" class=\"data row7 col0\" >913 460.0</td>\n",
       "      <td id=\"T_937de_row7_col1\" class=\"data row7 col1\" >17 270 400.0</td>\n",
       "      <td id=\"T_937de_row7_col2\" class=\"data row7 col2\" >84.0</td>\n",
       "      <td id=\"T_937de_row7_col3\" class=\"data row7 col3\" >84.0</td>\n",
       "      <td id=\"T_937de_row7_col4\" class=\"data row7 col4\" >878.0</td>\n",
       "    </tr>\n",
       "  </tbody>\n",
       "</table>\n"
      ],
      "text/plain": [
       "<pandas.io.formats.style.Styler at 0x2748ff66a10>"
      ]
     },
     "execution_count": 25,
     "metadata": {},
     "output_type": "execute_result"
    }
   ],
   "source": [
    "trip_df.describe().round(2).style.format(lambda x: f\"{x:,}\".replace(\",\", \" \") if isinstance(x, (int, float)) else x)"
   ]
  },
  {
   "cell_type": "markdown",
   "metadata": {},
   "source": [
    "Créer une base SQLite ainsi qu'une vue SQL pour chaque DataFrame."
   ]
  },
  {
   "cell_type": "code",
   "execution_count": 33,
   "metadata": {},
   "outputs": [
    {
     "data": {
      "text/plain": [
       "70"
      ]
     },
     "execution_count": 33,
     "metadata": {},
     "output_type": "execute_result"
    }
   ],
   "source": [
    "conn = sqlite3.connect(\":memory:\")\n",
    "station_df.to_sql(\"station\", conn, if_exists=\"replace\")"
   ]
  },
  {
   "cell_type": "code",
   "execution_count": 34,
   "id": "f11c317c",
   "metadata": {},
   "outputs": [
    {
     "data": {
      "text/plain": [
       "354152"
      ]
     },
     "execution_count": 34,
     "metadata": {},
     "output_type": "execute_result"
    }
   ],
   "source": [
    "trip_df.to_sql(\"trip\", conn, if_exists=\"replace\")"
   ]
  },
  {
   "cell_type": "markdown",
   "metadata": {},
   "source": [
    "Trouver deux façons de calculer le nombre de trajets, l'une en appelant une méthode sur `trip_df` directement, l'autre en rédigeant une requête SQL sur la vue correspondante."
   ]
  },
  {
   "cell_type": "code",
   "execution_count": 36,
   "metadata": {},
   "outputs": [
    {
     "data": {
      "text/html": [
       "<div>\n",
       "<style scoped>\n",
       "    .dataframe tbody tr th:only-of-type {\n",
       "        vertical-align: middle;\n",
       "    }\n",
       "\n",
       "    .dataframe tbody tr th {\n",
       "        vertical-align: top;\n",
       "    }\n",
       "\n",
       "    .dataframe thead th {\n",
       "        text-align: right;\n",
       "    }\n",
       "</style>\n",
       "<table border=\"1\" class=\"dataframe\">\n",
       "  <thead>\n",
       "    <tr style=\"text-align: right;\">\n",
       "      <th></th>\n",
       "      <th>count(*)</th>\n",
       "    </tr>\n",
       "  </thead>\n",
       "  <tbody>\n",
       "    <tr>\n",
       "      <th>0</th>\n",
       "      <td>354152</td>\n",
       "    </tr>\n",
       "  </tbody>\n",
       "</table>\n",
       "</div>"
      ],
      "text/plain": [
       "   count(*)\n",
       "0    354152"
      ]
     },
     "execution_count": 36,
     "metadata": {},
     "output_type": "execute_result"
    }
   ],
   "source": [
    "# Méthode SQL\n",
    "query = \"select count(*) from trip\"\n",
    "pd.read_sql(query, conn)"
   ]
  },
  {
   "cell_type": "code",
   "execution_count": 37,
   "id": "d8734eb9",
   "metadata": {},
   "outputs": [
    {
     "data": {
      "text/plain": [
       "354152"
      ]
     },
     "execution_count": 37,
     "metadata": {},
     "output_type": "execute_result"
    }
   ],
   "source": [
    "# Méthode pandas\n",
    "len(trip_df)"
   ]
  },
  {
   "cell_type": "code",
   "execution_count": 39,
   "id": "40d0c591",
   "metadata": {},
   "outputs": [
    {
     "data": {
      "text/plain": [
       "354152"
      ]
     },
     "execution_count": 39,
     "metadata": {},
     "output_type": "execute_result"
    }
   ],
   "source": [
    "trip_df[\"TripID\"].count()"
   ]
  },
  {
   "cell_type": "markdown",
   "metadata": {},
   "source": [
    "Écrire une requête permettant de compter le nombre de trajets qui démarrent et se terminent à la même station."
   ]
  },
  {
   "cell_type": "code",
   "execution_count": null,
   "id": "d109bf18",
   "metadata": {},
   "outputs": [],
   "source": [
    "mask = trip_df[\"StartTerminal\"] == trip_df[\"EndTerminal\"]"
   ]
  },
  {
   "cell_type": "code",
   "execution_count": null,
   "metadata": {},
   "outputs": [],
   "source": [
    "trip_df[\"circular\"] = mask"
   ]
  },
  {
   "cell_type": "code",
   "execution_count": 54,
   "id": "4c770687",
   "metadata": {},
   "outputs": [
    {
     "data": {
      "text/plain": [
       "circular\n",
       "False    343876\n",
       "True      10276\n",
       "Name: count, dtype: int64"
      ]
     },
     "execution_count": 54,
     "metadata": {},
     "output_type": "execute_result"
    }
   ],
   "source": [
    "trip_df[\"circular\"].value_counts()"
   ]
  },
  {
   "cell_type": "markdown",
   "metadata": {},
   "source": [
    "Obtenir l’id des stations associées à ces trajets. Écrire une requête renvoyant la liste des terminaux concernés ainsi que le nombre de trajets pour chacun de ces terminaux. Trier le résultat par ordre décroissant de nombre de trajets."
   ]
  },
  {
   "cell_type": "code",
   "execution_count": 61,
   "metadata": {},
   "outputs": [],
   "source": [
    "circular_per_station_df = trip_df[\n",
    "    mask\n",
    "].groupby(\n",
    "    \"StartTerminal\"\n",
    ").size(\n",
    ").reset_index(\n",
    "    name=\"trip_count\"\n",
    ").sort_values(\n",
    "    \"trip_count\", ascending=False\n",
    ")"
   ]
  },
  {
   "cell_type": "code",
   "execution_count": 62,
   "id": "02efb0ce",
   "metadata": {},
   "outputs": [
    {
     "data": {
      "text/html": [
       "<div>\n",
       "<style scoped>\n",
       "    .dataframe tbody tr th:only-of-type {\n",
       "        vertical-align: middle;\n",
       "    }\n",
       "\n",
       "    .dataframe tbody tr th {\n",
       "        vertical-align: top;\n",
       "    }\n",
       "\n",
       "    .dataframe thead th {\n",
       "        text-align: right;\n",
       "    }\n",
       "</style>\n",
       "<table border=\"1\" class=\"dataframe\">\n",
       "  <thead>\n",
       "    <tr style=\"text-align: right;\">\n",
       "      <th></th>\n",
       "      <th>StartTerminal</th>\n",
       "      <th>trip_count</th>\n",
       "    </tr>\n",
       "  </thead>\n",
       "  <tbody>\n",
       "    <tr>\n",
       "      <th>48</th>\n",
       "      <td>60</td>\n",
       "      <td>850</td>\n",
       "    </tr>\n",
       "    <tr>\n",
       "      <th>40</th>\n",
       "      <td>50</td>\n",
       "      <td>708</td>\n",
       "    </tr>\n",
       "    <tr>\n",
       "      <th>28</th>\n",
       "      <td>35</td>\n",
       "      <td>348</td>\n",
       "    </tr>\n",
       "    <tr>\n",
       "      <th>64</th>\n",
       "      <td>76</td>\n",
       "      <td>320</td>\n",
       "    </tr>\n",
       "    <tr>\n",
       "      <th>62</th>\n",
       "      <td>74</td>\n",
       "      <td>307</td>\n",
       "    </tr>\n",
       "    <tr>\n",
       "      <th>...</th>\n",
       "      <td>...</td>\n",
       "      <td>...</td>\n",
       "    </tr>\n",
       "    <tr>\n",
       "      <th>66</th>\n",
       "      <td>80</td>\n",
       "      <td>26</td>\n",
       "    </tr>\n",
       "    <tr>\n",
       "      <th>17</th>\n",
       "      <td>24</td>\n",
       "      <td>23</td>\n",
       "    </tr>\n",
       "    <tr>\n",
       "      <th>68</th>\n",
       "      <td>83</td>\n",
       "      <td>21</td>\n",
       "    </tr>\n",
       "    <tr>\n",
       "      <th>14</th>\n",
       "      <td>21</td>\n",
       "      <td>12</td>\n",
       "    </tr>\n",
       "    <tr>\n",
       "      <th>19</th>\n",
       "      <td>26</td>\n",
       "      <td>7</td>\n",
       "    </tr>\n",
       "  </tbody>\n",
       "</table>\n",
       "<p>70 rows × 2 columns</p>\n",
       "</div>"
      ],
      "text/plain": [
       "    StartTerminal  trip_count\n",
       "48             60         850\n",
       "40             50         708\n",
       "28             35         348\n",
       "64             76         320\n",
       "62             74         307\n",
       "..            ...         ...\n",
       "66             80          26\n",
       "17             24          23\n",
       "68             83          21\n",
       "14             21          12\n",
       "19             26           7\n",
       "\n",
       "[70 rows x 2 columns]"
      ]
     },
     "metadata": {},
     "output_type": "display_data"
    }
   ],
   "source": [
    "display(circular_per_station_df)"
   ]
  },
  {
   "cell_type": "markdown",
   "metadata": {},
   "source": [
    "Compléter le résultat en indiquant le nombre de docks (dockcount) des stations concernées."
   ]
  },
  {
   "cell_type": "code",
   "execution_count": null,
   "metadata": {},
   "outputs": [
    {
     "data": {
      "text/html": [
       "<div>\n",
       "<style scoped>\n",
       "    .dataframe tbody tr th:only-of-type {\n",
       "        vertical-align: middle;\n",
       "    }\n",
       "\n",
       "    .dataframe tbody tr th {\n",
       "        vertical-align: top;\n",
       "    }\n",
       "\n",
       "    .dataframe thead th {\n",
       "        text-align: right;\n",
       "    }\n",
       "</style>\n",
       "<table border=\"1\" class=\"dataframe\">\n",
       "  <thead>\n",
       "    <tr style=\"text-align: right;\">\n",
       "      <th></th>\n",
       "      <th>trip_count</th>\n",
       "      <th>station_id</th>\n",
       "      <th>dockcount</th>\n",
       "    </tr>\n",
       "  </thead>\n",
       "  <tbody>\n",
       "    <tr>\n",
       "      <th>0</th>\n",
       "      <td>850</td>\n",
       "      <td>60</td>\n",
       "      <td>15</td>\n",
       "    </tr>\n",
       "    <tr>\n",
       "      <th>1</th>\n",
       "      <td>708</td>\n",
       "      <td>50</td>\n",
       "      <td>23</td>\n",
       "    </tr>\n",
       "    <tr>\n",
       "      <th>2</th>\n",
       "      <td>348</td>\n",
       "      <td>35</td>\n",
       "      <td>11</td>\n",
       "    </tr>\n",
       "    <tr>\n",
       "      <th>3</th>\n",
       "      <td>320</td>\n",
       "      <td>76</td>\n",
       "      <td>19</td>\n",
       "    </tr>\n",
       "    <tr>\n",
       "      <th>4</th>\n",
       "      <td>307</td>\n",
       "      <td>74</td>\n",
       "      <td>23</td>\n",
       "    </tr>\n",
       "    <tr>\n",
       "      <th>...</th>\n",
       "      <td>...</td>\n",
       "      <td>...</td>\n",
       "      <td>...</td>\n",
       "    </tr>\n",
       "    <tr>\n",
       "      <th>65</th>\n",
       "      <td>26</td>\n",
       "      <td>80</td>\n",
       "      <td>15</td>\n",
       "    </tr>\n",
       "    <tr>\n",
       "      <th>66</th>\n",
       "      <td>23</td>\n",
       "      <td>24</td>\n",
       "      <td>15</td>\n",
       "    </tr>\n",
       "    <tr>\n",
       "      <th>67</th>\n",
       "      <td>21</td>\n",
       "      <td>83</td>\n",
       "      <td>15</td>\n",
       "    </tr>\n",
       "    <tr>\n",
       "      <th>68</th>\n",
       "      <td>12</td>\n",
       "      <td>21</td>\n",
       "      <td>15</td>\n",
       "    </tr>\n",
       "    <tr>\n",
       "      <th>69</th>\n",
       "      <td>7</td>\n",
       "      <td>26</td>\n",
       "      <td>15</td>\n",
       "    </tr>\n",
       "  </tbody>\n",
       "</table>\n",
       "<p>70 rows × 3 columns</p>\n",
       "</div>"
      ],
      "text/plain": [
       "    trip_count  station_id  dockcount\n",
       "0          850          60         15\n",
       "1          708          50         23\n",
       "2          348          35         11\n",
       "3          320          76         19\n",
       "4          307          74         23\n",
       "..         ...         ...        ...\n",
       "65          26          80         15\n",
       "66          23          24         15\n",
       "67          21          83         15\n",
       "68          12          21         15\n",
       "69           7          26         15\n",
       "\n",
       "[70 rows x 3 columns]"
      ]
     },
     "execution_count": 67,
     "metadata": {},
     "output_type": "execute_result"
    }
   ],
   "source": [
    "circular_per_station_df.merge(\n",
    "    station_df[\n",
    "        [\"station_id\", \"dockcount\"]\n",
    "    ],\n",
    "    left_on=\"StartTerminal\",\n",
    "    right_on=\"station_id\"\n",
    ").drop(\"StartTerminal\", axis=1)"
   ]
  },
  {
   "cell_type": "code",
   "execution_count": 2,
   "id": "8d7a5f82",
   "metadata": {},
   "outputs": [
    {
     "data": {
      "text/plain": [
       "[]"
      ]
     },
     "execution_count": 2,
     "metadata": {},
     "output_type": "execute_result"
    }
   ],
   "source": [
    "animals = ['giraffe', 'tiger', 'monkey', 'mouse']\n",
    "animals[3:2]"
   ]
  },
  {
   "cell_type": "code",
   "execution_count": null,
   "id": "c17866f0",
   "metadata": {},
   "outputs": [],
   "source": []
  }
 ],
 "metadata": {
  "kernelspec": {
   "display_name": "Python 3",
   "language": "python",
   "name": "python3"
  },
  "language_info": {
   "codemirror_mode": {
    "name": "ipython",
    "version": 3
   },
   "file_extension": ".py",
   "mimetype": "text/x-python",
   "name": "python",
   "nbconvert_exporter": "python",
   "pygments_lexer": "ipython3",
   "version": "3.11.4"
  }
 },
 "nbformat": 4,
 "nbformat_minor": 5
}
