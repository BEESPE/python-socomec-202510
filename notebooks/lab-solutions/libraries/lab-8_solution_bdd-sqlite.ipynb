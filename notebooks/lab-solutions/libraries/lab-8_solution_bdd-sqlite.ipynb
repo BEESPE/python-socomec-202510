{
 "cells": [
  {
   "cell_type": "markdown",
   "id": "a91cce60",
   "metadata": {},
   "source": [
    "## Gestion d’une base de données SQLite"
   ]
  },
  {
   "cell_type": "markdown",
   "id": "51a69da6",
   "metadata": {},
   "source": [
    "Derrière ce TP, il y a trois objectifs :\n",
    "\n",
    "- Créer et manipuler une base de données SQLite\n",
    "- Utiliser Python (sqlite3) pour interagir avec la BDD\n",
    "- Rédiger des commandes SQL de base"
   ]
  },
  {
   "cell_type": "code",
   "execution_count": 1,
   "id": "7b720487",
   "metadata": {},
   "outputs": [],
   "source": [
    "import sqlite3"
   ]
  },
  {
   "cell_type": "markdown",
   "id": "a7250319",
   "metadata": {},
   "source": [
    "Avec sqlite3, la connextion avec une BDD fait intervenir deux objets :\n",
    "\n",
    "- conn : objet connexion\n",
    "- cur : objet curseur pour exécuter des commandes SQL\n",
    "\n",
    "Pour créer une Connexion, on utilise sqlite3.connect() en passant en argument le fichier de la BDD \"nom_de_la_base.db\". Si la base n’existe pas, SQLite la crée automatiquement dans le fichier spécifié. <br>\n",
    "L'objet Connection permet ensuite de créer un curseur, en appelant la méthode cursor, pour exécuter des commandes SQL."
   ]
  },
  {
   "cell_type": "markdown",
   "id": "fed51962",
   "metadata": {},
   "source": [
    "Créer une base \"students.db\" dans le répertoire courant ainsi que les objets connexion et curseur nécessaires."
   ]
  },
  {
   "cell_type": "code",
   "execution_count": 2,
   "id": "1c1c40e4",
   "metadata": {},
   "outputs": [],
   "source": [
    "conn = sqlite3.connect(\"tp_bdd.db\")\n",
    "cur = conn.cursor()"
   ]
  },
  {
   "cell_type": "markdown",
   "id": "de3a215e",
   "metadata": {},
   "source": [
    "Compléter le code suivant pour créer une table students avec les colonnes suivantes :\n",
    "\n",
    "- id : entier, clé primaire\n",
    "- name : texte\n",
    "- age : entier"
   ]
  },
  {
   "cell_type": "code",
   "execution_count": null,
   "id": "529bedb2",
   "metadata": {},
   "outputs": [],
   "source": [
    "cur.execute(\"\"\"\n",
    "CREATE TABLE IF NOT EXISTS ... (\n",
    "    ... ... PRIMARY KEY,\n",
    "    name TEXT,\n",
    "    ... ...\n",
    ")\n",
    "\"\"\")\n",
    "conn.commit()"
   ]
  },
  {
   "cell_type": "code",
   "execution_count": 3,
   "id": "ac82ea87",
   "metadata": {},
   "outputs": [],
   "source": [
    "cur.execute(\"\"\"\n",
    "CREATE TABLE IF NOT EXISTS students (\n",
    "    id INTEGER PRIMARY KEY,\n",
    "    name TEXT,\n",
    "    age INTEGER\n",
    ")\n",
    "\"\"\")\n",
    "conn.commit()"
   ]
  },
  {
   "cell_type": "markdown",
   "id": "661b3a1c",
   "metadata": {},
   "source": [
    "Insérer les étudiants suivants dans la table :\n",
    "\n",
    "| name    | age |\n",
    "| ------- | --- |\n",
    "| Alice   | 25  |\n",
    "| Bob     | 30  |\n",
    "| Charlie | 22  |\n"
   ]
  },
  {
   "cell_type": "code",
   "execution_count": null,
   "id": "9ac8e74e",
   "metadata": {},
   "outputs": [],
   "source": [
    "students = ...\n",
    "cur.executemany(\"INSERT INTO students (name, age) VALUES (?, ?)\", students)\n",
    "conn.commit()"
   ]
  },
  {
   "cell_type": "code",
   "execution_count": 4,
   "id": "f44b5c23",
   "metadata": {},
   "outputs": [],
   "source": [
    "students = [(\"Alice\", 25), (\"Bob\", 30), (\"Charlie\", 22)]\n",
    "cur.executemany(\"INSERT INTO students (name, age) VALUES (?, ?)\", students)\n",
    "conn.commit()"
   ]
  },
  {
   "cell_type": "markdown",
   "id": "ce255727",
   "metadata": {},
   "source": [
    "Récupérer et afficher tous les étudiants."
   ]
  },
  {
   "cell_type": "code",
   "execution_count": null,
   "id": "ee464993",
   "metadata": {},
   "outputs": [],
   "source": [
    "cur.execute(\"SELECT * FROM ...\")\n",
    "for row in cur.fetchall():\n",
    "    print(...)"
   ]
  },
  {
   "cell_type": "code",
   "execution_count": 5,
   "id": "16a42ab0",
   "metadata": {},
   "outputs": [
    {
     "name": "stdout",
     "output_type": "stream",
     "text": [
      "(1, 'Alice', 25)\n",
      "(3, 'Charlie', 23)\n",
      "(4, 'Alice', 25)\n",
      "(5, 'Bob', 30)\n",
      "(6, 'Charlie', 22)\n"
     ]
    }
   ],
   "source": [
    "cur.execute(\"SELECT * FROM students\")\n",
    "for row in cur.fetchall():\n",
    "    print(row)"
   ]
  },
  {
   "cell_type": "markdown",
   "id": "5b650293",
   "metadata": {},
   "source": [
    "Compléter le code précédent pour ne récupérer que les étudiants dont l’âge est strictement supérieur à 24 ans. Pour cela, il faut rajouter WHERE condition dans la requête."
   ]
  },
  {
   "cell_type": "code",
   "execution_count": 6,
   "id": "51c981d4",
   "metadata": {},
   "outputs": [
    {
     "name": "stdout",
     "output_type": "stream",
     "text": [
      "(1, 'Alice', 25)\n",
      "(4, 'Alice', 25)\n",
      "(5, 'Bob', 30)\n"
     ]
    }
   ],
   "source": [
    "cur.execute(\"SELECT * FROM students WHERE age > 24\")\n",
    "for row in cur.fetchall():\n",
    "    print(row)"
   ]
  },
  {
   "cell_type": "markdown",
   "id": "4f46da30",
   "metadata": {},
   "source": [
    "C'est aujourd'hui l'anniversaire de Charlie et nous n'avons pas de mises à jour automatique des âges... Mettre à jour l'âge de Charlie à 23 ans. Vérifier l'effet de la commande."
   ]
  },
  {
   "cell_type": "code",
   "execution_count": null,
   "id": "f9d15044",
   "metadata": {},
   "outputs": [],
   "source": [
    "cur.execute(\"UPDATE ... SET ... = ? WHERE name = ?\", (..., \"Charlie\"))\n",
    "conn.commit()"
   ]
  },
  {
   "cell_type": "code",
   "execution_count": null,
   "id": "ff5a6fa7",
   "metadata": {},
   "outputs": [],
   "source": [
    "cur.execute(\"UPDATE students SET age = ? WHERE name = ?\", (23, \"Charlie\"))\n",
    "conn.commit()"
   ]
  },
  {
   "cell_type": "code",
   "execution_count": 8,
   "id": "26c52b90",
   "metadata": {},
   "outputs": [
    {
     "name": "stdout",
     "output_type": "stream",
     "text": [
      "[(3, 'Charlie', 23), (6, 'Charlie', 22)]\n"
     ]
    }
   ],
   "source": [
    "print(cur.execute(\"SELECT * FROM students WHERE name = 'Charlie'\").fetchall())"
   ]
  },
  {
   "cell_type": "markdown",
   "id": "e87e0a45",
   "metadata": {},
   "source": [
    "Récupérer directement de la BDD les étudiants triés par âge croissant. La clause ORDER BY nom_du_champ ASC permet de réaliser ce tri."
   ]
  },
  {
   "cell_type": "code",
   "execution_count": 9,
   "id": "ac5a911c",
   "metadata": {},
   "outputs": [
    {
     "name": "stdout",
     "output_type": "stream",
     "text": [
      "[(6, 'Charlie', 22), (3, 'Charlie', 23), (1, 'Alice', 25), (4, 'Alice', 25), (5, 'Bob', 30)]\n"
     ]
    }
   ],
   "source": [
    "print(cur.execute(\"SELECT * FROM students ORDER BY age ASC\").fetchall())"
   ]
  },
  {
   "cell_type": "markdown",
   "id": "3229464d",
   "metadata": {},
   "source": [
    "En reprenant la syntaxe précédente permettant de formatter les requêtes, deviner comment supprimer l'étudiant Bob et exécuter cette commande. Vérifier l'effet de cette commande."
   ]
  },
  {
   "cell_type": "code",
   "execution_count": 10,
   "id": "de67f16f",
   "metadata": {},
   "outputs": [],
   "source": [
    "cur.execute(\"DELETE FROM students WHERE name = ?\", (\"Bob\",))\n",
    "conn.commit()"
   ]
  },
  {
   "cell_type": "code",
   "execution_count": 11,
   "id": "8a0ea6a0",
   "metadata": {},
   "outputs": [
    {
     "name": "stdout",
     "output_type": "stream",
     "text": [
      "(1, 'Alice', 25)\n",
      "(3, 'Charlie', 23)\n",
      "(4, 'Alice', 25)\n",
      "(6, 'Charlie', 22)\n"
     ]
    }
   ],
   "source": [
    "cur.execute(\"SELECT * FROM students\")\n",
    "for row in cur.fetchall():\n",
    "    print(row)"
   ]
  },
  {
   "cell_type": "markdown",
   "id": "96413c0f",
   "metadata": {},
   "source": [
    "Fermer la connexion (trouver la syntaxe dans la documentation). Vérifier alors l'effet de l'exécution d'une requête après cette fermeture."
   ]
  },
  {
   "cell_type": "code",
   "execution_count": 12,
   "id": "33dc1760",
   "metadata": {},
   "outputs": [],
   "source": [
    "conn.close()"
   ]
  },
  {
   "cell_type": "code",
   "execution_count": 13,
   "id": "a82e4646",
   "metadata": {},
   "outputs": [
    {
     "ename": "ProgrammingError",
     "evalue": "Cannot operate on a closed database.",
     "output_type": "error",
     "traceback": [
      "\u001b[1;31m---------------------------------------------------------------------------\u001b[0m",
      "\u001b[1;31mProgrammingError\u001b[0m                          Traceback (most recent call last)",
      "Cell \u001b[1;32mIn[13], line 1\u001b[0m\n\u001b[1;32m----> 1\u001b[0m \u001b[43mcur\u001b[49m\u001b[38;5;241;43m.\u001b[39;49m\u001b[43mexecute\u001b[49m\u001b[43m(\u001b[49m\u001b[38;5;124;43m\"\u001b[39;49m\u001b[38;5;124;43mSELECT * FROM students\u001b[39;49m\u001b[38;5;124;43m\"\u001b[39;49m\u001b[43m)\u001b[49m\n\u001b[0;32m      2\u001b[0m \u001b[38;5;28;01mfor\u001b[39;00m row \u001b[38;5;129;01min\u001b[39;00m cur\u001b[38;5;241m.\u001b[39mfetchall():\n\u001b[0;32m      3\u001b[0m     \u001b[38;5;28mprint\u001b[39m(row)\n",
      "\u001b[1;31mProgrammingError\u001b[0m: Cannot operate on a closed database."
     ]
    }
   ],
   "source": [
    "cur.execute(\"SELECT * FROM students\")\n",
    "for row in cur.fetchall():\n",
    "    print(row)"
   ]
  },
  {
   "cell_type": "markdown",
   "id": "1fe71292",
   "metadata": {},
   "source": [
    "Regarder le script example/equivalent_postgres.py et relever les points communs et les principales différences entre l'utilisation d'une BDD SQLite avec sqlite3 et POSTGRESQL avec psycopg2."
   ]
  },
  {
   "cell_type": "markdown",
   "id": "2ee82a4a",
   "metadata": {},
   "source": []
  }
 ],
 "metadata": {
  "kernelspec": {
   "display_name": "test-py3.11",
   "language": "python",
   "name": "python3"
  },
  "language_info": {
   "codemirror_mode": {
    "name": "ipython",
    "version": 3
   },
   "file_extension": ".py",
   "mimetype": "text/x-python",
   "name": "python",
   "nbconvert_exporter": "python",
   "pygments_lexer": "ipython3",
   "version": "3.11.4"
  }
 },
 "nbformat": 4,
 "nbformat_minor": 5
}
