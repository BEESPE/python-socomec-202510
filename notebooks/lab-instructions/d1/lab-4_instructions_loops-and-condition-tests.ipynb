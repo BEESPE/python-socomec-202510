{
  "cells": [
    {
      "cell_type": "markdown",
      "metadata": {
        "id": "gfMzjdfv8w7r"
      },
      "source": [
        "# <font color=\"purple\">Boucles et tests de condition</font>"
      ]
    },
    {
      "cell_type": "markdown",
      "metadata": {
        "id": "0pvpd7RH85Ta"
      },
      "source": [
        "## <font color=\"green\">1- Les jours de la semaine (le retour du retour)</font>\n",
        "\n",
        "Reprenons notre liste `week` contenant les noms des sept jours de la semaine.\n",
        "\n",
        "À l’aide d’une boucle, écrire chaque jour de la semaine accompagné des messages suivants :\n",
        "\n",
        "- `Au travail` si c’est du lundi au jeudi ;\n",
        "- `Hourra !` si c’est vendredi ;\n",
        "- `Repos ce week-end` si c’est samedi ou dimanche."
      ]
    },
    {
      "cell_type": "code",
      "execution_count": 10,
      "metadata": {},
      "outputs": [],
      "source": [
        "week = [\n",
        "    \"monday\",\n",
        "    \"tuesday\",\n",
        "    \"wednesday\",\n",
        "    \"thursday\",\n",
        "    \"friday\",\n",
        "    \"saturday\",\n",
        "    \"sunday\",\n",
        "]"
      ]
    },
    {
      "cell_type": "code",
      "execution_count": null,
      "metadata": {
        "id": "9KMEeK8T9yQ4"
      },
      "outputs": [],
      "source": [
        "# Votre code"
      ]
    },
    {
      "cell_type": "markdown",
      "metadata": {
        "id": "CG7sUbE_9BDg"
      },
      "source": [
        "## <font color=\"green\">2- Séquence complémentaire d'un brin d'ADN</font>\n",
        "\n",
        "Cette liste représente une séquence d'ADN :\n",
        "\n",
        "```python\n",
        "[\"A\", \"C\", \"G\", \"T\", \"T\", \"A\", \"G\", \"C\", \"T\", \"A\", \"A\", \"C\", \"G\"]\n",
        "```\n",
        "\n",
        "Créer un script qui transforme cette séquence en sa séquence complémentaire.\n",
        "\n",
        "La séquence complémentaire est obtenue en remplaçant `A` par `T`, `T` par `A`, `C` par `G` et `G` par `C`."
      ]
    },
    {
      "cell_type": "code",
      "execution_count": null,
      "metadata": {
        "id": "9G1HXPgB90E6"
      },
      "outputs": [],
      "source": [
        "# Votre code"
      ]
    },
    {
      "cell_type": "markdown",
      "metadata": {
        "id": "JWqNHOak9EyG"
      },
      "source": [
        "## <font color=\"green\">3- Minimum d'une liste</font>\n",
        "\n",
        "La fonction Python [`min`](https://docs.python.org/fr/3/library/functions.html#min) renvoie le plus petit élément d'une liste composée de valeurs numériques ou de chaînes de caractères. SANS utiliser cette fonction, créer un script qui détermine le plus petit élément de la liste `[8, 4, 6, 1, 5]`."
      ]
    },
    {
      "cell_type": "code",
      "execution_count": null,
      "metadata": {
        "id": "BhrH8xuh91Ol"
      },
      "outputs": [],
      "source": [
        "a = [8, 4, 6, 1, 5]\n",
        "\n",
        "# Votre code"
      ]
    },
    {
      "cell_type": "markdown",
      "metadata": {
        "id": "KblkLjdP9Iaa"
      },
      "source": [
        "## <font color=\"green\">4- Fréquence d'acides aminés</font>\n",
        "\n",
        "La liste ci-dessous représente une séquence d'acides aminés :\n",
        "\n",
        "```python\n",
        "[\"A\", \"R\", \"A\", \"W\", \"W\", \"A\", \"W\", \"A\", \"R\", \"W\", \"W\", \"R\", \"A\", \"G\"]\n",
        "```\n",
        "\n",
        "Calculer la fréquence d'alanine (`A`), d'arginine (`R`), de tryptophane (`W`) et de glycine (`G`) dans cette séquence."
      ]
    },
    {
      "cell_type": "code",
      "execution_count": null,
      "metadata": {
        "id": "3pAAfAlp915l"
      },
      "outputs": [],
      "source": [
        "amino_acids = [\"A\", \"R\", \"A\", \"W\", \"W\", \"A\", \"W\", \"A\", \"R\", \"W\", \"W\", \"R\", \"A\", \"G\"]\n",
        "\n",
        "# Votre code"
      ]
    },
    {
      "cell_type": "markdown",
      "metadata": {
        "id": "UG03i8Rj9M6B"
      },
      "source": [
        "## <font color=\"green\">5- Notes et mention d'un étudiant</font>\n",
        "\n",
        "Voici les notes d'un étudiant&nbsp;: 14, 9, 13, 15 et 12. Créer un script qui affiche la note maximum (utiliser la fonction [`max`](https://docs.python.org/fr/3/library/functions.html#max)), la note minimum (utiliser la fonction [`min`](https://docs.python.org/fr/3/library/functions.html#min)) et qui calcule la moyenne.\n",
        "\n",
        "Afficher la valeur de la moyenne avec deux décimales. Afficher aussi la mention obtenue sachant que la mention est «&nbsp;passable&nbsp;» si la moyenne est entre 10 inclus et 12 exclus, «&nbsp;assez bien&nbsp;» entre 12 inclus et 14 exclus et «&nbsp;bien&nbsp;» au-delà de 14."
      ]
    },
    {
      "cell_type": "code",
      "execution_count": null,
      "metadata": {
        "id": "hbOw3Z5x93AM"
      },
      "outputs": [],
      "source": [
        "# Votre code"
      ]
    },
    {
      "cell_type": "markdown",
      "metadata": {
        "id": "Exhyo_0B9Q9t"
      },
      "source": [
        "## <font color=\"green\">6- Nombres pairs</font>\n",
        "\n",
        "Construire une boucle qui parcourt les nombres de 0 à 20 et qui affiche les nombres pairs inférieurs ou égaux à 10 d'une part, et les nombres impairs strictement supérieurs à 10 d'autre part.\n",
        "\n",
        "Pour cet exercice, vous pourrez utiliser l'opérateur modulo `%` qui renvoie le reste de la division entière entre deux nombres et dont voici quelques exemples d'utilisation&nbsp;:\n",
        "\n",
        "```python\n",
        ">>> 4 % 3\n",
        "1\n",
        ">>> 5 % 3\n",
        "2\n",
        ">>> 4 % 2\n",
        "0\n",
        ">>> 5 % 2\n",
        "1\n",
        ">>> 6 % 2\n",
        "0\n",
        ">>> 7 % 2\n",
        "1\n",
        "```\n",
        "\n",
        "Un nombre est pair lorsque le reste de sa division entière par 2 est nul."
      ]
    },
    {
      "cell_type": "code",
      "execution_count": null,
      "metadata": {
        "id": "nFSXGYK193_j"
      },
      "outputs": [],
      "source": [
        "# Votre code"
      ]
    },
    {
      "cell_type": "markdown",
      "metadata": {
        "id": "zzXjUQBZ9XLI"
      },
      "source": [
        "## <font color=\"green\">7- Conjecture de Syracuse</font>\n",
        "\n",
        "La [conjecture de Syracuse](http://fr.wikipedia.org/wiki/Conjecture_de_Syracuse) est une conjecture mathématique qui reste improuvée à ce jour et qui est définie de la manière suivante.\n",
        "\n",
        "Soit un entier positif $n$. Si $n$ est pair, alors le diviser par 2. Si il est impair, alors le multiplier par 3 et lui ajouter 1. En répétant cette procédure, la suite de nombres atteint la valeur 1 puis se prolonge indéfiniment par une suite de trois valeurs triviales appelée cycle trivial.\n",
        "\n",
        "Jusqu'à présent, la conjecture de Syracuse, selon laquelle depuis n'importe quel entier positif la suite de Syracuse atteint 1, n'a pas été mise en défaut.\n",
        "\n",
        "Par exemple, les premiers éléments de la suite de Syracuse si on prend comme point de départ 10 sont&nbsp;: 10, 5, 16, 8, 4, 2, 1...\n",
        "\n",
        "Créer un script qui, partant d'un entier positif $n$ (par exemple 10 ou 20), crée une liste des nombres de la suite de Syracuse. Avec différents points de départ (c'est-à-dire avec différentes valeurs de $n$), la conjecture de Syracuse est-elle toujours vérifiée&nbsp;? Quels sont les nombres qui constituent le cycle trivial&nbsp;?\n",
        "\n",
        "Remarques :\n",
        "\n",
        "1. Pour cet exercice, vous avez besoin de faire un nombre d'itérations inconnu pour que la suite de Syracuse atteigne le chiffre 1 puis entame son cycle trivial. Vous pourrez tester votre algorithme avec un nombre arbitraire d'itérations, typiquement 20 ou 100, suivant votre nombre n de départ.\n",
        "1. Un nombre est pair lorsque le reste de sa division entière (opérateur modulo `%`) par 2 est nul."
      ]
    },
    {
      "cell_type": "code",
      "execution_count": null,
      "metadata": {
        "id": "yAI57JiX95Ry"
      },
      "outputs": [],
      "source": [
        "# Votre code"
      ]
    },
    {
      "cell_type": "markdown",
      "metadata": {
        "id": "5WHgIgPs9gwd"
      },
      "source": [
        "## <font color=\"green\">8- Détermination des nombres premiers inférieurs à 100</font>\n",
        "\n",
        "Voici un extrait de [l'article sur les nombres premiers](http://fr.wikipedia.org/wiki/Nombre_premier) tiré de l'encyclopédie en ligne wikipédia.\n",
        "\n",
        "Un nombre premier est un entier naturel qui admet exactement deux diviseurs distincts entiers et positifs (qui sont alors $1$ et lui-même). Cette définition exclut $1$, qui n'a qu'un seul diviseur entier positif. Par opposition, un nombre non nul produit de deux nombres entiers différents de $1$ est dit composé. Par exemple $6 = 2 \\times 3$ est composé, tout comme $21 = 3 \\times 7$, mais $11$ est premier car $1$ et $11$ sont les seuls diviseurs de $11$. Les nombres $0$ et $1$ ne sont ni premiers ni composés.\n",
        "\n",
        "Déterminez les nombres premiers inférieurs à $100$. Combien y a-t-il de nombres premiers entre $0$ et $100$&nbsp;? Pour vous aider, nous vous proposons plusieurs méthodes.\n",
        "\n",
        "#### Méthode 1 (peu optimale mais assez intuitive)\n",
        "\n",
        "Pour chaque nombre de $2$ à $100$, calculez le reste de la division entière (avec l'opérateur modulo `%`) depuis $2$ jusqu'à lui-même moins $1$. Si c'est un nombre premier, il n'y aura aucun nombre ayant un reste de la division entière égal à $0$.\n",
        "\n",
        "#### Méthode 2 (plus optimale et plus rapide, mais un peu plus compliquée)\n",
        "\n",
        "Parcourez tous les nombres de $2$ à $100$ et vérifiez si ceux-ci sont composés, c'est-à-dire qu'ils sont le produit de deux nombres premiers. Pratiquement, cela consiste à vérifier que le reste de la division entière (opérateur modulo `%`) entre le nombre considéré et chaque nombre premier déterminé jusqu'à maintenant est nul. Le cas échéant, ce nombre n'est pas premier. Attention, pour cette méthode, il faudra initialiser la liste de nombres premiers avec le premier nombre premier (donc $2$&nbsp;!)."
      ]
    },
    {
      "cell_type": "code",
      "execution_count": null,
      "metadata": {
        "id": "kF6V2per96Ve"
      },
      "outputs": [],
      "source": [
        "# Votre code"
      ]
    },
    {
      "cell_type": "markdown",
      "metadata": {
        "id": "zsbCksLM9rf2"
      },
      "source": [
        "## <font color=\"green\">9- Recherche d'un nombre par dichotomie</font>\n",
        "\n",
        "La recherche par [dichotomie](https://fr.wikipedia.org/wiki/Dichotomie) est une méthode qui consiste à diviser (en général en parties égales) un problème pour en trouver la solution. À titre d'exemple, voici une discussion entre Pierre et Patrick dans laquelle Pierre essaie de deviner le nombre (compris entre 1 et 100 inclus) auquel Patrick a pensé.\n",
        "\n",
        "- [Patrick] «&nbsp;C'est bon, j'ai pensé à un nombre entre 1 et 100.&nbsp;»\n",
        "- [Pierre] «&nbsp;OK, je vais essayer de le deviner. Est-ce que ton nombre est plus petit ou plus grand que 50&nbsp;?&nbsp;»\n",
        "- [Patrick] «&nbsp;Plus grand.&nbsp;»\n",
        "- [Pierre] «&nbsp;Est-ce que ton nombre est plus petit, plus grand ou égal à 75&nbsp;?&nbsp;»\n",
        "- [Patrick] «&nbsp;Plus grand.&nbsp;»\n",
        "- [Pierre] «&nbsp;Est-ce que ton nombre est plus petit, plus grand ou égal à 87&nbsp;?&nbsp;»\n",
        "- [Patrick] «&nbsp;Plus petit.&nbsp;»\n",
        "- [Pierre] «&nbsp;Est-ce que ton nombre est plus petit, plus grand ou égal à 81&nbsp;?&nbsp;»\n",
        "- [Patrick] «&nbsp;Plus petit.&nbsp;»\n",
        "- [Pierre] «&nbsp;Est-ce que ton nombre est plus petit, plus grand ou égal à 78&nbsp;?&nbsp;»\n",
        "- [Patrick] «&nbsp;Plus grand.&nbsp;»\n",
        "- [Pierre] «&nbsp;Est-ce que ton nombre est plus petit, plus grand ou égal à 79&nbsp;?&nbsp;»\n",
        "- [Patrick] «&nbsp;Égal. C'est le nombre auquel j'avais pensé. Bravo&nbsp;!&nbsp;»\n",
        "\n",
        "Pour arriver rapidement à deviner le nombre, l'astuce consiste à prendre à chaque fois la moitié de l'intervalle dans lequel se trouve le nombre. Voici le détail des différentes étapes&nbsp;:\n",
        "\n",
        "- le nombre se trouve entre 1 et 100, on propose 50 (100 / 2).\n",
        "- le nombre se trouve entre 50 et 100, on propose 75 (50 + (100 - 50) / 2).\n",
        "- le nombre se trouve entre 75 et 100, on propose 87 (75 + (100 - 75) / 2).\n",
        "- le nombre se trouve entre 75 et 87, on propose 81 (75 + (87 - 75) / 2).\n",
        "- le nombre se trouve entre 75 et 81, on propose 78 (75 + (81 - 75) / 2).\n",
        "- le nombre se trouve entre 78 et 81, on propose 79 (78 + (81 - 78) / 2).\n",
        "\n",
        "Créer un script qui reproduit ce jeu de devinettes. Vous pensez à un nombre entre 1 et 100 et l'ordinateur essaie de le deviner par dichotomie en vous posant des questions.\n",
        "\n",
        "Votre programme utilisera la fonction [`input`](https://docs.python.org/fr/3/library/functions.html#input) pour interagir avec l'utilisateur. Voici un exemple de son fonctionnement&nbsp;:\n",
        "\n",
        "```python\n",
        ">>> lettre = input(\"Entrez une lettre : \")\n",
        "Entrez une lettre : P\n",
        ">>> print(lettre)\n",
        "P\n",
        "```\n",
        "\n",
        "Pour vous guider, voici ce que donnerait le programme avec la conversation précédente&nbsp;:\n",
        "\n",
        "```default\n",
        "Pensez à un nombre entre 1 et 100.\n",
        "Est-ce que votre nombre est plus grand, plus petit ou égal à 50 ? [+/-/=] +\n",
        "Est-ce que votre nombre est plus grand, plus petit ou égal à 75 ? [+/-/=] +\n",
        "Est-ce que votre nombre est plus grand, plus petit ou égal à 87 ? [+/-/=] -\n",
        "Est-ce que votre nombre est plus grand, plus petit ou égal à 81 ? [+/-/=] -\n",
        "Est-ce que votre nombre est plus grand, plus petit ou égal à 78 ? [+/-/=] +\n",
        "Est-ce que votre nombre est plus grand, plus petit ou égal à 79 ? [+/-/=] =\n",
        "J'ai trouvé en 6 questions !\n",
        "```\n",
        "\n",
        "Les caractères `[+/-/=]` indiquent à l'utilisateur comment il doit interagir avec l'ordinateur, c'est-à-dire entrer soit le caractère `+` si le nombre choisi est plus grand que le nombre proposé par l'ordinateur, soit le caractère `-` si le nombre choisi est plus petit que le nombre proposé par l'ordinateur, soit le caractère `=` si le nombre choisi est celui proposé par l'ordinateur (en appuyant ensuite sur la touche *Entrée*)."
      ]
    },
    {
      "cell_type": "code",
      "execution_count": null,
      "metadata": {
        "id": "8QTEJSeJ97T_"
      },
      "outputs": [],
      "source": [
        "# Votre code ici"
      ]
    }
  ],
  "metadata": {
    "colab": {
      "collapsed_sections": [
        "jXHz487l9_4O",
        "Lwa61s9D-hl7",
        "VLPZFRQm_WLI",
        "WRilJQpWfHBw",
        "0lNSfwNSANAn",
        "ytDMPjK6BHRQ",
        "J1SFWUjJguhK",
        "9Ync6XnXkzoA",
        "ZG5TXwwRTFzO"
      ],
      "private_outputs": true,
      "provenance": [],
      "toc_visible": true
    },
    "kernelspec": {
      "display_name": "Python 3",
      "name": "python3"
    },
    "language_info": {
      "codemirror_mode": {
        "name": "ipython",
        "version": 3
      },
      "file_extension": ".py",
      "mimetype": "text/x-python",
      "name": "python",
      "nbconvert_exporter": "python",
      "pygments_lexer": "ipython3",
      "version": "3.11.4"
    }
  },
  "nbformat": 4,
  "nbformat_minor": 0
}
