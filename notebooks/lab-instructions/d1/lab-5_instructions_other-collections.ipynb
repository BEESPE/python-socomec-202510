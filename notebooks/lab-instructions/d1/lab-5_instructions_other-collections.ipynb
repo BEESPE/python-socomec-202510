{
  "cells": [
    {
      "cell_type": "markdown",
      "metadata": {
        "id": "b_KsqCE0Ao6Q"
      },
      "source": [
        "# Autres collections : dictionnaires, n-uplets et ensembles"
      ]
    },
    {
      "cell_type": "markdown",
      "metadata": {
        "id": "FNBe5XLbArid"
      },
      "source": [
        "## Bigrammes et trigrammes de lettres\n",
        "\n",
        "Créer un code qui à partir de deux variables, l'une représentant une séquence sous la forme d'une chaîne de caractères, l'autre un entier $n$, calcule tous les sous-séquences de $n$ lettres qui existent dans la séquence et leurs occurrences, sous la forme d'un dictionnaire, et l'affiche. Par exemple, pour la séquence `le chat ronronne` et $n = 2$, le dictionnaire affiché serait :\n",
        "\n",
        "```python\n",
        "{'le': 1, 'e ': 1, ' c': 1, 'ch': 1, 'ha': 1, 'at': 1, 't ': 1, ' r': 1, 'ro': 2, 'on': 2, 'nr': 1, 'nn': 1, 'ne': 1}\n",
        "```"
      ]
    },
    {
      "cell_type": "code",
      "execution_count": null,
      "metadata": {
        "id": "QJE-Tqz6BGFs"
      },
      "outputs": [],
      "source": [
        "chaine = ...\n",
        "n = ...\n",
        "\n",
        "# Votre code"
      ]
    },
    {
      "cell_type": "markdown",
      "metadata": {
        "id": "1qnK5qbUMlCZ"
      },
      "source": [
        "## Quelle personne choisir ?\n",
        "\n",
        "Vous voulez embaucher une personne pour une mission en C++ et Python. Vous avez à votre disposition les informations suivantes (sous forme d'un dictionnaire avec un nom pour clef et des compétences pour valeur).\n",
        "\n",
        "```python\n",
        "competences = {'Alice': ['SAS', 'Python', 'R'],\n",
        "               'Bob': ['HTML', 'JavaScript', 'CSS'],\n",
        "               'Laura': ['C++', 'ASM', 'Python', 'CUDA']}\n",
        "mission = ['C++', 'Python']\n",
        "```\n",
        "\n",
        "Écrire un code pour afficher les noms des personnes compétentes, qui reste valable si les variables `competences` et `mission` changent.\n",
        "\n",
        "Optionnel : convertir la liste des missions en frozenset."
      ]
    },
    {
      "cell_type": "code",
      "execution_count": null,
      "metadata": {
        "id": "AjTsBq9LN1IP"
      },
      "outputs": [],
      "source": [
        "competences = {'Alice': ['SAS', 'Python', 'R'],\n",
        "               'Bob': ['HTML', 'JavaScript', 'CSS'],\n",
        "               'Laura': ['C++', 'ASM', 'Python', 'CUDA']}\n",
        "mission = ['C++', 'Python']\n",
        "\n",
        "# Votre code"
      ]
    },
    {
      "cell_type": "markdown",
      "metadata": {
        "id": "zu4btiMqR5hy"
      },
      "source": [
        "## Manipulation d'ensembles\n",
        "\n",
        "Étant donné les ensembles de caractéristiques de langages de programmation suivants (vous pourrez consulter [la page d'aide de Python](https://docs.python.org/3/library/stdtypes.html#set-types-set-frozenset) sur les ensembles pendant l'exercice) :\n",
        "\n",
        "- Trouver les caractéristiques communes au JavaScript et au Python\n",
        "- Trouver les caractéristiques exclusives du Java par rapport au Python\n",
        "- Quel est l'ensemble complet des caractéristiques ?\n",
        "- Quelles sont les caractéristiques exclusives du Python par rapport à tous les autres langages ?"
      ]
    },
    {
      "cell_type": "code",
      "execution_count": 16,
      "metadata": {
        "id": "hHWC0bWvS0Le"
      },
      "outputs": [],
      "source": [
        "js = {\"typage dynamique\", \"interprété\", \"web natif\", \"orienté prototype\"}\n",
        "python = {\"typage dynamique\", \"interprété\", \"calcul scientifique\", \"orienté objet\"}\n",
        "java = {\"compilé\", \"orienté objet\", \"typage statique\"}\n",
        "\n",
        "langages = [js, python, java]"
      ]
    },
    {
      "cell_type": "code",
      "execution_count": null,
      "metadata": {
        "id": "KRm-9WB9Sh3o"
      },
      "outputs": [],
      "source": [
        "# Votre code"
      ]
    }
  ],
  "metadata": {
    "colab": {
      "collapsed_sections": [
        "lkFqrsDm6Yfa",
        "wp9QBijGXn2c",
        "X6VsxV-LBHxS",
        "IoqaeU-8N7hI",
        "bkx-PtbwnHfH",
        "ebbXsV5qSaFu"
      ],
      "private_outputs": true,
      "provenance": []
    },
    "kernelspec": {
      "display_name": "Python 3",
      "name": "python3"
    },
    "language_info": {
      "codemirror_mode": {
        "name": "ipython",
        "version": 3
      },
      "file_extension": ".py",
      "mimetype": "text/x-python",
      "name": "python",
      "nbconvert_exporter": "python",
      "pygments_lexer": "ipython3",
      "version": "3.13.0"
    }
  },
  "nbformat": 4,
  "nbformat_minor": 0
}
