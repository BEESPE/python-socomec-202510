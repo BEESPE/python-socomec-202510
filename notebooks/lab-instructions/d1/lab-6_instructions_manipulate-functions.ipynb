{
  "cells": [
    {
      "cell_type": "markdown",
      "metadata": {
        "id": "U0sVoVEswAL6"
      },
      "source": [
        "# <font color=\"purple\">Manipuler des fonctions</font>"
      ]
    },
    {
      "cell_type": "markdown",
      "metadata": {
        "id": "JvYQ5EJZwEdK"
      },
      "source": [
        "## Carré et factorielle\n",
        "\n",
        "Analyser le code suivant et essayer de prédire sa sortie :\n",
        "\n",
        "```python\n",
        "def mystery(n):\n",
        "    out = 1\n",
        "    for i in range(2, n + 1):\n",
        "        out = out * i\n",
        "    return out\n",
        "\n",
        "nb = 4\n",
        "calc = mystery(nb)\n",
        "print(\"{}! = {}\".format(nb, calc))\n",
        "nb = 10\n",
        "print(\"{}! = {}\".format(nb, mystery(nb)))\n",
        "```\n",
        "\n",
        "Tester ce code."
      ]
    },
    {
      "cell_type": "code",
      "execution_count": null,
      "metadata": {},
      "outputs": [],
      "source": [
        "def mystery(n):\n",
        "    out = 1\n",
        "    for i in range(2, n + 1):\n",
        "        out = out * i\n",
        "    return out\n",
        "\n",
        "nb = 4\n",
        "calc = mystery(nb)\n",
        "print(\"{}! = {}\".format(nb, calc))\n",
        "nb = 10\n",
        "print(\"{}! = {}\".format(nb, mystery(nb)))"
      ]
    },
    {
      "cell_type": "markdown",
      "metadata": {
        "id": "JzKkUKBswI0C"
      },
      "source": [
        "## Puissance\n",
        "\n",
        "Créer une fonction `calc_puissance` qui renvoie $x^y$ en utilisant l'opérateur `**`. Pour rappel :\n",
        "\n",
        "```python\n",
        ">>> 2 ** 2\n",
        "4\n",
        ">>> 2 ** 3\n",
        "8\n",
        ">>> 2 ** 4\n",
        "16\n",
        "```\n",
        "\n",
        "Dans une fonction `main`, calculez et affichez à l'écran $2^i$ avec $i$ variant de $0$ à $20$ inclus. On souhaite que le résultat soit présenté avec le formatage suivant :\n",
        "\n",
        "```default\n",
        "2^ 0 =       1\n",
        "2^ 1 =       2\n",
        "2^ 2 =       4\n",
        "[...]\n",
        "2^20 = 1048576\n",
        "```"
      ]
    },
    {
      "cell_type": "code",
      "execution_count": 5,
      "metadata": {
        "id": "sYW2PCbkwJY7"
      },
      "outputs": [],
      "source": [
        "# Votre code"
      ]
    },
    {
      "cell_type": "markdown",
      "metadata": {
        "id": "2u9V50VtwOJe"
      },
      "source": [
        "## Pyramide\n",
        "\n",
        "Reprenons l'exercice de dessin d'un triangle/d'une pyramide.\n",
        "\n",
        "Créer une fonction `gen_triangle` qui prend comme argument un nombre entier `n` et qui renvoie un triangle de $n$ lignes sous forme de chaîne de caractères.\n",
        "\n",
        "Créer ensuite une fonction `main` qui demandera à l'utilisateur le nombre de lignes souhaitées (utilisez pour cela la fonction [`input`](https://docs.python.org/fr/3/library/functions.html#input)) et affichera le triangle à l'écran.\n",
        "\n",
        "Bonus : créer non pas un triangle mais une pyramide. Dans ce cas, appeler la fonction `gen_pyramide`. Indication : f\"{'*' * 3:^{20}}\"."
      ]
    },
    {
      "cell_type": "code",
      "execution_count": 7,
      "metadata": {
        "id": "LHIt9kyWwPkk"
      },
      "outputs": [],
      "source": [
        "# Votre code"
      ]
    },
    {
      "cell_type": "markdown",
      "metadata": {
        "id": "fzoG53kPwTPg"
      },
      "source": [
        "## Nombres premiers\n",
        "\n",
        "Reprenons l'exercice sur les nombres premiers.\n",
        "\n",
        "Créer une fonction `est_premier` qui prend comme argument un nombre entier positif $n \\geq 2$ et qui renvoie le booléen `True` si $n$ est premier et `False` si $n$ n'est pas premier. Ensuite, déterminer tous les nombres premiers de 2 à 100 dans une fonction `main`. On souhaite avoir une sortie similaire à celle-ci&nbsp;:\n",
        "\n",
        "```default\n",
        "  2 est premier\n",
        "  3 est premier\n",
        "  4 n'est pas premier\n",
        "[...]\n",
        "100 n'est pas premier\n",
        "```"
      ]
    },
    {
      "cell_type": "code",
      "execution_count": 9,
      "metadata": {
        "id": "FOTuIve2wUfU"
      },
      "outputs": [],
      "source": [
        "# Votre code"
      ]
    },
    {
      "cell_type": "markdown",
      "metadata": {
        "id": "6my1HZlCwXTt"
      },
      "source": [
        "## Séquence complémentaire\n",
        "\n",
        "Reprenons l'exercice de calcul du complémentaire d'un brin d'ADN.\n",
        "\n",
        "Créer une fonction `seq_comp` qui prend comme argument une liste de bases et qui renvoie la séquence complémentaire d'une séquence d'ADN sous forme de liste.\n",
        "\n",
        "Dans le programme principal, à partir de la séquence d'ADN `seq = [\"A\", \"T\", \"C\", \"G\", \"A\", \"T\", \"C\", \"G\", \"A\", \"T\", \"C\"]` afficher `seq` et sa séquence complémentaire (en utilisant la fonction `seq_comp`).\n",
        "\n",
        "Pour rappel, la séquence complémentaire s'obtient en remplaçant `A` par `T`, `T` par `A`, `C` par `G` et `G` par `C`."
      ]
    },
    {
      "cell_type": "code",
      "execution_count": 11,
      "metadata": {
        "id": "YxAUtZCnwX4h"
      },
      "outputs": [],
      "source": [
        "# Votre code"
      ]
    },
    {
      "cell_type": "markdown",
      "metadata": {
        "id": "aq_LQPaqwbZg"
      },
      "source": [
        "## Distance 3D\n",
        "\n",
        "Créer une fonction `calc_distance_3D` qui calcule la distance euclidienne en trois dimensions entre deux points. Tester votre fonction sur les 2 points $A(0, 0, 0)$ et $B(1, 1, 1)$. Trouvez-vous bien $\\sqrt{3}$&nbsp;?\n",
        "\n",
        "On rappelle que la distance euclidienne d entre deux points $A$ et $B$ de coordonnées cartésiennes respectives $(x_A,y_A,z_A)$ et $(x_B,y_B,z_B)$ se calcule comme suit&nbsp;:\n",
        "\n",
        "$$d = \\sqrt{(x_B − x_A)^2 + (y_B − y_A)^2 + (z_B − z_A)^2}$$"
      ]
    },
    {
      "cell_type": "code",
      "execution_count": 14,
      "metadata": {
        "id": "5p1b6Wrewavf"
      },
      "outputs": [],
      "source": [
        "# Votre code"
      ]
    },
    {
      "cell_type": "markdown",
      "metadata": {
        "id": "OKQr_-dGwg9f"
      },
      "source": [
        "## Distribution et statistiques\n",
        "\n",
        "Créer une fonction `gen_distrib` qui prend comme argument trois entiers&nbsp;: `debut`, `fin` et `n`, et qui renvoie une liste de `n` *floats* aléatoires entre `debut` et `fin`. Pour générer un nombre aléatoire dans un intervalle donné, utiliser la fonction [`uniform`](https://docs.python.org/fr/3/library/random.html#random.uniform) du module `random` dont voici quelques exemples d'utilisation&nbsp;:\n",
        "\n",
        "```python\n",
        ">>> import random\n",
        ">>> random.uniform(1, 10)\n",
        "8.199672607202174\n",
        ">>> random.uniform(1, 10)\n",
        "2.607528561528022\n",
        ">>> random.uniform(1, 10)\n",
        "9.000404025130946\n",
        "```\n",
        "\n",
        "Avec la fonction `random.uniform`, les bornes passées en argument sont incluses, c'est-à-dire qu'ici, le nombre aléatoire renvoyé est dans l'intervalle $[1, 10]$.\n",
        "\n",
        "Créer une autre fonction `calc_stat` qui prend en argument une liste de *floats* et qui renvoie un n-uplet de trois éléments contenant respectivement le minimum, le maximum et la moyenne de la liste.\n",
        "\n",
        "Dans une dernière fonction `main` qui prend en argument $n$ le nombre d'éléments à générer pour chaque liste, générer 20 listes aléatoires de $n$ *floats* compris entre 0 et 100 et affichez le minimum ([`min`](https://docs.python.org/fr/3/library/functions.html#min)), le maximum ([`max`](https://docs.python.org/fr/3/library/functions.html#max)) et la moyenne pour chacune d'entre elles. La moyenne pourra être calculée avec les fonctions [`sum`](https://docs.python.org/fr/3/library/functions.html#sum) et [`len`](https://docs.python.org/fr/3/library/functions.html#len).\n",
        "\n",
        "Pour chacune des 20 listes, afficher les statistiques (min, max, et moyenne) avec deux chiffres après la virgule&nbsp;:\n",
        "\n",
        "```default\n",
        "Liste  1 : min = 0.17 ; max = 99.72 ; moyenne = 57.38\n",
        "Liste  2 : min = 1.25 ; max = 99.99 ; moyenne = 47.41\n",
        "[...]\n",
        "Liste 19 : min = 1.05 ; max = 99.36 ; moyenne = 49.43\n",
        "Liste 20 : min = 1.33 ; max = 97.63 ; moyenne = 46.53\n",
        "```\n",
        "\n",
        "Les écarts sur les statistiques entre les différentes listes sont-ils importants&nbsp;? Testez `main` avec $n$ à 20, 1000 et 10&nbsp;000. Les écarts changent-ils quand le nombre d'éléments par liste augmente&nbsp;?"
      ]
    },
    {
      "cell_type": "code",
      "execution_count": 16,
      "metadata": {
        "id": "UdbpdRu9whiR"
      },
      "outputs": [],
      "source": [
        "# Votre code"
      ]
    },
    {
      "cell_type": "markdown",
      "metadata": {
        "id": "TFSF2TQDv0lH"
      },
      "source": [
        "## Distance à l'origine\n",
        "\n",
        "En reprenant la fonction de calcul de distance euclidienne en 3D `calc_distance_3D`, en faire une version pour deux dimensions qu'on appellera `calc_distance_2D`.\n",
        "\n",
        "Créer une autre fonction `calc_distance_listes` à laquelle passer en argument deux listes de *floats* `list_x` et `list_y` représentant les coordonnées d'une fonction mathématique (par exemple $x$ et $\\sin x$). Cette fonction renverra une liste de *floats* représentant la distance entre chaque point de la fonction et l'origine (de coordonnées $(0, 0)$).\n",
        "\n",
        "Le schéma suivant montre un exemple sur quelques points de la fonction $\\sin x$ (courbe en trait épais). Chaque trait pointillé représente la distance que l'on cherche à calculer entre les points de la courbe et l'origine du repère de coordonnées $(0, 0)$.\n",
        "\n",
        "![Illustration de la distance à l'origine.](https://raw.githubusercontent.com/mlambda/langage-python/main/img/sin2ori.png \"Illustration de la distance à l'origine.\")\n",
        "\n",
        "Générer un fichier `sin2ori.dat` qui contiendra deux colonnes&nbsp;: la première représente les $x$, la seconde la distance entre chaque point de la fonction $\\sin x$ à l'origine.\n",
        "\n",
        "Une fois le fichier généré, vous pourrez exécuter la cellule de visualisation."
      ]
    },
    {
      "cell_type": "code",
      "execution_count": 18,
      "metadata": {
        "id": "Nsd4X54_wkjy"
      },
      "outputs": [],
      "source": [
        "# Votre code ici"
      ]
    },
    {
      "cell_type": "code",
      "execution_count": null,
      "metadata": {
        "id": "0HNpuoZFAt2W"
      },
      "outputs": [],
      "source": [
        "import matplotlib.pyplot as plt\n",
        "\n",
        "\n",
        "xs = []\n",
        "ys = []\n",
        "with open(\"sin2ori.dat\", \"r\") as f_in:\n",
        "    for line in f_in:\n",
        "        x, y = map(float, line.split())\n",
        "        xs.append(x)\n",
        "        ys.append(y)\n",
        "plt.figure(figsize=(8, 8))\n",
        "plt.plot(xs, ys)\n",
        "plt.xlabel(\"x\")\n",
        "plt.ylabel(\"Distance de sin(x) à l'origine\")\n",
        "plt.show()"
      ]
    }
  ],
  "metadata": {
    "colab": {
      "collapsed_sections": [
        "BpVe-mCLx8O2",
        "x9Eeon1PzTsA",
        "GNYlmuRF5wSd",
        "dWicOGiu75FN",
        "WtTdhfv01j_a",
        "Z78Hs3609cSU",
        "kWFFZRxaA82W"
      ],
      "private_outputs": true,
      "provenance": [],
      "toc_visible": true
    },
    "kernelspec": {
      "display_name": "test-py3.11",
      "language": "python",
      "name": "python3"
    },
    "language_info": {
      "codemirror_mode": {
        "name": "ipython",
        "version": 3
      },
      "file_extension": ".py",
      "mimetype": "text/x-python",
      "name": "python",
      "nbconvert_exporter": "python",
      "pygments_lexer": "ipython3",
      "version": "3.11.4"
    }
  },
  "nbformat": 4,
  "nbformat_minor": 0
}
