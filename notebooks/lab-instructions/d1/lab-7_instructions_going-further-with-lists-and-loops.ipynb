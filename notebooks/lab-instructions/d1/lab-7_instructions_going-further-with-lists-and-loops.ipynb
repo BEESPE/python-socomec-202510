{
  "cells": [
    {
      "cell_type": "markdown",
      "metadata": {},
      "source": [
        "## Going further with lists, loops and other stuff"
      ]
    },
    {
      "cell_type": "markdown",
      "metadata": {},
      "source": [
        "## <font color=\"green\"> Duplicates </font>\n",
        "\n",
        "Consider the list of integers `a = [5, 1, 1, 2, 5, 6, 3, 4, 4, 4, 2]`.\n",
        "\n",
        "From this list, create a new list without duplicates, sort it, and display it."
      ]
    },
    {
      "cell_type": "code",
      "execution_count": null,
      "metadata": {},
      "outputs": [],
      "source": [
        "# Your code"
      ]
    },
    {
      "cell_type": "markdown",
      "metadata": {},
      "source": [
        "## <font color=\"green\"> Brute force the mystery number </font>\n",
        "\n",
        "Find the mystery number that meets the following conditions:\n",
        "\n",
        "- *It consists of 3 digits.*\n",
        "- *It is strictly less than 300.*\n",
        "- *It is even.*\n",
        "- *Two of its digits are identical.*\n",
        "- *The sum of its digits is equal to 7.*\n",
        "\n",
        "You are suggested to employ a method using a loop and testing the different conditions one way or another at each iteration."
      ]
    },
    {
      "cell_type": "code",
      "execution_count": null,
      "metadata": {},
      "outputs": [],
      "source": [
        "# Your code"
      ]
    },
    {
      "cell_type": "markdown",
      "metadata": {},
      "source": [
        "## <font color=\"green\"> Pascal's triangle </font>\n",
        "\n",
        "To create Pascal's Triangle, one follows this simple pattern:\n",
        "\n",
        "- Start with a 1 at the top.\n",
        "- Each row thereafter starts and ends with a 1.\n",
        "- To find the values inside each row, add the two numbers directly above the current number in the row above.\n",
        "\n",
        "Here is the beginning of Pascal's Triangle:\n",
        "```default\n",
        "1\n",
        "1  1\n",
        "1  2  1\n",
        "1  3  3  1\n",
        "1  4  6  4  1\n",
        "1  5  10 10 5  1\n",
        "[...]\n",
        "```\n",
        "\n",
        "Implement this construction in Python through a function taking the desired size n of the triangle as a parameter and using a loop. Display the first 15 lines of Pascal's Triangle."
      ]
    },
    {
      "cell_type": "code",
      "execution_count": null,
      "metadata": {},
      "outputs": [],
      "source": [
        "# Your code"
      ]
    },
    {
      "cell_type": "markdown",
      "metadata": {},
      "source": [
        "## <font color=\"green\"> Double iteration over lists </font>"
      ]
    },
    {
      "cell_type": "markdown",
      "metadata": {},
      "source": [
        "Let a subsequence of a string be a new string formed from the original string, possibly by deleting certain characters without disturbing the relative positions of the remaining characters (for example, \"ace\" is a subsequence of \"abcde\" whereas \"aec\" is not).\n",
        "\n",
        "Write a function taking as input two strings s and t, and returning True if s is a \"subsequence\" of t, False otherwise.\n"
      ]
    },
    {
      "cell_type": "code",
      "execution_count": null,
      "metadata": {},
      "outputs": [],
      "source": [
        "# Your code"
      ]
    }
  ],
  "metadata": {
    "colab": {
      "collapsed_sections": [
        "NAHFEWYf5dZ_",
        "ZB15J-Zb6hIv",
        "T6YXMy1u7dI1",
        "3mRq22Eq8AEM"
      ],
      "private_outputs": true,
      "provenance": []
    },
    "kernelspec": {
      "display_name": "Python 3",
      "name": "python3"
    },
    "language_info": {
      "codemirror_mode": {
        "name": "ipython",
        "version": 3
      },
      "file_extension": ".py",
      "mimetype": "text/x-python",
      "name": "python",
      "nbconvert_exporter": "python",
      "pygments_lexer": "ipython3",
      "version": "3.11.4"
    }
  },
  "nbformat": 4,
  "nbformat_minor": 0
}
