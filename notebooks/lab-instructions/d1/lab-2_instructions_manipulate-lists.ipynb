{
  "cells": [
    {
      "cell_type": "markdown",
      "metadata": {
        "id": "XBgLFzVZ8PlB"
      },
      "source": [
        "# <font color=\"purple\"> Manipuler des listes </font>"
      ]
    },
    {
      "cell_type": "markdown",
      "metadata": {
        "id": "RQiURHhX5MnI"
      },
      "source": [
        "## <font color=\"green\">1- Les jours de la semaine </font>\n",
        "\n",
        "Créer une liste `week` contenant les 7 jours de la semaine.\n",
        "\n",
        "- A partir de cette liste, comment récupérer d'une part les 5 premiers jours de la semaine, et d'autre part les jours du week-end, en utilisant l'indexation positive ?\n",
        "- Obtenir le même résultat en utilisant l'indexation négative.\n",
        "- Accéder au dernier jour de la semaine.\n",
        "- Inverser les jours de la semaine en une seule commande."
      ]
    },
    {
      "cell_type": "code",
      "execution_count": null,
      "metadata": {
        "id": "POmuZE1v5bNG"
      },
      "outputs": [],
      "source": [
        "# Votre code"
      ]
    },
    {
      "cell_type": "markdown",
      "metadata": {
        "id": "OgYyKCqb5Qaz"
      },
      "source": [
        "## <font color=\"green\">2- Les saisons </font>\n",
        "\n",
        "Créer 4 listes `winter`, `spring`, `summer` et `autumn` contenant les mois correspondants de chacune de ces saisons. Puis, créer une liste `seasons` contenant les listes `winter`, `spring`, `summer` et `autumn`. Prédire ce que les instructions suivantes renverront, puis vérifier le résultat dans l'interpréteur.\n",
        "\n",
        "- `seasons[2]`\n",
        "- `seasons[1][0]`\n",
        "- `seasons[1:2]`\n",
        "- `seasons[:][1]`"
      ]
    },
    {
      "cell_type": "code",
      "execution_count": null,
      "metadata": {
        "id": "zMXxIdLZ5Z8n"
      },
      "outputs": [],
      "source": [
        "# Votre code"
      ]
    },
    {
      "cell_type": "markdown",
      "metadata": {
        "id": "M0D2vYnK5T3i"
      },
      "source": [
        "## <font color=\"green\">3- Table de multiplication de 9 </font>\n",
        "\n",
        "Afficher les résultats de la table de multiplication de 9 (de $9 \\times 1$ à $9 \\times 10$) en une unique commande, en utilisant [`range`](https://docs.python.org/fr/3/library/functions.html#func-range) et [`list`](https://docs.python.org/fr/3/library/functions.html#func-list)."
      ]
    },
    {
      "cell_type": "code",
      "execution_count": null,
      "metadata": {
        "id": "aZ0ZJOTM5YzR"
      },
      "outputs": [],
      "source": [
        "# Votre code"
      ]
    }
  ],
  "metadata": {
    "colab": {
      "collapsed_sections": [
        "NAHFEWYf5dZ_",
        "ZB15J-Zb6hIv",
        "T6YXMy1u7dI1",
        "3mRq22Eq8AEM"
      ],
      "private_outputs": true,
      "provenance": []
    },
    "kernelspec": {
      "display_name": "Python 3",
      "name": "python3"
    },
    "language_info": {
      "codemirror_mode": {
        "name": "ipython",
        "version": 3
      },
      "file_extension": ".py",
      "mimetype": "text/x-python",
      "name": "python",
      "nbconvert_exporter": "python",
      "pygments_lexer": "ipython3",
      "version": "3.11.4"
    }
  },
  "nbformat": 4,
  "nbformat_minor": 0
}
