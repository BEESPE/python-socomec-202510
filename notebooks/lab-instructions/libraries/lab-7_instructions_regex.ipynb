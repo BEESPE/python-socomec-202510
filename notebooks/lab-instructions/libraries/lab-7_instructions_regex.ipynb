{
 "cells": [
  {
   "cell_type": "markdown",
   "id": "105c4851",
   "metadata": {},
   "source": [
    "## Analyse de texte avec des expressions régulières."
   ]
  },
  {
   "cell_type": "code",
   "execution_count": 18,
   "id": "1054f577",
   "metadata": {},
   "outputs": [],
   "source": [
    "import re"
   ]
  },
  {
   "cell_type": "code",
   "execution_count": 19,
   "id": "ce739836",
   "metadata": {},
   "outputs": [],
   "source": [
    "texte = \"\"\"\n",
    "Alice a 25 ans, Bob a 30 ans et Charlie a 22 ans.\n",
    "Leurs emails sont alice@example.com, bob42@example.com, et charlie@sample.net.\n",
    "Le code postal de leurs villes : 75001, 69002, 13003.\n",
    "Le texte est terminé.\n",
    "\"\"\""
   ]
  },
  {
   "cell_type": "markdown",
   "id": "79365ad8",
   "metadata": {},
   "source": [
    "Utiliser re.findall pour extraire tous les nombres du texte. Trouver dans la documentation la syntaxe de re.findall. Trouver sur internet quelle expression dénote les nombres."
   ]
  },
  {
   "cell_type": "code",
   "execution_count": null,
   "id": "e962f32c",
   "metadata": {},
   "outputs": [
    {
     "name": "stdout",
     "output_type": "stream",
     "text": [
      "['25', '30', '22', '42', '75001', '69002', '13003']\n"
     ]
    }
   ],
   "source": [
    "# Votre code ici"
   ]
  },
  {
   "cell_type": "markdown",
   "id": "7120895e",
   "metadata": {},
   "source": [
    "Dans la regex suivante permettant de dénoter les emails, deux morceaux ont été masqués permettant chacun de dénoter un caractère particulier, les retrouver et corriger la regex. <br>\n",
    "Tip : lorsqu'un caractère donné sert déjà dans la discription des regex, on peut dénoter ce caractère dans une chaîne de caractères en le faisant précéder de \\ dans la regex."
   ]
  },
  {
   "cell_type": "code",
   "execution_count": 21,
   "id": "8332b863",
   "metadata": {},
   "outputs": [],
   "source": [
    "regex = r\"[a-zA-Z0-9._%+-]+<masqué>[a-zA-Z0-9.-]+<masqué>[a-zA-Z]{2,}\""
   ]
  },
  {
   "cell_type": "code",
   "execution_count": null,
   "id": "6c7544a1",
   "metadata": {},
   "outputs": [],
   "source": [
    "# Votre code ici"
   ]
  },
  {
   "cell_type": "markdown",
   "id": "083ef8bb",
   "metadata": {},
   "source": [
    "La syntaxe re.match(regex, text) permet de vérifier si le texte particulier texte correspond à l'expression régulière regex. Vérifier si \"bob_bricoleur@benfeld.fr\" et \"Socomec.SA\" sont des emails."
   ]
  },
  {
   "cell_type": "code",
   "execution_count": null,
   "id": "75a0ec5a",
   "metadata": {},
   "outputs": [
    {
     "name": "stdout",
     "output_type": "stream",
     "text": [
      "Email valide\n",
      "Email invalide\n"
     ]
    }
   ],
   "source": [
    "# Votre code ici"
   ]
  },
  {
   "cell_type": "markdown",
   "id": "59a168b2",
   "metadata": {},
   "source": [
    "Utilise re.sub pour masquer les codes postaux en les remplaçant par XXX. S'aider de la documentation pour trouver la bonne syntaxe re re.sub. <br>\n",
    "<br>\n",
    "Tips :\n",
    "- \\b correspond à un word boundary (limite de mot - ce n'est pas un caractère), c'est le meilleur moyen d'isoler des \"mots\"\n",
    "- pour spécifier dans une regex un nombre d'occurrences précis n, on utilise la syntaxe {n}"
   ]
  },
  {
   "cell_type": "code",
   "execution_count": null,
   "id": "e0341dd8",
   "metadata": {},
   "outputs": [],
   "source": [
    "# Votre code ici"
   ]
  },
  {
   "cell_type": "markdown",
   "id": "faf4bcbb",
   "metadata": {},
   "source": [
    "Compléter le code suivant pour compter les occurrences de tous les mots commençant par une majuscule dans le texte."
   ]
  },
  {
   "cell_type": "code",
   "execution_count": null,
   "id": "752a100a",
   "metadata": {},
   "outputs": [],
   "source": [
    "import re\n",
    "from collections import Counter\n",
    "\n",
    "prenom_regex = r\"\\b[A-Z][a-z]+\\b\"\n",
    "\n",
    "prenoms = ...  # à compléter\n",
    "\n",
    "compte_prenoms = Counter(prenoms)\n",
    "print(compte_prenoms)"
   ]
  },
  {
   "cell_type": "markdown",
   "id": "9f9d690c",
   "metadata": {},
   "source": [
    "Que fait le code suivant ? Proposer un meilleur nommage des variables."
   ]
  },
  {
   "cell_type": "code",
   "execution_count": 26,
   "id": "5a21e1da",
   "metadata": {},
   "outputs": [
    {
     "name": "stdout",
     "output_type": "stream",
     "text": [
      "['example.com', 'example.com', 'sample.net']\n"
     ]
    }
   ],
   "source": [
    "result_1 = re.findall(r\"[a-zA-Z0-9._%+-]+@[a-zA-Z0-9.-]+\\.[a-zA-Z]{2,}\", texte)\n",
    "\n",
    "result_2 = [re.search(r\"@([a-zA-Z0-9.-]+\\.[a-zA-Z]{2,})\", result).group(1) for result in result_1]\n",
    "\n",
    "print(result_2)\n"
   ]
  }
 ],
 "metadata": {
  "kernelspec": {
   "display_name": "test-py3.11",
   "language": "python",
   "name": "python3"
  },
  "language_info": {
   "codemirror_mode": {
    "name": "ipython",
    "version": 3
   },
   "file_extension": ".py",
   "mimetype": "text/x-python",
   "name": "python",
   "nbconvert_exporter": "python",
   "pygments_lexer": "ipython3",
   "version": "3.11.4"
  }
 },
 "nbformat": 4,
 "nbformat_minor": 5
}
