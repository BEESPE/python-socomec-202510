{
 "cells": [
  {
   "cell_type": "markdown",
   "id": "62821212",
   "metadata": {},
   "source": [
    "Dans ce TP, nous allons implémenter une collecte simple de données via une API : https://rapidapi.com/edamam/api/edamam-food-and-grocery-database. Cela permet d'enrichir des jeux de données d'images lorsque notre problématique requiert par exemple des images spécifiques.\n",
    "\n",
    "Le but est d'obtenir une extraction des produits à base de champagne dans un fichier “.csv”, contenant pour chaque produit les données suivantes : foodId, label, category, foodContentsLabel, image, ainsi que les images correspondantes."
   ]
  },
  {
   "cell_type": "markdown",
   "id": "59b267fa",
   "metadata": {},
   "source": [
    "Rassembler les imports dans la cellule suivante."
   ]
  },
  {
   "cell_type": "code",
   "execution_count": null,
   "id": "03535818",
   "metadata": {},
   "outputs": [],
   "source": [
    "# Votre code"
   ]
  },
  {
   "cell_type": "markdown",
   "id": "fbda602e",
   "metadata": {},
   "source": [
    "La communication avec une API implique de s'identifier. Cela se fait par l'intermédiaire d'une clef. C'est une bonne pratique de ne pas laisser tout ce qui touche à l'identification en dur dans le code si celui-ci est amené à être partagé. Il existe plusieurs manières d'éviter cet écueil, en voici un bon résumé : https://blog.gitguardian.com/how-to-handle-secrets-in-python/.\n",
    "\n",
    "Ici, pour accélérer la mise en place et ne pas vous faire créer un compte, je vous partage une clef API d'un compte test. Pour autant, nous suivrons le principe de séparer la clef du code en utilisant la méthode 1 du résumé, à savoir par l'intermédiaire d'un fichier .env. ainsi que la librairie dotenv (nom du module), qui nécessitera une installation (nom du package : python-dotenv).\n",
    "\n"
   ]
  },
  {
   "cell_type": "markdown",
   "id": "c061ecdb",
   "metadata": {},
   "source": [
    "Récupérer les variables d'environnement du fichier .env en appelant load_dotenv(). Utiliser os.getenv pour stocker la valeur de la clef API dans une variable. Vérifier TEMPORAIREMENT que la clef a bien été chargée en l'affichant."
   ]
  },
  {
   "cell_type": "code",
   "execution_count": null,
   "id": "f0e13dc6",
   "metadata": {},
   "outputs": [],
   "source": [
    "# Votre code"
   ]
  },
  {
   "cell_type": "markdown",
   "id": "7267d1ed",
   "metadata": {},
   "source": [
    "En observant cette requête exemple :\n",
    "\n",
    "![Code Snippet](../../../docs/images/rapidapi.png)\n",
    "\n",
    "Préparer les champs d'une requête permettant de récolter les produits appartenant au type de nutrition \"cooking\" et contenant au moins l'ingrédient \"champagne\". <br>\n",
    "Trouver le nommage exact des paramètres à renseigner dans la requête grâce à la documentation des paramètres optionnels de l'API."
   ]
  },
  {
   "cell_type": "code",
   "execution_count": null,
   "id": "68030439",
   "metadata": {},
   "outputs": [],
   "source": [
    "# Votre code"
   ]
  },
  {
   "cell_type": "markdown",
   "id": "41452451",
   "metadata": {},
   "source": [
    "A l'aide de la bibliothèque requests, envoyer la requête GET correspondante à l'API. Stocker l'output dans une variable et en faire un affichage."
   ]
  },
  {
   "cell_type": "code",
   "execution_count": null,
   "id": "1881ce74",
   "metadata": {},
   "outputs": [],
   "source": [
    "# Votre code"
   ]
  },
  {
   "cell_type": "markdown",
   "id": "3e9b87e7",
   "metadata": {},
   "source": [
    "La fonction print renvoie le code de la réponse, permettant de confirmer qu'elle fut un succès ou qu'elle a rencontré une erreur. Accéder désormais au contenu de la réponse en utilisant la méthode .json()."
   ]
  },
  {
   "cell_type": "code",
   "execution_count": null,
   "id": "0e8a6a4b",
   "metadata": {},
   "outputs": [],
   "source": [
    "# Votre code"
   ]
  },
  {
   "cell_type": "markdown",
   "id": "32a0ccef",
   "metadata": {},
   "source": [
    "Reconstruire le dataframe correspondant aux données qui nous intéressent (pour rappel, seuls les champs suivants nous intéressent : foodId, label, category, foodContentsLabel, image)."
   ]
  },
  {
   "cell_type": "code",
   "execution_count": null,
   "id": "c7d77e1c",
   "metadata": {},
   "outputs": [],
   "source": [
    "# Votre code"
   ]
  },
  {
   "cell_type": "markdown",
   "id": "a590ebde",
   "metadata": {},
   "source": [
    "Afficher les 10 premiers éléments du dataframe ainsi que sa taille totale."
   ]
  },
  {
   "cell_type": "code",
   "execution_count": null,
   "id": "24b9181d",
   "metadata": {},
   "outputs": [],
   "source": [
    "# Votre code"
   ]
  },
  {
   "cell_type": "markdown",
   "id": "41f08298",
   "metadata": {},
   "source": [
    "Pour certaines lignes, l'image n'est pas disponible et dans ce cas l'URL est à None. Afficher le nombre de lignes dont l'image dispose d'une URL."
   ]
  },
  {
   "cell_type": "code",
   "execution_count": null,
   "id": "b0a2df7d",
   "metadata": {},
   "outputs": [],
   "source": [
    "# Votre code"
   ]
  },
  {
   "cell_type": "markdown",
   "id": "465fc87f",
   "metadata": {},
   "source": [
    "Enregistrer cette extraction au format csv dans le dossier courant."
   ]
  },
  {
   "cell_type": "code",
   "execution_count": null,
   "id": "b0fdfcd0",
   "metadata": {},
   "outputs": [],
   "source": [
    "# Votre code"
   ]
  },
  {
   "cell_type": "markdown",
   "id": "0934e716",
   "metadata": {},
   "source": [
    "Finalement, récupérer les images dont l'URL est renseignée, à l'aide de .content. Les sauvegarder dans le dossier \"images\". Vérifier que le nombre de fichiers téléchargés correspond bien au nombre d'images attendu."
   ]
  },
  {
   "cell_type": "code",
   "execution_count": null,
   "id": "4b08b05b",
   "metadata": {},
   "outputs": [],
   "source": [
    "# Votre code"
   ]
  }
 ],
 "metadata": {
  "kernelspec": {
   "display_name": "test-py3.11",
   "language": "python",
   "name": "python3"
  },
  "language_info": {
   "codemirror_mode": {
    "name": "ipython",
    "version": 3
   },
   "file_extension": ".py",
   "mimetype": "text/x-python",
   "name": "python",
   "nbconvert_exporter": "python",
   "pygments_lexer": "ipython3",
   "version": "3.11.4"
  }
 },
 "nbformat": 4,
 "nbformat_minor": 5
}
