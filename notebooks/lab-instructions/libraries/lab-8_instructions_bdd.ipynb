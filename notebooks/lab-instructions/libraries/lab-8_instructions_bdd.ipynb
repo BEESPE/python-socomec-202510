{
 "cells": [
  {
   "cell_type": "markdown",
   "id": "a91cce60",
   "metadata": {},
   "source": [
    "## Gestion d’une base de données SQLite"
   ]
  },
  {
   "cell_type": "markdown",
   "id": "51a69da6",
   "metadata": {},
   "source": [
    "Derrière ce TP, il y a trois objectifs :\n",
    "\n",
    "- Créer et manipuler une base de données SQLite\n",
    "- Utiliser Python (sqlite3) pour interagir avec la BDD\n",
    "- Rédiger des commandes SQL de base"
   ]
  },
  {
   "cell_type": "code",
   "execution_count": 1,
   "id": "7b720487",
   "metadata": {},
   "outputs": [],
   "source": [
    "import sqlite3"
   ]
  },
  {
   "cell_type": "markdown",
   "id": "a7250319",
   "metadata": {},
   "source": [
    "Avec sqlite3, la connextion avec une BDD fait intervenir deux objets :\n",
    "\n",
    "- conn : objet connexion\n",
    "- cur : objet curseur pour exécuter des commandes SQL\n",
    "\n",
    "Pour créer une Connexion, on utilise sqlite3.connect() en passant en argument le fichier de la BDD \"nom_de_la_base.db\". Si la base n’existe pas, SQLite la crée automatiquement dans le fichier spécifié. <br>\n",
    "L'objet Connection permet ensuite de créer un curseur, en appelant la méthode cursor, pour exécuter des commandes SQL."
   ]
  },
  {
   "cell_type": "markdown",
   "id": "fed51962",
   "metadata": {},
   "source": [
    "Créer une base \"students.db\" dans le répertoire courant ainsi que les objets connexion et curseur nécessaires."
   ]
  },
  {
   "cell_type": "code",
   "execution_count": null,
   "id": "1c1c40e4",
   "metadata": {},
   "outputs": [],
   "source": [
    "# Votre code ici\n",
    "conn = ...\n",
    "cur = ..."
   ]
  },
  {
   "cell_type": "markdown",
   "id": "de3a215e",
   "metadata": {},
   "source": [
    "Compléter le code suivant pour créer une table students avec les colonnes suivantes :\n",
    "\n",
    "- id : entier, clé primaire\n",
    "- name : texte\n",
    "- age : entier"
   ]
  },
  {
   "cell_type": "code",
   "execution_count": null,
   "id": "529bedb2",
   "metadata": {},
   "outputs": [],
   "source": [
    "cur.execute(\"\"\"\n",
    "CREATE TABLE IF NOT EXISTS ... (\n",
    "    ... ... PRIMARY KEY,\n",
    "    name TEXT,\n",
    "    ... ...\n",
    ")\n",
    "\"\"\")\n",
    "conn.commit()"
   ]
  },
  {
   "cell_type": "markdown",
   "id": "661b3a1c",
   "metadata": {},
   "source": [
    "Insérer les étudiants suivants dans la table :\n",
    "\n",
    "| name    | age |\n",
    "| ------- | --- |\n",
    "| Alice   | 25  |\n",
    "| Bob     | 30  |\n",
    "| Charlie | 22  |\n"
   ]
  },
  {
   "cell_type": "code",
   "execution_count": null,
   "id": "9ac8e74e",
   "metadata": {},
   "outputs": [],
   "source": [
    "students = ...\n",
    "cur.executemany(\"INSERT INTO students (name, age) VALUES (?, ?)\", students)\n",
    "conn.commit()"
   ]
  },
  {
   "cell_type": "markdown",
   "id": "ce255727",
   "metadata": {},
   "source": [
    "Récupérer et afficher tous les étudiants."
   ]
  },
  {
   "cell_type": "code",
   "execution_count": null,
   "id": "ee464993",
   "metadata": {},
   "outputs": [],
   "source": [
    "cur.execute(\"SELECT * FROM ...\")\n",
    "for row in cur.fetchall():\n",
    "    print(...)"
   ]
  },
  {
   "cell_type": "markdown",
   "id": "5b650293",
   "metadata": {},
   "source": [
    "Compléter le code précédent pour ne récupérer que les étudiants dont l’âge est strictement supérieur à 24 ans. Pour cela, il faut rajouter WHERE condition dans la requête."
   ]
  },
  {
   "cell_type": "code",
   "execution_count": null,
   "id": "51c981d4",
   "metadata": {},
   "outputs": [],
   "source": [
    "# Votre code ici"
   ]
  },
  {
   "cell_type": "markdown",
   "id": "4f46da30",
   "metadata": {},
   "source": [
    "C'est aujourd'hui l'anniversaire de Charlie et nous n'avons pas de mises à jour automatique des âges... Mettre à jour l'âge de Charlie à 23 ans. Vérifier l'effet de la commande."
   ]
  },
  {
   "cell_type": "code",
   "execution_count": null,
   "id": "f9d15044",
   "metadata": {},
   "outputs": [],
   "source": [
    "cur.execute(\"UPDATE ... SET ... = ? WHERE name = ?\", (..., \"Charlie\"))\n",
    "conn.commit()"
   ]
  },
  {
   "cell_type": "code",
   "execution_count": null,
   "id": "26c52b90",
   "metadata": {},
   "outputs": [],
   "source": [
    "print(cur.execute(\"SELECT * FROM students WHERE name = 'Charlie'\").fetchall())"
   ]
  },
  {
   "cell_type": "markdown",
   "id": "e87e0a45",
   "metadata": {},
   "source": [
    "Récupérer directement de la BDD les étudiants triés par âge croissant. La clause ORDER BY nom_du_champ ASC permet de réaliser ce tri."
   ]
  },
  {
   "cell_type": "code",
   "execution_count": null,
   "id": "ac5a911c",
   "metadata": {},
   "outputs": [],
   "source": [
    "# Votre code ici"
   ]
  },
  {
   "cell_type": "markdown",
   "id": "3229464d",
   "metadata": {},
   "source": [
    "En reprenant la syntaxe précédente permettant de formatter les requêtes, deviner comment supprimer l'étudiant Bob et exécuter cette commande. Vérifier l'effet de cette commande."
   ]
  },
  {
   "cell_type": "code",
   "execution_count": null,
   "id": "de67f16f",
   "metadata": {},
   "outputs": [],
   "source": [
    "# Votre code ici"
   ]
  },
  {
   "cell_type": "markdown",
   "id": "96413c0f",
   "metadata": {},
   "source": [
    "Fermer la connexion (trouver la syntaxe dans la documentation). Vérifier alors l'effet de l'exécution d'une requête après cette fermeture."
   ]
  },
  {
   "cell_type": "code",
   "execution_count": null,
   "id": "33dc1760",
   "metadata": {},
   "outputs": [],
   "source": [
    "# Votre code ici"
   ]
  },
  {
   "cell_type": "markdown",
   "id": "0a63bf3d",
   "metadata": {},
   "source": [
    "Regarder le script example/equivalent_postgres.py et relever les points communs et les principales différences entre l'utilisation d'une BDD SQLite avec sqlite3 et POSTGRESQL avec psycopg2."
   ]
  },
  {
   "cell_type": "markdown",
   "id": "829549ed",
   "metadata": {},
   "source": []
  }
 ],
 "metadata": {
  "kernelspec": {
   "display_name": "test-py3.11",
   "language": "python",
   "name": "python3"
  },
  "language_info": {
   "codemirror_mode": {
    "name": "ipython",
    "version": 3
   },
   "file_extension": ".py",
   "mimetype": "text/x-python",
   "name": "python",
   "nbconvert_exporter": "python",
   "pygments_lexer": "ipython3",
   "version": "3.11.4"
  }
 },
 "nbformat": 4,
 "nbformat_minor": 5
}
