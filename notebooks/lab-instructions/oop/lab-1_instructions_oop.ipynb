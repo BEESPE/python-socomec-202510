{
 "cells": [
  {
   "cell_type": "markdown",
   "id": "6ad010a9",
   "metadata": {},
   "source": [
    "## Gérer ses livres avec l'OOP"
   ]
  },
  {
   "cell_type": "markdown",
   "id": "8d6c19f4",
   "metadata": {},
   "source": [
    "Créer une classe Book avec les attributs title, author, pages. <br>\n",
    "Ajouter un attribut de classe library_name ayant pour valeur \"BNF\". <br>\n",
    "Ajouter une méthode display_info() qui affiche les informations du livre.\n",
    "Ajouter une méthode is_long_book() qui indique si le livre contient strictement plus de 300 pages."
   ]
  },
  {
   "cell_type": "code",
   "execution_count": null,
   "id": "de3de350",
   "metadata": {},
   "outputs": [],
   "source": [
    "# Votre code"
   ]
  },
  {
   "cell_type": "markdown",
   "id": "f0121139",
   "metadata": {},
   "source": [
    "Instancier deux livres différents Python Basics et Advanced Python (le reste des attributs étant à votre discrétion) et afficher leurs informations. Tester la méthode is_long_book()."
   ]
  },
  {
   "cell_type": "code",
   "execution_count": null,
   "id": "fba2d5bc",
   "metadata": {},
   "outputs": [],
   "source": [
    "# Votre code"
   ]
  },
  {
   "cell_type": "markdown",
   "id": "0f913c9f",
   "metadata": {},
   "source": [
    "Ajouter un attribut dynamique 'genre' au premier livre et l'afficher."
   ]
  },
  {
   "cell_type": "code",
   "execution_count": null,
   "id": "5fcebad3",
   "metadata": {},
   "outputs": [],
   "source": [
    "# Votre code"
   ]
  },
  {
   "cell_type": "markdown",
   "id": "8eb627b9",
   "metadata": {},
   "source": [
    "Fin de la première partie.\n",
    "\n",
    "-------------------------------------------------------------------------"
   ]
  },
  {
   "cell_type": "markdown",
   "id": "523e3d1d",
   "metadata": {},
   "source": [
    "Créer une sous-classe EBook qui hérite de Book. <br>\n",
    "Ajouter un attribut supplémentaire file_size (en MB). <br>\n",
    "Redéfinir display_info() pour afficher aussi la taille du fichier."
   ]
  },
  {
   "cell_type": "code",
   "execution_count": null,
   "id": "d6e07dec",
   "metadata": {},
   "outputs": [],
   "source": [
    "# Votre code"
   ]
  },
  {
   "cell_type": "markdown",
   "id": "01779385",
   "metadata": {},
   "source": [
    "Instancier un EBook et tester display_info() et is_long_book()."
   ]
  },
  {
   "cell_type": "code",
   "execution_count": null,
   "id": "aaffc18e",
   "metadata": {},
   "outputs": [],
   "source": [
    "# Votre code"
   ]
  },
  {
   "cell_type": "markdown",
   "id": "ea8a9eae",
   "metadata": {},
   "source": [
    "Modifier library_name pour toutes les instances et tester. <br>\n",
    "Ajouter une méthode add_pages(self, extra_pages) pour ajouter des pages."
   ]
  },
  {
   "cell_type": "code",
   "execution_count": null,
   "id": "3d328896",
   "metadata": {},
   "outputs": [],
   "source": [
    "# Votre code"
   ]
  }
 ],
 "metadata": {
  "kernelspec": {
   "display_name": "Python 3",
   "language": "python",
   "name": "python3"
  },
  "language_info": {
   "codemirror_mode": {
    "name": "ipython",
    "version": 3
   },
   "file_extension": ".py",
   "mimetype": "text/x-python",
   "name": "python",
   "nbconvert_exporter": "python",
   "pygments_lexer": "ipython3",
   "version": "3.13.5"
  }
 },
 "nbformat": 4,
 "nbformat_minor": 5
}
