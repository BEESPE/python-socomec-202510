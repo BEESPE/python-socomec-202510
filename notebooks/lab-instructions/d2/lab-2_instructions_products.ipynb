{
 "cells": [
  {
   "cell_type": "markdown",
   "id": "b87796db",
   "metadata": {},
   "source": [
    "### Identifier les valeurs aberrantes dans `products.csv`\n",
    "\n",
    "Utiliser `pandas` pour charger et analyser les données du fichier CSV `products.csv`. Repérer les valeurs aberrantes (ordre de grandeur : quelques centaines)."
   ]
  },
  {
   "cell_type": "code",
   "execution_count": null,
   "id": "73d87be4",
   "metadata": {},
   "outputs": [],
   "source": [
    "# Votre code ici"
   ]
  },
  {
   "cell_type": "markdown",
   "id": "6b716c4c",
   "metadata": {},
   "source": [
    "Bonus : reprendre l'étude d'une typologie de valeurs aberrantes avec Dask."
   ]
  },
  {
   "cell_type": "code",
   "execution_count": null,
   "id": "39e41b2f",
   "metadata": {},
   "outputs": [],
   "source": [
    "# Votre code ici"
   ]
  }
 ],
 "metadata": {
  "kernelspec": {
   "display_name": "test-py3.11",
   "language": "python",
   "name": "python3"
  },
  "language_info": {
   "codemirror_mode": {
    "name": "ipython",
    "version": 3
   },
   "file_extension": ".py",
   "mimetype": "text/x-python",
   "name": "python",
   "nbconvert_exporter": "python",
   "pygments_lexer": "ipython3",
   "version": "3.11.4"
  }
 },
 "nbformat": 4,
 "nbformat_minor": 5
}
