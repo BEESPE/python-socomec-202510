{
 "cells": [
  {
   "cell_type": "markdown",
   "id": "37675c32",
   "metadata": {},
   "source": [
    "Le fichier apple_history.csv a été en réalité récupéré d'une API en ligne. Le code utilisé est à suivre, mais étant donné que cela sera bloqué à la BCL, téléverser simplement le fichier sur JupyterLab. "
   ]
  },
  {
   "cell_type": "code",
   "execution_count": 1,
   "id": "60e565d3",
   "metadata": {},
   "outputs": [],
   "source": [
    "#import yfinance\n",
    "#\n",
    "#apple = yfinance.Ticker(\"AAPL\")\n",
    "#apple_df = apple.history(period=\"1d\", start=\"2010-01-01\", end=\"2025-01-01\")\n",
    "#print(apple_df.head())"
   ]
  },
  {
   "cell_type": "code",
   "execution_count": 2,
   "id": "acee36b8",
   "metadata": {},
   "outputs": [],
   "source": [
    "# Votre code ici"
   ]
  },
  {
   "cell_type": "markdown",
   "id": "3603b18d",
   "metadata": {},
   "source": [
    "Explorer ce fichier ? Y a-t-il des valeurs manquantes ?"
   ]
  },
  {
   "cell_type": "code",
   "execution_count": 3,
   "id": "752c8b2a",
   "metadata": {},
   "outputs": [],
   "source": [
    "# Votre code ici"
   ]
  },
  {
   "cell_type": "markdown",
   "id": "6a42a076",
   "metadata": {},
   "source": [
    "Visualiser l'historique des prix de clôture sur un graphe simple."
   ]
  },
  {
   "cell_type": "code",
   "execution_count": 4,
   "id": "1311d81f",
   "metadata": {},
   "outputs": [],
   "source": [
    "# Votre code ici"
   ]
  },
  {
   "cell_type": "markdown",
   "id": "e960ee5e",
   "metadata": {},
   "source": [
    "Calculer la variation relative du cours de clôture d'une journée à l'autre. Pour cela, chercher dans la documentation ou sur internet une méthode des Series de pandas réalisant directement ce calcul."
   ]
  },
  {
   "cell_type": "code",
   "execution_count": 5,
   "id": "9d1ec4de",
   "metadata": {},
   "outputs": [],
   "source": [
    "# Votre code ici"
   ]
  },
  {
   "cell_type": "markdown",
   "id": "30d64fa8",
   "metadata": {},
   "source": [
    "A l'aide de scipy, calculer le z-score associé à cette colonne. Déterminer les journées à variations atypiques à partir de ce score (vous pouvez par exemple par un seuil égal à 5, à 3...)."
   ]
  },
  {
   "cell_type": "code",
   "execution_count": 6,
   "id": "fb935b71",
   "metadata": {},
   "outputs": [],
   "source": [
    "# Votre code ici"
   ]
  },
  {
   "cell_type": "markdown",
   "id": "ebc0e8f8",
   "metadata": {},
   "source": [
    "Visualiser les lignes associées, ainsi que les lignes des journées précédentes."
   ]
  },
  {
   "cell_type": "code",
   "execution_count": 7,
   "id": "e445c94d",
   "metadata": {},
   "outputs": [],
   "source": [
    "# Votre code ici"
   ]
  },
  {
   "cell_type": "markdown",
   "id": "d5b89692",
   "metadata": {},
   "source": [
    "Calculer les quartiles Q1 et Q3, l'écart inter-quartile IQR, et repérer les points en dehors de la plage [Q1 - 1,5 IQR; Q3 + 1,5 IQR]. Visualiser les lignes associées, ainsi que les lignes des journées précédentes."
   ]
  },
  {
   "cell_type": "code",
   "execution_count": 8,
   "id": "fb61694b",
   "metadata": {},
   "outputs": [],
   "source": [
    "# Votre code ici"
   ]
  },
  {
   "cell_type": "markdown",
   "id": "d5132fb4",
   "metadata": {},
   "source": [
    "Pour le moment, nous n'avons utilisé qu'une seule colonne (celle des prix de clôture). Visualiser la matrice de corrélation des colonnes du dataframe."
   ]
  },
  {
   "cell_type": "code",
   "execution_count": 9,
   "id": "7e666ad4",
   "metadata": {},
   "outputs": [],
   "source": [
    "# Votre code ici"
   ]
  },
  {
   "cell_type": "markdown",
   "id": "d9c181eb",
   "metadata": {},
   "source": [
    "Utilisons certaines de ces colonnes pour réaliser un modèle simple de prédiction. Essayer de réaliser une régression linéaire du cours de clôture à partir de colonnes que vous jugez pertinentes."
   ]
  },
  {
   "cell_type": "code",
   "execution_count": 10,
   "id": "521a66c7",
   "metadata": {},
   "outputs": [],
   "source": [
    "# Votre code ici"
   ]
  },
  {
   "cell_type": "markdown",
   "id": "f8faba3c",
   "metadata": {},
   "source": [
    "Est-il possible de faire une prédiction du cours de clôture pour aujourd'hui ? Critiquer la regression linéaire pour cette application."
   ]
  },
  {
   "cell_type": "markdown",
   "id": "7adab6fe",
   "metadata": {},
   "source": [
    "Bonus : s'il vous reste du temps, essayer de réaliser une ARIMA sur le cours de clôture."
   ]
  },
  {
   "cell_type": "code",
   "execution_count": 11,
   "id": "a1e9e20d",
   "metadata": {},
   "outputs": [],
   "source": [
    "# Votre code ici"
   ]
  }
 ],
 "metadata": {
  "kernelspec": {
   "display_name": "Python 3",
   "language": "python",
   "name": "python3"
  },
  "language_info": {
   "codemirror_mode": {
    "name": "ipython",
    "version": 3
   },
   "file_extension": ".py",
   "mimetype": "text/x-python",
   "name": "python",
   "nbconvert_exporter": "python",
   "pygments_lexer": "ipython3",
   "version": "3.11.4"
  }
 },
 "nbformat": 4,
 "nbformat_minor": 5
}
