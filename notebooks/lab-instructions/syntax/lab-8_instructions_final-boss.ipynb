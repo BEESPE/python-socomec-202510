{
 "cells": [
  {
   "cell_type": "markdown",
   "metadata": {},
   "source": [
    "### Palindrome number (2 points)"
   ]
  },
  {
   "cell_type": "markdown",
   "metadata": {},
   "source": [
    "Given an integer x, return True if x is a palindrome, and False otherwise."
   ]
  },
  {
   "cell_type": "markdown",
   "metadata": {},
   "source": [
    "Example 1:\n",
    "- Input: x = 121\n",
    "- Output: True\n",
    "- Explanation: 121 reads as 121 from left to right and from right to left.\n",
    "\n",
    "Example 2:\n",
    "- Input: x = -121\n",
    "- Output: False\n",
    "- Explanation: From left to right, it reads -121. From right to left, it becomes 121-. Therefore it is not a palindrome.\n",
    "\n",
    "Example 3:\n",
    "- Input: x = 10\n",
    "- Output: False\n",
    "- Explanation: Reads 01 from right to left. Therefore it is not a palindrome."
   ]
  },
  {
   "cell_type": "code",
   "execution_count": null,
   "metadata": {},
   "outputs": [],
   "source": [
    "def is_palindrome(x: int) -> bool:\n",
    "    pass  # Your code here"
   ]
  },
  {
   "cell_type": "code",
   "execution_count": null,
   "metadata": {},
   "outputs": [],
   "source": [
    "print(is_palindrome(121))  # expected: True\n",
    "print(is_palindrome(-121))  # expected: False\n",
    "print(is_palindrome(10))  # expected: False"
   ]
  },
  {
   "cell_type": "markdown",
   "metadata": {},
   "source": [
    "### Percentage of letter in string (4 points)"
   ]
  },
  {
   "cell_type": "markdown",
   "metadata": {},
   "source": [
    "Given a string s and a character letter, return the percentage of characters in s that equal letter rounded down to the nearest whole percent."
   ]
  },
  {
   "cell_type": "markdown",
   "metadata": {},
   "source": [
    "Example 1:\n",
    "- Input: s = \"foobar\", letter = \"o\"\n",
    "- Output: 33\n",
    "- Explanation:\n",
    "The percentage of characters in s that equal the letter 'o' is 2 / 6 * 100% = 33% when rounded down, so we return 33.\n",
    "\n",
    "Example 2:\n",
    "- Input: s = \"jjjj\", letter = \"k\"\n",
    "- Output: 0\n",
    "- Explanation:\n",
    "The percentage of characters in s that equal the letter 'k' is 0%, so we return 0."
   ]
  },
  {
   "cell_type": "code",
   "execution_count": null,
   "metadata": {},
   "outputs": [],
   "source": [
    "def percentage_letter(s: str, letter: str) -> int:\n",
    "    pass  # Your code here"
   ]
  },
  {
   "cell_type": "code",
   "execution_count": null,
   "metadata": {},
   "outputs": [],
   "source": [
    "print(percentage_letter(\"foobar\", \"o\"))  # expected: 33\n",
    "print(percentage_letter(\"jjjj\", \"k\"))  # expected: 0"
   ]
  },
  {
   "cell_type": "markdown",
   "metadata": {},
   "source": [
    "### Number of steps to reduce a number to 0 (4 points)"
   ]
  },
  {
   "cell_type": "markdown",
   "metadata": {},
   "source": [
    "Given an integer num, return the number of steps to reduce it to zero, given the following context: in one step, if the current number is even, you have to divide it by 2, otherwise, you have to subtract 1 from it."
   ]
  },
  {
   "cell_type": "markdown",
   "metadata": {},
   "source": [
    "Example 1:\n",
    "- Input: num = 14\n",
    "- Output: 6\n",
    "- Explanation: \n",
    "Step 1) 14 is even; divide by 2 and obtain 7. \n",
    "Step 2) 7 is odd; subtract 1 and obtain 6.\n",
    "Step 3) 6 is even; divide by 2 and obtain 3. \n",
    "Step 4) 3 is odd; subtract 1 and obtain 2. \n",
    "Step 5) 2 is even; divide by 2 and obtain 1. \n",
    "Step 6) 1 is odd; subtract 1 and obtain 0.\n",
    "\n",
    "Example 2:\n",
    "- Input: num = 8\n",
    "- Output: 4\n",
    "- Explanation: \n",
    "Step 1) 8 is even; divide by 2 and obtain 4. \n",
    "Step 2) 4 is even; divide by 2 and obtain 2. \n",
    "Step 3) 2 is even; divide by 2 and obtain 1. \n",
    "Step 4) 1 is odd; subtract 1 and obtain 0.\n",
    "\n",
    "Example 3:\n",
    "- Input: num = 123\n",
    "- Output: 12"
   ]
  },
  {
   "cell_type": "code",
   "execution_count": null,
   "metadata": {},
   "outputs": [],
   "source": [
    "def number_of_steps(num: int) -> int:\n",
    "    pass  # Your code here"
   ]
  },
  {
   "cell_type": "code",
   "execution_count": 12,
   "metadata": {},
   "outputs": [
    {
     "name": "stdout",
     "output_type": "stream",
     "text": [
      "6\n",
      "4\n",
      "12\n"
     ]
    }
   ],
   "source": [
    "print(number_of_steps(14))  # expected: 6\n",
    "print(number_of_steps(8))  # expected: 4\n",
    "print(number_of_steps(123))  # expected: 12"
   ]
  },
  {
   "cell_type": "markdown",
   "metadata": {},
   "source": [
    "### Search insert position (4 points)"
   ]
  },
  {
   "cell_type": "markdown",
   "metadata": {},
   "source": [
    "Given a sorted array of distinct integers and a target value, return the index if the target is found. If not, return the index where it would be if it were inserted in order.\n",
    "\n",
    "If possible, try to write an algorithm with O(log n) runtime complexity."
   ]
  },
  {
   "cell_type": "markdown",
   "metadata": {},
   "source": [
    "Example 1:\n",
    "- Input: nums = [1,3,5,6], target = 5\n",
    "- Output: 2\n",
    "\n",
    "Example 2:\n",
    "- Input: nums = [1,3,5,6], target = 2\n",
    "- Output: 1\n",
    "\n",
    "Example 3:\n",
    "- Input: nums = [1,3,5,6], target = 7\n",
    "- Output: 4"
   ]
  },
  {
   "cell_type": "code",
   "execution_count": null,
   "metadata": {},
   "outputs": [],
   "source": [
    "def search_insert(nums: list[int], target: int) -> int:\n",
    "    pass  # Your code here"
   ]
  },
  {
   "cell_type": "code",
   "execution_count": null,
   "metadata": {},
   "outputs": [],
   "source": [
    "print(search_insert([1, 3, 5, 6], 5))  # expected: 2\n",
    "print(search_insert([1, 3, 5, 6], 2))  # expected: 1\n",
    "print(search_insert([1, 3, 5, 6], 7))  # expected: 4"
   ]
  },
  {
   "cell_type": "markdown",
   "metadata": {},
   "source": [
    "### Longest common prefix (5 points)"
   ]
  },
  {
   "cell_type": "markdown",
   "metadata": {},
   "source": [
    "Write a function to find the longest common prefix string amongst an array of strings. (If there is no common prefix, return an empty string \"\".)"
   ]
  },
  {
   "cell_type": "markdown",
   "metadata": {},
   "source": [
    "Example 1:\n",
    "- Input: strs = [\"flower\", \"flow\", \"flight\"]\n",
    "- Output: \"fl\"\n",
    "\n",
    "Example 2:\n",
    "- Input: strs = [\"dog\", \"racecar\", \"car\"]\n",
    "- Output: \"\"\n",
    "- Explanation: There is no common prefix among the input strings."
   ]
  },
  {
   "cell_type": "code",
   "execution_count": null,
   "metadata": {},
   "outputs": [],
   "source": [
    "def longest_common_prefix(strs: list[str]) -> str:\n",
    "    pass  # Your code here"
   ]
  },
  {
   "cell_type": "code",
   "execution_count": 18,
   "metadata": {},
   "outputs": [
    {
     "name": "stdout",
     "output_type": "stream",
     "text": [
      "fl\n",
      "\n"
     ]
    }
   ],
   "source": [
    "print(longest_common_prefix([\"flower\", \"flow\", \"flight\"]))  # expected: \"fl\"\n",
    "print(longest_common_prefix([\"dog\", \"racecar\", \"car\"]))  # expected: \"\""
   ]
  },
  {
   "cell_type": "markdown",
   "metadata": {},
   "source": [
    "### Roman to integer (7 points)"
   ]
  },
  {
   "cell_type": "markdown",
   "metadata": {},
   "source": [
    "Roman numerals are represented by seven different symbols: I, V, X, L, C, D and M.\n",
    "\n",
    "Symbol -> Value<br>\n",
    "I -> 1<br>\n",
    "V -> 5<br>\n",
    "X -> 10<br>\n",
    "L -> 50<br>\n",
    "C -> 100<br>\n",
    "D -> 500<br>\n",
    "M -> 1000<br>\n",
    "\n",
    "For example, 2 is written as II in Roman numeral, just two ones added together. 12 is written as XII, which is simply X + II. The number 27 is written as XXVII, which is XX + V + II.\n",
    "\n",
    "Roman numerals are usually written largest to smallest from left to right. However, the numeral for four is not IIII. Instead, the number four is written as IV. Because the one is before the five we subtract it making four. The same principle applies to the number nine, which is written as IX. There are six instances where subtraction is used:\n",
    "\n",
    "I can be placed before V (5) and X (10) to make 4 and 9. \n",
    "X can be placed before L (50) and C (100) to make 40 and 90. \n",
    "C can be placed before D (500) and M (1000) to make 400 and 900.\n",
    "\n",
    "Given a roman numeral, convert it to an integer."
   ]
  },
  {
   "cell_type": "markdown",
   "metadata": {},
   "source": [
    "Example 1:\n",
    "- Input: s = \"III\"\n",
    "- Output: 3\n",
    "- Explanation: III = 3.\n",
    "\n",
    "Example 2:\n",
    "- Input: s = \"LVIII\"\n",
    "- Output: 58\n",
    "- Explanation: L = 50, V= 5, III = 3.\n",
    "\n",
    "Example 3:\n",
    "- Input: s = \"MCMXCIV\"\n",
    "- Output: 1994\n",
    "- Explanation: M = 1000, CM = 900, XC = 90 and IV = 4."
   ]
  },
  {
   "cell_type": "code",
   "execution_count": null,
   "metadata": {},
   "outputs": [],
   "source": [
    "def roman_to_int(s: str) -> int:\n",
    "    pass  # Your code here"
   ]
  },
  {
   "cell_type": "code",
   "execution_count": 22,
   "metadata": {},
   "outputs": [
    {
     "name": "stdout",
     "output_type": "stream",
     "text": [
      "3\n",
      "58\n",
      "1994\n"
     ]
    }
   ],
   "source": [
    "print(roman_to_int(\"III\"))  # expected: 3\n",
    "print(roman_to_int(\"LVIII\"))  # expected: 58\n",
    "print(roman_to_int(\"MCMXCIV\"))  # expected: 1994"
   ]
  },
  {
   "cell_type": "markdown",
   "metadata": {},
   "source": [
    "### Valid parentheses (6 points)"
   ]
  },
  {
   "cell_type": "markdown",
   "metadata": {},
   "source": [
    "Given a string s containing just the characters '(', ')', '{', '}', '[' and ']', determine if the input string is valid.\n",
    "\n",
    "For an input string to be valid:\n",
    "1. Open brackets must be closed by the same type of brackets.\n",
    "2. Open brackets must be closed in the correct order.\n",
    "3. Every close bracket has a corresponding open bracket of the same type."
   ]
  },
  {
   "cell_type": "markdown",
   "metadata": {},
   "source": [
    "Example 1:\n",
    "- Input: s = \"()\"\n",
    "- Output: True\n",
    "\n",
    "Example 2:\n",
    "- Input: s = \"()[]{}\"\n",
    "- Output: True\n",
    "\n",
    "Example 3:\n",
    "- Input: s = \"(]\"\n",
    "- Output: False\n",
    "\n",
    "Example 4:\n",
    "- Input: s = \"([])\"\n",
    "- Output: True"
   ]
  },
  {
   "cell_type": "code",
   "execution_count": null,
   "metadata": {},
   "outputs": [],
   "source": [
    "def is_valid(s: str) -> bool:\n",
    "    pass  # Your code here"
   ]
  },
  {
   "cell_type": "code",
   "execution_count": null,
   "metadata": {},
   "outputs": [],
   "source": [
    "print(is_valid(\"()\"))  # expected: True\n",
    "print(is_valid(\"()[]{}\"))  # expected: True\n",
    "print(is_valid(\"(]\"))  # expected: False\n",
    "print(is_valid(\"([])\"))  # expected: True"
   ]
  },
  {
   "cell_type": "markdown",
   "metadata": {},
   "source": [
    "### Number of 1 bits (6 points)"
   ]
  },
  {
   "cell_type": "markdown",
   "metadata": {},
   "source": [
    "Given a positive integer n, write a function that returns the number of  set bits in its binary representation (also known as the Hamming weight)."
   ]
  },
  {
   "cell_type": "markdown",
   "metadata": {},
   "source": [
    "Example 1:\n",
    "- Input: n = 11\n",
    "- Output: 3\n",
    "- Explanation:\n",
    "The input binary string 1011 has a total of three set bits.\n",
    "\n",
    "Example 2:\n",
    "- Input: n = 128\n",
    "- Output: 1\n",
    "- Explanation:\n",
    "The input binary string 10000000 has a total of one set bit.\n",
    "\n",
    "Example 3:\n",
    "- Input: n = 2147483645\n",
    "- Output: 30\n",
    "- Explanation:\n",
    "The input binary string 1111111111111111111111111111101 has a total of thirty set bits."
   ]
  },
  {
   "cell_type": "code",
   "execution_count": null,
   "metadata": {},
   "outputs": [],
   "source": [
    "def hamming_weight(n: int) -> int:\n",
    "    pass  # Your code here"
   ]
  },
  {
   "cell_type": "code",
   "execution_count": 8,
   "metadata": {},
   "outputs": [
    {
     "name": "stdout",
     "output_type": "stream",
     "text": [
      "3\n",
      "1\n",
      "30\n"
     ]
    }
   ],
   "source": [
    "print(hamming_weight(11))  # expected: 3\n",
    "print(hamming_weight(128))  # expected: 1\n",
    "print(hamming_weight(2147483645))  # expected: 30"
   ]
  },
  {
   "cell_type": "markdown",
   "metadata": {},
   "source": [
    "### Two sum (6 points)"
   ]
  },
  {
   "cell_type": "markdown",
   "metadata": {},
   "source": [
    "Given an array of integers nums and an integer target, return indices of the two numbers such that they add up to target, given the following context: each input has exactly one solution, and you may not use the same element twice.\n",
    "You can return the answer in any order."
   ]
  },
  {
   "cell_type": "markdown",
   "metadata": {},
   "source": [
    "\n",
    "Example 1:\n",
    "- Input: nums = [2,7,11,15], target = 9\n",
    "- Output: [0,1]\n",
    "- Explanation: Because nums[0] + nums[1] == 9, we return [0, 1].\n",
    "\n",
    "Example 2:\n",
    "- Input: nums = [3,2,4], target = 6\n",
    "- Output: [1,2]\n",
    "\n",
    "Example 3:\n",
    "- Input: nums = [3,3], target = 6\n",
    "- Output: [0,1]"
   ]
  },
  {
   "cell_type": "code",
   "execution_count": null,
   "metadata": {},
   "outputs": [],
   "source": [
    "def two_sum(nums: list[int], target: int) -> list[int]:\n",
    "    pass  # Your code here"
   ]
  },
  {
   "cell_type": "code",
   "execution_count": 14,
   "metadata": {},
   "outputs": [
    {
     "name": "stdout",
     "output_type": "stream",
     "text": [
      "[0, 1]\n",
      "[1, 2]\n",
      "[0, 1]\n"
     ]
    }
   ],
   "source": [
    "print(two_sum([2, 7, 11, 15], 9))  # expected: [0, 1]\n",
    "print(two_sum([3, 2, 4], 6))  # expected: [1, 2]\n",
    "print(two_sum([3, 3], 6))  # expected: [0, 1]"
   ]
  },
  {
   "cell_type": "markdown",
   "metadata": {},
   "source": [
    "### Maximum subarray (17 points)"
   ]
  },
  {
   "cell_type": "markdown",
   "metadata": {},
   "source": [
    "Given an integer array nums, find the subarray with the largest sum, and return its sum."
   ]
  },
  {
   "cell_type": "markdown",
   "metadata": {},
   "source": [
    "Example 1:\n",
    "- Input: nums = [-2, 1, -3, 4, -1, 2, 1, -5, 4]\n",
    "- Output: 6\n",
    "- Explanation: The subarray [4, -1, 2, 1] has the largest sum 6.\n",
    "\n",
    "Example 2:\n",
    "- Input: nums = [1]\n",
    "- Output: 1\n",
    "- Explanation: The subarray [1] has the largest sum 1.\n",
    "\n",
    "Example 3:\n",
    "- Input: nums = [5, 4, -1, 7, 8]\n",
    "- Output: 23\n",
    "- Explanation: The subarray [5, 4, -1, 7, 8] has the largest sum 23."
   ]
  },
  {
   "cell_type": "markdown",
   "metadata": {},
   "source": [
    "\n",
    "Follow up: If you have figured out the O(n) solution, try coding another solution using the divide and conquer approach, which is more subtle."
   ]
  },
  {
   "cell_type": "code",
   "execution_count": null,
   "metadata": {},
   "outputs": [],
   "source": [
    "def max_sub_array(nums: list[int]) -> int:\n",
    "    pass  # Your code here"
   ]
  },
  {
   "cell_type": "code",
   "execution_count": null,
   "metadata": {},
   "outputs": [
    {
     "name": "stdout",
     "output_type": "stream",
     "text": [
      "6\n",
      "1\n",
      "23\n"
     ]
    }
   ],
   "source": [
    "print(max_sub_array([-2, 1, -3, 4, -1, 2, 1, -5, 4]))  # expected: 6\n",
    "print(max_sub_array([1]))  # expected: 1\n",
    "print(max_sub_array([5, 4, -1, 7, 8]))  # expected: 23"
   ]
  }
 ],
 "metadata": {
  "kernelspec": {
   "display_name": "test-yOZBwoax-py3.11",
   "language": "python",
   "name": "python3"
  },
  "language_info": {
   "codemirror_mode": {
    "name": "ipython",
    "version": 3
   },
   "file_extension": ".py",
   "mimetype": "text/x-python",
   "name": "python",
   "nbconvert_exporter": "python",
   "pygments_lexer": "ipython3",
   "version": "3.11.4"
  }
 },
 "nbformat": 4,
 "nbformat_minor": 2
}
